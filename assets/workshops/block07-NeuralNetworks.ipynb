{
 "cells": [
  {
   "cell_type": "markdown",
   "metadata": {},
   "source": [
    "# Block 7 Workshop 07.3: Tensorflow and Keras \n",
    "\n",
    "```\n",
    "date: \"Block 07\"\n",
    "author: \"Daniel Lawson\"\n",
    "email: dan.lawson@bristol.ac.uk\n",
    "output: html_document\n",
    "version: 2.0.0\n",
    "```\n",
    "\n",
    "This is a very simple example of a working neural network approach.\n",
    "\n",
    "# 0. Prerequisites: Tensorflow/Keras setup\n",
    "\n",
    "We first need to install tensorflow and keras (as well as requests to load data).\n",
    "\n",
    "**Important note**: To get Keras to use your GPU (and hence run fast if you have a good one), you have to do more than this. We explore that separately..."
   ]
  },
  {
   "cell_type": "code",
   "execution_count": 1,
   "metadata": {},
   "outputs": [],
   "source": [
    "# !pip install keras matplotlib numpy pandas Requests scikit_learn tensorflow"
   ]
  },
  {
   "cell_type": "markdown",
   "metadata": {},
   "source": [
    "There are also some **optional** packages, that are potentially harder to install. These are explained as wel use them.\n",
    "\n",
    "The first is to install tensorflow that can use the GPU. **Warning**: this is dependent on a lot of details of your system and is only possible for some GPUs on some systems. \n",
    "\n",
    "I've put my hardware's instructions below; you'll need to get it working on Windows (or Linux) you'll need different instructions. These are at:\n",
    "\n",
    "https://www.tensorflow.org/install/pip#windows-native\n",
    "\n",
    "**IMPORTANT NOTE**: You don't need to install these packages to use tensorflow. It will just run on your CPU. This is slower, but appropriate for learning."
   ]
  },
  {
   "cell_type": "code",
   "execution_count": 2,
   "metadata": {},
   "outputs": [],
   "source": [
    "## For macos only:\n",
    "#!pip install tensorflow-macos\n",
    "#!pip install tensorflow-metal\n",
    "\n",
    "## For windows (possibly):\n",
    "## !conda install -y -c conda-forge cudatoolkit=11.2 cudnn=8.1.0\n",
    "# Anything above 2.10 is not supported on the GPU on Windows Native\n",
    "## !pip install \"tensorflow<2.11\""
   ]
  },
  {
   "cell_type": "code",
   "execution_count": 3,
   "metadata": {},
   "outputs": [
    {
     "name": "stdout",
     "output_type": "stream",
     "text": [
      "Num GPUs Available:  1\n"
     ]
    }
   ],
   "source": [
    "import tensorflow as tf\n",
    "print(\"Num GPUs Available: \", len(tf.config.experimental.list_physical_devices('GPU')))"
   ]
  },
  {
   "cell_type": "code",
   "execution_count": 4,
   "metadata": {},
   "outputs": [
    {
     "name": "stdout",
     "output_type": "stream",
     "text": [
      "pipreqs  --savepath requirements-block07.txt /Users/madjl/teach/dst-private/Workshops/__temp_pipreqsnb_folder\n",
      "WARNING: Import named \"Requests\" not found locally. Trying to resolve it at the PyPI server.\n",
      "WARNING: Import named \"Requests\" was resolved to \"requests:2.31.0\" package (https://pypi.org/project/requests/).\n",
      "Please, verify manually the final list of requirements.txt to avoid possible dependency confusions.\n",
      "INFO: Successfully saved requirements file in requirements-block07.txt\n"
     ]
    }
   ],
   "source": [
    "#!pip install pipreqsnb\n",
    "!pipreqsnb --savepath requirements-block07.txt block07-NeuralNetworks.ipynb"
   ]
  },
  {
   "cell_type": "code",
   "execution_count": 5,
   "metadata": {},
   "outputs": [
    {
     "name": "stdout",
     "output_type": "stream",
     "text": [
      "\n",
      "REQUIREMENTS:\n",
      "\n",
      "graphviz==0.20.1\n",
      "keras==2.14.0\n",
      "matplotlib==3.6.0\n",
      "numpy==1.24.4\n",
      "pandas==1.5.0\n",
      "pydot==1.4.2\n",
      "Requests==2.31.0\n",
      "scikit_learn==1.1.3\n",
      "tensorflow==2.10.0\n",
      "tensorflow_macos==2.14.0\n",
      "\n"
     ]
    }
   ],
   "source": [
    "print(\"\\nREQUIREMENTS:\\n\")\n",
    "with open('requirements-block07.txt', 'r') as f:\n",
    "    print(f.read())"
   ]
  },
  {
   "cell_type": "code",
   "execution_count": 6,
   "metadata": {},
   "outputs": [
    {
     "name": "stdout",
     "output_type": "stream",
     "text": [
      "To install current versions, run:\n"
     ]
    },
    {
     "data": {
      "text/plain": [
       "'!pip install graphviz keras matplotlib numpy pandas pydot Requests scikit_learn tensorflow tensorflow_macos'"
      ]
     },
     "execution_count": 6,
     "metadata": {},
     "output_type": "execute_result"
    }
   ],
   "source": [
    "file = open('requirements-block07.txt','r')\n",
    "reqlist = file.readlines()\n",
    "simple= [x.split(\"==\")[0] for x in reqlist]\n",
    "print (\"To install current versions, run:\")\n",
    "\"!pip install \" +\" \".join(simple) "
   ]
  },
  {
   "cell_type": "markdown",
   "metadata": {},
   "source": [
    "As you see, its telling you to install my packages - which is probably wrong for you. So use the package list at the top of the workshop.\n",
    "\n",
    "# 1. Practical reference\n",
    "\n",
    "The setup procedure is borrowed from:\n",
    "\n",
    "https://machinelearningmastery.com/tutorial-first-neural-network-python-keras/\n",
    "\n",
    "We first import the functions that we need:\n"
   ]
  },
  {
   "cell_type": "code",
   "execution_count": 7,
   "metadata": {
    "scrolled": true
   },
   "outputs": [],
   "source": [
    "import tensorflow as tf\n",
    "from keras.models import Sequential\n",
    "from keras.layers import Dense\n",
    "import numpy as np\n",
    "# fix random seed for reproducibility\n",
    "np.random.seed(7)"
   ]
  },
  {
   "cell_type": "markdown",
   "metadata": {},
   "source": [
    "1. Simple neural network on a simple dataset\n",
    "\n",
    "Start with the Pima Indians onset of diabetes dataset. This is a standard machine learning dataset from the UCI Machine Learning repository. It describes patient medical record data for Pima Indians and whether they had an onset of diabetes within five years.\n",
    "\n",
    "As such, it is a binary classification problem (onset of diabetes as 1 or not as 0). All of the input variables that describe each patient are numerical. This makes it easy to use directly with neural networks that expect numerical input and output values, and ideal for our first neural network in Keras.\n",
    "\n",
    "* [Diabetes data](https://raw.githubusercontent.com/jbrownlee/Datasets/master/pima-indians-diabetes.data.csv)\n",
    "* [Diabetes column names](https://raw.githubusercontent.com/jbrownlee/Datasets/master/pima-indians-diabetes.names)\n",
    "\n",
    "## 1.1 Obtaining the Pima Indians Diabetes data\n",
    "\n",
    "\n",
    "Download the dataset and place it in an appropriate data directory, and update the path below to reflect this.\n"
   ]
  },
  {
   "cell_type": "code",
   "execution_count": 8,
   "metadata": {},
   "outputs": [
    {
     "data": {
      "text/plain": [
       "23278"
      ]
     },
     "execution_count": 8,
     "metadata": {},
     "output_type": "execute_result"
    }
   ],
   "source": [
    "import requests\n",
    "url = 'https://raw.githubusercontent.com/jbrownlee/Datasets/master/pima-indians-diabetes.data.csv?raw=true'\n",
    "r = requests.get(url, allow_redirects=True)\n",
    "open('../data/pima-indians-diabetes.data.csv', 'wb').write(r.content)"
   ]
  },
  {
   "cell_type": "code",
   "execution_count": 9,
   "metadata": {},
   "outputs": [],
   "source": [
    "# load pima indians dataset\n",
    "dataset = np.loadtxt(\"../data/pima-indians-diabetes.data.csv\", delimiter=\",\")\n",
    "# split into input (X) and output (Y) variables\n",
    "X = dataset[:,0:8]\n",
    "Y = dataset[:,8]"
   ]
  },
  {
   "cell_type": "code",
   "execution_count": 10,
   "metadata": {},
   "outputs": [
    {
     "data": {
      "text/plain": [
       "(768, 9)"
      ]
     },
     "execution_count": 10,
     "metadata": {},
     "output_type": "execute_result"
    }
   ],
   "source": [
    "dataset.shape"
   ]
  },
  {
   "cell_type": "code",
   "execution_count": 11,
   "metadata": {},
   "outputs": [
    {
     "data": {
      "text/plain": [
       "array([  6.   , 148.   ,  72.   ,  35.   ,   0.   ,  33.6  ,   0.627,\n",
       "        50.   ])"
      ]
     },
     "execution_count": 11,
     "metadata": {},
     "output_type": "execute_result"
    }
   ],
   "source": [
    "X[0,:]"
   ]
  },
  {
   "cell_type": "markdown",
   "metadata": {},
   "source": [
    "If you are having trouble navigating your file system, the following can help:"
   ]
  },
  {
   "cell_type": "markdown",
   "metadata": {},
   "source": [
    "## 1.2 Defining a model\n",
    "\n",
    "Models in Keras are defined as a sequence of layers.\n",
    "\n",
    "We create a Sequential model and add layers one at a time until we are happy with our network topology.\n",
    "\n",
    "The first thing to get right is to ensure the input layer has the right number of inputs. This can be specified when creating the first layer with the input_dim argument and setting it to 8 for the 8 input variables.\n",
    "\n",
    "How do we know the number of layers and their types?\n",
    "\n",
    "This is a very hard question. There are heuristics that we can use and often the best network structure is found through a process of trial and error experimentation. Generally, you need a network large enough to capture the structure of the problem.\n",
    "\n",
    "In this example, we will use a fully-connected network structure with three layers.\n",
    "\n",
    "Fully connected layers are defined using the Dense class. We can specify the number of neurons in the layer as the first argument, the initialization method as the second argument as init and specify the activation function using the activation argument.\n",
    "\n",
    "In this case, we initialize the network weights to a small random number generated from a uniform distribution (‘uniform‘), in this case between 0 and 0.05 because that is the default uniform weight initialization in Keras. Another traditional alternative would be ‘normal’ for small random numbers generated from a Gaussian distribution.\n",
    "\n",
    "We will use the rectifier (‘relu‘) activation function on the first two layers and the sigmoid function in the output layer. It used to be the case that sigmoid and tanh activation functions were preferred for all layers. These days, better performance is achieved using the rectifier activation function. We use a sigmoid on the output layer to ensure our network output is between 0 and 1 and easy to map to either a probability of class 1 or snap to a hard classification of either class with a default threshold of 0.5.\n",
    "\n",
    "We can piece it all together by adding each layer. The first layer has 12 neurons and expects 8 input variables. The second hidden layer has 8 neurons and finally, the output layer has 1 neuron to predict the class (onset of diabetes or not)."
   ]
  },
  {
   "cell_type": "code",
   "execution_count": 12,
   "metadata": {},
   "outputs": [
    {
     "name": "stderr",
     "output_type": "stream",
     "text": [
      "2023-11-01 10:14:11.311445: I metal_plugin/src/device/metal_device.cc:1154] Metal device set to: Apple M1\n",
      "2023-11-01 10:14:11.311481: I metal_plugin/src/device/metal_device.cc:296] systemMemory: 16.00 GB\n",
      "2023-11-01 10:14:11.311496: I metal_plugin/src/device/metal_device.cc:313] maxCacheSize: 5.33 GB\n",
      "2023-11-01 10:14:11.311736: I tensorflow/core/common_runtime/pluggable_device/pluggable_device_factory.cc:306] Could not identify NUMA node of platform GPU ID 0, defaulting to 0. Your kernel may not have been built with NUMA support.\n",
      "2023-11-01 10:14:11.312045: I tensorflow/core/common_runtime/pluggable_device/pluggable_device_factory.cc:272] Created TensorFlow device (/job:localhost/replica:0/task:0/device:GPU:0 with 0 MB memory) -> physical PluggableDevice (device: 0, name: METAL, pci bus id: <undefined>)\n"
     ]
    }
   ],
   "source": [
    "# create model\n",
    "model = Sequential()\n",
    "model.add(Dense(12, input_dim=8, activation='relu'))\n",
    "model.add(Dense(8, activation='relu'))\n",
    "model.add(Dense(1, activation='sigmoid'))"
   ]
  },
  {
   "cell_type": "markdown",
   "metadata": {},
   "source": [
    "## Compiling the model\n",
    "\n",
    "Now that the model is defined, we can compile it.\n",
    "\n",
    "Compiling the model uses the efficient numerical libraries under the covers (the so-called backend) such as Theano or TensorFlow. The backend automatically chooses the best way to represent the network for training and making predictions to run on your hardware, such as CPU or GPU or even distributed.\n",
    "\n",
    "When compiling, we must specify some additional properties required when training the network. Remember training a network means finding the best set of weights to make predictions for this problem.\n",
    "\n",
    "We must specify the loss function to use to evaluate a set of weights, the optimizer used to search through different weights for the network and any optional metrics we would like to collect and report during training.\n",
    "\n",
    "In this case, we will use logarithmic loss, which for a binary classification problem is defined in Keras as “binary_crossentropy“. We will also use the efficient gradient descent algorithm “adam” for no other reason that it is an efficient default. Learn more about the Adam optimization algorithm in the paper “Adam: A Method for Stochastic Optimization“.\n",
    "\n",
    "Finally, because it is a classification problem, we will collect and report the classification accuracy as the metric."
   ]
  },
  {
   "cell_type": "code",
   "execution_count": 13,
   "metadata": {},
   "outputs": [],
   "source": [
    "model.compile(loss='binary_crossentropy', optimizer='adam', metrics=['accuracy'])"
   ]
  },
  {
   "cell_type": "markdown",
   "metadata": {},
   "source": [
    "## Model fitting\n",
    "\n",
    "We have defined our model and compiled it ready for efficient computation.\n",
    "\n",
    "Now it is time to execute the model on some data.\n",
    "\n",
    "We can train or fit our model on our loaded data by calling the fit() function on the model.\n",
    "\n",
    "The training process will run for a fixed number of iterations through the dataset called epochs, that we must specify using the nepochs argument. We can also set the number of instances that are evaluated before a weight update in the network is performed, called the batch size and set using the batch_size argument.\n",
    "\n",
    "For this problem, we will run for a small number of iterations (150) and use a relatively small batch size of 10. Again, these can be chosen experimentally by trial and error."
   ]
  },
  {
   "cell_type": "code",
   "execution_count": 14,
   "metadata": {},
   "outputs": [
    {
     "name": "stdout",
     "output_type": "stream",
     "text": [
      "Epoch 1/150\n"
     ]
    },
    {
     "name": "stderr",
     "output_type": "stream",
     "text": [
      "2023-11-01 10:14:12.258592: I tensorflow/core/grappler/optimizers/custom_graph_optimizer_registry.cc:117] Plugin optimizer for device_type GPU is enabled.\n"
     ]
    },
    {
     "name": "stdout",
     "output_type": "stream",
     "text": [
      "77/77 [==============================] - 3s 10ms/step - loss: 8.9702 - accuracy: 0.4427\n",
      "Epoch 2/150\n",
      "77/77 [==============================] - 0s 6ms/step - loss: 6.2417 - accuracy: 0.3737\n",
      "Epoch 3/150\n",
      "77/77 [==============================] - 0s 6ms/step - loss: 4.9010 - accuracy: 0.3945\n",
      "Epoch 4/150\n",
      "77/77 [==============================] - 0s 5ms/step - loss: 3.1980 - accuracy: 0.4505\n",
      "Epoch 5/150\n",
      "77/77 [==============================] - 0s 6ms/step - loss: 2.0772 - accuracy: 0.4661\n",
      "Epoch 6/150\n",
      "77/77 [==============================] - 0s 6ms/step - loss: 1.6868 - accuracy: 0.5404\n",
      "Epoch 7/150\n",
      "77/77 [==============================] - 0s 6ms/step - loss: 1.3524 - accuracy: 0.5430\n",
      "Epoch 8/150\n",
      "77/77 [==============================] - 0s 5ms/step - loss: 1.1714 - accuracy: 0.5677\n",
      "Epoch 9/150\n",
      "77/77 [==============================] - 0s 6ms/step - loss: 0.9888 - accuracy: 0.5938\n",
      "Epoch 10/150\n",
      "77/77 [==============================] - 0s 5ms/step - loss: 0.8257 - accuracy: 0.6068\n",
      "Epoch 11/150\n",
      "77/77 [==============================] - 0s 6ms/step - loss: 0.7180 - accuracy: 0.6393\n",
      "Epoch 12/150\n",
      "77/77 [==============================] - 0s 5ms/step - loss: 0.7044 - accuracy: 0.6536\n",
      "Epoch 13/150\n",
      "77/77 [==============================] - 0s 6ms/step - loss: 0.6555 - accuracy: 0.6576\n",
      "Epoch 14/150\n",
      "77/77 [==============================] - 0s 5ms/step - loss: 0.6779 - accuracy: 0.6432\n",
      "Epoch 15/150\n",
      "77/77 [==============================] - 0s 5ms/step - loss: 0.6079 - accuracy: 0.6953\n",
      "Epoch 16/150\n",
      "77/77 [==============================] - 0s 6ms/step - loss: 0.6621 - accuracy: 0.6628\n",
      "Epoch 17/150\n",
      "77/77 [==============================] - 0s 6ms/step - loss: 0.6397 - accuracy: 0.6641\n",
      "Epoch 18/150\n",
      "77/77 [==============================] - 0s 6ms/step - loss: 0.7194 - accuracy: 0.6523\n",
      "Epoch 19/150\n",
      "77/77 [==============================] - 0s 6ms/step - loss: 0.6657 - accuracy: 0.6693\n",
      "Epoch 20/150\n",
      "77/77 [==============================] - 0s 6ms/step - loss: 0.7050 - accuracy: 0.6589\n",
      "Epoch 21/150\n",
      "77/77 [==============================] - 0s 5ms/step - loss: 0.6233 - accuracy: 0.6862\n",
      "Epoch 22/150\n",
      "77/77 [==============================] - 0s 5ms/step - loss: 0.6862 - accuracy: 0.6745\n",
      "Epoch 23/150\n",
      "77/77 [==============================] - 0s 6ms/step - loss: 0.6128 - accuracy: 0.6992\n",
      "Epoch 24/150\n",
      "77/77 [==============================] - 0s 6ms/step - loss: 0.6344 - accuracy: 0.6784\n",
      "Epoch 25/150\n",
      "77/77 [==============================] - 0s 5ms/step - loss: 0.6077 - accuracy: 0.6901\n",
      "Epoch 26/150\n",
      "77/77 [==============================] - 0s 5ms/step - loss: 0.6166 - accuracy: 0.7083\n",
      "Epoch 27/150\n",
      "77/77 [==============================] - 0s 6ms/step - loss: 0.6476 - accuracy: 0.6680\n",
      "Epoch 28/150\n",
      "77/77 [==============================] - 0s 6ms/step - loss: 0.6570 - accuracy: 0.6667\n",
      "Epoch 29/150\n",
      "77/77 [==============================] - 0s 5ms/step - loss: 0.6514 - accuracy: 0.6615\n",
      "Epoch 30/150\n",
      "77/77 [==============================] - 0s 5ms/step - loss: 0.6970 - accuracy: 0.6393\n",
      "Epoch 31/150\n",
      "77/77 [==============================] - 0s 6ms/step - loss: 0.6246 - accuracy: 0.6953\n",
      "Epoch 32/150\n",
      "77/77 [==============================] - 0s 5ms/step - loss: 0.6815 - accuracy: 0.6745\n",
      "Epoch 33/150\n",
      "77/77 [==============================] - 0s 5ms/step - loss: 0.6844 - accuracy: 0.6406\n",
      "Epoch 34/150\n",
      "77/77 [==============================] - 0s 6ms/step - loss: 0.6401 - accuracy: 0.6693\n",
      "Epoch 35/150\n",
      "77/77 [==============================] - 0s 6ms/step - loss: 0.6258 - accuracy: 0.6823\n",
      "Epoch 36/150\n",
      "77/77 [==============================] - 0s 5ms/step - loss: 0.6038 - accuracy: 0.6888\n",
      "Epoch 37/150\n",
      "77/77 [==============================] - 0s 6ms/step - loss: 0.6506 - accuracy: 0.6654\n",
      "Epoch 38/150\n",
      "77/77 [==============================] - 0s 5ms/step - loss: 0.6489 - accuracy: 0.6719\n",
      "Epoch 39/150\n",
      "77/77 [==============================] - 0s 5ms/step - loss: 0.6636 - accuracy: 0.6576\n",
      "Epoch 40/150\n",
      "77/77 [==============================] - 0s 5ms/step - loss: 0.6463 - accuracy: 0.6836\n",
      "Epoch 41/150\n",
      "77/77 [==============================] - 0s 5ms/step - loss: 0.6764 - accuracy: 0.6706\n",
      "Epoch 42/150\n",
      "77/77 [==============================] - 0s 5ms/step - loss: 0.6405 - accuracy: 0.6901\n",
      "Epoch 43/150\n",
      "77/77 [==============================] - 0s 5ms/step - loss: 0.6640 - accuracy: 0.6771\n",
      "Epoch 44/150\n",
      "77/77 [==============================] - 0s 5ms/step - loss: 0.6252 - accuracy: 0.6836\n",
      "Epoch 45/150\n",
      "77/77 [==============================] - 0s 5ms/step - loss: 0.6157 - accuracy: 0.6992\n",
      "Epoch 46/150\n",
      "77/77 [==============================] - 0s 5ms/step - loss: 0.6525 - accuracy: 0.6758\n",
      "Epoch 47/150\n",
      "77/77 [==============================] - 0s 5ms/step - loss: 0.6526 - accuracy: 0.6927\n",
      "Epoch 48/150\n",
      "77/77 [==============================] - 0s 5ms/step - loss: 0.5830 - accuracy: 0.7135\n",
      "Epoch 49/150\n",
      "77/77 [==============================] - 0s 5ms/step - loss: 0.5841 - accuracy: 0.7044\n",
      "Epoch 50/150\n",
      "77/77 [==============================] - 0s 5ms/step - loss: 0.6657 - accuracy: 0.6641\n",
      "Epoch 51/150\n",
      "77/77 [==============================] - 0s 5ms/step - loss: 0.6406 - accuracy: 0.6836\n",
      "Epoch 52/150\n",
      "77/77 [==============================] - 0s 5ms/step - loss: 0.6608 - accuracy: 0.6576\n",
      "Epoch 53/150\n",
      "77/77 [==============================] - 0s 5ms/step - loss: 0.5992 - accuracy: 0.6836\n",
      "Epoch 54/150\n",
      "77/77 [==============================] - 0s 5ms/step - loss: 0.6437 - accuracy: 0.6784\n",
      "Epoch 55/150\n",
      "77/77 [==============================] - 0s 5ms/step - loss: 0.6893 - accuracy: 0.6589\n",
      "Epoch 56/150\n",
      "77/77 [==============================] - 0s 5ms/step - loss: 0.9012 - accuracy: 0.6146\n",
      "Epoch 57/150\n",
      "77/77 [==============================] - 0s 5ms/step - loss: 0.6966 - accuracy: 0.6758\n",
      "Epoch 58/150\n",
      "77/77 [==============================] - 0s 5ms/step - loss: 0.6619 - accuracy: 0.6693\n",
      "Epoch 59/150\n",
      "77/77 [==============================] - 0s 5ms/step - loss: 0.6883 - accuracy: 0.6654\n",
      "Epoch 60/150\n",
      "77/77 [==============================] - 0s 6ms/step - loss: 0.6444 - accuracy: 0.6862\n",
      "Epoch 61/150\n",
      "77/77 [==============================] - 0s 5ms/step - loss: 0.6338 - accuracy: 0.6836\n",
      "Epoch 62/150\n",
      "77/77 [==============================] - 0s 5ms/step - loss: 0.5787 - accuracy: 0.7135\n",
      "Epoch 63/150\n",
      "77/77 [==============================] - 0s 5ms/step - loss: 0.6076 - accuracy: 0.6771\n",
      "Epoch 64/150\n",
      "77/77 [==============================] - 0s 5ms/step - loss: 0.6051 - accuracy: 0.7161\n",
      "Epoch 65/150\n",
      "77/77 [==============================] - 0s 5ms/step - loss: 0.6418 - accuracy: 0.6628\n",
      "Epoch 66/150\n",
      "77/77 [==============================] - 0s 5ms/step - loss: 0.7578 - accuracy: 0.6367\n",
      "Epoch 67/150\n",
      "77/77 [==============================] - 0s 5ms/step - loss: 0.6130 - accuracy: 0.6888\n",
      "Epoch 68/150\n",
      "77/77 [==============================] - 0s 5ms/step - loss: 0.6290 - accuracy: 0.6979\n",
      "Epoch 69/150\n",
      "77/77 [==============================] - 0s 5ms/step - loss: 0.6555 - accuracy: 0.6862\n",
      "Epoch 70/150\n",
      "77/77 [==============================] - 0s 5ms/step - loss: 0.6405 - accuracy: 0.6745\n",
      "Epoch 71/150\n",
      "77/77 [==============================] - 0s 5ms/step - loss: 0.6022 - accuracy: 0.7044\n",
      "Epoch 72/150\n",
      "77/77 [==============================] - 0s 5ms/step - loss: 0.6279 - accuracy: 0.6888\n",
      "Epoch 73/150\n",
      "77/77 [==============================] - 0s 5ms/step - loss: 0.6348 - accuracy: 0.6797\n",
      "Epoch 74/150\n",
      "77/77 [==============================] - 0s 5ms/step - loss: 0.6288 - accuracy: 0.6758\n",
      "Epoch 75/150\n",
      "77/77 [==============================] - 0s 5ms/step - loss: 0.5915 - accuracy: 0.7083\n",
      "Epoch 76/150\n",
      "77/77 [==============================] - 0s 5ms/step - loss: 0.6325 - accuracy: 0.6745\n",
      "Epoch 77/150\n",
      "77/77 [==============================] - 0s 5ms/step - loss: 0.5968 - accuracy: 0.7005\n",
      "Epoch 78/150\n",
      "77/77 [==============================] - 0s 6ms/step - loss: 0.5819 - accuracy: 0.7122\n",
      "Epoch 79/150\n",
      "77/77 [==============================] - 0s 5ms/step - loss: 0.6284 - accuracy: 0.6888\n",
      "Epoch 80/150\n",
      "77/77 [==============================] - 0s 5ms/step - loss: 0.6288 - accuracy: 0.6992\n",
      "Epoch 81/150\n",
      "77/77 [==============================] - 0s 5ms/step - loss: 0.5825 - accuracy: 0.7161\n",
      "Epoch 82/150\n",
      "77/77 [==============================] - 0s 5ms/step - loss: 0.6710 - accuracy: 0.6745\n",
      "Epoch 83/150\n"
     ]
    },
    {
     "name": "stdout",
     "output_type": "stream",
     "text": [
      "77/77 [==============================] - 0s 5ms/step - loss: 0.5918 - accuracy: 0.7083\n",
      "Epoch 84/150\n",
      "77/77 [==============================] - 0s 5ms/step - loss: 0.6252 - accuracy: 0.6992\n",
      "Epoch 85/150\n",
      "77/77 [==============================] - 0s 5ms/step - loss: 0.6118 - accuracy: 0.6888\n",
      "Epoch 86/150\n",
      "77/77 [==============================] - 0s 5ms/step - loss: 0.6563 - accuracy: 0.6784\n",
      "Epoch 87/150\n",
      "77/77 [==============================] - 0s 5ms/step - loss: 0.6432 - accuracy: 0.6953\n",
      "Epoch 88/150\n",
      "77/77 [==============================] - 0s 5ms/step - loss: 0.5992 - accuracy: 0.7018\n",
      "Epoch 89/150\n",
      "77/77 [==============================] - 0s 5ms/step - loss: 0.6499 - accuracy: 0.6901\n",
      "Epoch 90/150\n",
      "77/77 [==============================] - 0s 5ms/step - loss: 0.6344 - accuracy: 0.7070\n",
      "Epoch 91/150\n",
      "77/77 [==============================] - 0s 5ms/step - loss: 0.6128 - accuracy: 0.7096\n",
      "Epoch 92/150\n",
      "77/77 [==============================] - 0s 5ms/step - loss: 0.6804 - accuracy: 0.6706\n",
      "Epoch 93/150\n",
      "77/77 [==============================] - 0s 5ms/step - loss: 0.6383 - accuracy: 0.7083\n",
      "Epoch 94/150\n",
      "77/77 [==============================] - 0s 6ms/step - loss: 0.6259 - accuracy: 0.7005\n",
      "Epoch 95/150\n",
      "77/77 [==============================] - 0s 6ms/step - loss: 0.6820 - accuracy: 0.6836\n",
      "Epoch 96/150\n",
      "77/77 [==============================] - 0s 6ms/step - loss: 0.6604 - accuracy: 0.6862\n",
      "Epoch 97/150\n",
      "77/77 [==============================] - 0s 6ms/step - loss: 0.6795 - accuracy: 0.6888\n",
      "Epoch 98/150\n",
      "77/77 [==============================] - 0s 5ms/step - loss: 0.5967 - accuracy: 0.7266\n",
      "Epoch 99/150\n",
      "77/77 [==============================] - 0s 5ms/step - loss: 0.5845 - accuracy: 0.7096\n",
      "Epoch 100/150\n",
      "77/77 [==============================] - 0s 6ms/step - loss: 0.6107 - accuracy: 0.7109\n",
      "Epoch 101/150\n",
      "77/77 [==============================] - 0s 5ms/step - loss: 0.6041 - accuracy: 0.7031\n",
      "Epoch 102/150\n",
      "77/77 [==============================] - 0s 5ms/step - loss: 0.6498 - accuracy: 0.6810\n",
      "Epoch 103/150\n",
      "77/77 [==============================] - 0s 6ms/step - loss: 0.6409 - accuracy: 0.6836\n",
      "Epoch 104/150\n",
      "77/77 [==============================] - 0s 5ms/step - loss: 0.6753 - accuracy: 0.6810\n",
      "Epoch 105/150\n",
      "77/77 [==============================] - 0s 5ms/step - loss: 0.6660 - accuracy: 0.6992\n",
      "Epoch 106/150\n",
      "77/77 [==============================] - 0s 5ms/step - loss: 0.8341 - accuracy: 0.6523\n",
      "Epoch 107/150\n",
      "77/77 [==============================] - 0s 5ms/step - loss: 0.5932 - accuracy: 0.7174\n",
      "Epoch 108/150\n",
      "77/77 [==============================] - 1s 9ms/step - loss: 0.6239 - accuracy: 0.7148\n",
      "Epoch 109/150\n",
      "77/77 [==============================] - 0s 5ms/step - loss: 0.6123 - accuracy: 0.6914\n",
      "Epoch 110/150\n",
      "77/77 [==============================] - 0s 6ms/step - loss: 0.6734 - accuracy: 0.6719\n",
      "Epoch 111/150\n",
      "77/77 [==============================] - 0s 6ms/step - loss: 0.6069 - accuracy: 0.6992\n",
      "Epoch 112/150\n",
      "77/77 [==============================] - 0s 6ms/step - loss: 0.6963 - accuracy: 0.6862\n",
      "Epoch 113/150\n",
      "77/77 [==============================] - 0s 5ms/step - loss: 0.6851 - accuracy: 0.6953\n",
      "Epoch 114/150\n",
      "77/77 [==============================] - 0s 5ms/step - loss: 0.6593 - accuracy: 0.6888\n",
      "Epoch 115/150\n",
      "77/77 [==============================] - 0s 5ms/step - loss: 0.6904 - accuracy: 0.7057\n",
      "Epoch 116/150\n",
      "77/77 [==============================] - 0s 5ms/step - loss: 0.6045 - accuracy: 0.7109\n",
      "Epoch 117/150\n",
      "77/77 [==============================] - 0s 5ms/step - loss: 0.5982 - accuracy: 0.7266\n",
      "Epoch 118/150\n",
      "77/77 [==============================] - 0s 5ms/step - loss: 0.6111 - accuracy: 0.7057\n",
      "Epoch 119/150\n",
      "77/77 [==============================] - 0s 5ms/step - loss: 0.5556 - accuracy: 0.7318\n",
      "Epoch 120/150\n",
      "77/77 [==============================] - 0s 5ms/step - loss: 0.5610 - accuracy: 0.7266\n",
      "Epoch 121/150\n",
      "77/77 [==============================] - 0s 5ms/step - loss: 0.5853 - accuracy: 0.7148\n",
      "Epoch 122/150\n",
      "77/77 [==============================] - 1s 7ms/step - loss: 0.5493 - accuracy: 0.7331\n",
      "Epoch 123/150\n",
      "77/77 [==============================] - 0s 6ms/step - loss: 0.5711 - accuracy: 0.7279\n",
      "Epoch 124/150\n",
      "77/77 [==============================] - 0s 6ms/step - loss: 0.5785 - accuracy: 0.7188\n",
      "Epoch 125/150\n",
      "77/77 [==============================] - 1s 7ms/step - loss: 0.5741 - accuracy: 0.7292\n",
      "Epoch 126/150\n",
      "77/77 [==============================] - 0s 6ms/step - loss: 0.6084 - accuracy: 0.7057\n",
      "Epoch 127/150\n",
      "77/77 [==============================] - 0s 6ms/step - loss: 0.7807 - accuracy: 0.6771\n",
      "Epoch 128/150\n",
      "77/77 [==============================] - 0s 5ms/step - loss: 0.8274 - accuracy: 0.6419\n",
      "Epoch 129/150\n",
      "77/77 [==============================] - 0s 5ms/step - loss: 0.6644 - accuracy: 0.6888\n",
      "Epoch 130/150\n",
      "77/77 [==============================] - 0s 6ms/step - loss: 0.6687 - accuracy: 0.6654\n",
      "Epoch 131/150\n",
      "77/77 [==============================] - 0s 6ms/step - loss: 0.7297 - accuracy: 0.6745\n",
      "Epoch 132/150\n",
      "77/77 [==============================] - 0s 6ms/step - loss: 0.5703 - accuracy: 0.7383\n",
      "Epoch 133/150\n",
      "77/77 [==============================] - 0s 6ms/step - loss: 0.6084 - accuracy: 0.7122\n",
      "Epoch 134/150\n",
      "77/77 [==============================] - 0s 6ms/step - loss: 0.5792 - accuracy: 0.7253\n",
      "Epoch 135/150\n",
      "77/77 [==============================] - 0s 5ms/step - loss: 0.6169 - accuracy: 0.7109\n",
      "Epoch 136/150\n",
      "77/77 [==============================] - 0s 5ms/step - loss: 0.5882 - accuracy: 0.7148\n",
      "Epoch 137/150\n",
      "77/77 [==============================] - 0s 6ms/step - loss: 0.5872 - accuracy: 0.7305\n",
      "Epoch 138/150\n",
      "77/77 [==============================] - 0s 6ms/step - loss: 0.5979 - accuracy: 0.7122\n",
      "Epoch 139/150\n",
      "77/77 [==============================] - 0s 6ms/step - loss: 0.7405 - accuracy: 0.6693\n",
      "Epoch 140/150\n",
      "77/77 [==============================] - 0s 5ms/step - loss: 0.6951 - accuracy: 0.7005\n",
      "Epoch 141/150\n",
      "77/77 [==============================] - 0s 5ms/step - loss: 0.7730 - accuracy: 0.6732\n",
      "Epoch 142/150\n",
      "77/77 [==============================] - 0s 6ms/step - loss: 0.6598 - accuracy: 0.7031\n",
      "Epoch 143/150\n",
      "77/77 [==============================] - 0s 6ms/step - loss: 0.7204 - accuracy: 0.6797\n",
      "Epoch 144/150\n",
      "77/77 [==============================] - 0s 6ms/step - loss: 0.5794 - accuracy: 0.7305\n",
      "Epoch 145/150\n",
      "77/77 [==============================] - 0s 5ms/step - loss: 0.7140 - accuracy: 0.6797\n",
      "Epoch 146/150\n",
      "77/77 [==============================] - 0s 5ms/step - loss: 0.6248 - accuracy: 0.7122\n",
      "Epoch 147/150\n",
      "77/77 [==============================] - 0s 5ms/step - loss: 0.6222 - accuracy: 0.7148\n",
      "Epoch 148/150\n",
      "77/77 [==============================] - 0s 5ms/step - loss: 0.6308 - accuracy: 0.7135\n",
      "Epoch 149/150\n",
      "77/77 [==============================] - 0s 5ms/step - loss: 0.5945 - accuracy: 0.7148\n",
      "Epoch 150/150\n",
      "77/77 [==============================] - 0s 5ms/step - loss: 0.6998 - accuracy: 0.7148\n"
     ]
    },
    {
     "data": {
      "text/plain": [
       "<keras.src.callbacks.History at 0x291a57df0>"
      ]
     },
     "execution_count": 14,
     "metadata": {},
     "output_type": "execute_result"
    }
   ],
   "source": [
    "model.fit(X, Y, epochs=150, batch_size=10)"
   ]
  },
  {
   "cell_type": "markdown",
   "metadata": {},
   "source": [
    "## 1.3 Model evaluation\n",
    "\n",
    "This is the **training** accuracy."
   ]
  },
  {
   "cell_type": "code",
   "execution_count": 15,
   "metadata": {},
   "outputs": [
    {
     "name": "stdout",
     "output_type": "stream",
     "text": [
      "24/24 [==============================] - 0s 3ms/step - loss: 0.5437 - accuracy: 0.7500\n",
      "\n",
      "accuracy: 75.00%\n"
     ]
    }
   ],
   "source": [
    "# evaluate the model\n",
    "scores = model.evaluate(X, Y)\n",
    "print(\"\\n%s: %.2f%%\" % (model.metrics_names[1], scores[1]*100))"
   ]
  },
  {
   "cell_type": "markdown",
   "metadata": {},
   "source": [
    "Now we'll extract the predictions and compare the direction of error."
   ]
  },
  {
   "cell_type": "code",
   "execution_count": 16,
   "metadata": {},
   "outputs": [
    {
     "name": "stdout",
     "output_type": "stream",
     "text": [
      "24/24 [==============================] - 0s 1ms/step\n"
     ]
    }
   ],
   "source": [
    "predictions = model.predict(X)\n",
    "rounded = [round(x[0]) for x in predictions]"
   ]
  },
  {
   "cell_type": "code",
   "execution_count": 17,
   "metadata": {},
   "outputs": [
    {
     "data": {
      "text/html": [
       "<div>\n",
       "<style scoped>\n",
       "    .dataframe tbody tr th:only-of-type {\n",
       "        vertical-align: middle;\n",
       "    }\n",
       "\n",
       "    .dataframe tbody tr th {\n",
       "        vertical-align: top;\n",
       "    }\n",
       "\n",
       "    .dataframe thead th {\n",
       "        text-align: right;\n",
       "    }\n",
       "</style>\n",
       "<table border=\"1\" class=\"dataframe\">\n",
       "  <thead>\n",
       "    <tr style=\"text-align: right;\">\n",
       "      <th>col_0</th>\n",
       "      <th>Residual</th>\n",
       "    </tr>\n",
       "    <tr>\n",
       "      <th>row_0</th>\n",
       "      <th></th>\n",
       "    </tr>\n",
       "  </thead>\n",
       "  <tbody>\n",
       "    <tr>\n",
       "      <th>-1.0</th>\n",
       "      <td>165</td>\n",
       "    </tr>\n",
       "    <tr>\n",
       "      <th>0.0</th>\n",
       "      <td>576</td>\n",
       "    </tr>\n",
       "    <tr>\n",
       "      <th>1.0</th>\n",
       "      <td>27</td>\n",
       "    </tr>\n",
       "  </tbody>\n",
       "</table>\n",
       "</div>"
      ],
      "text/plain": [
       "col_0  Residual\n",
       "row_0          \n",
       "-1.0        165\n",
       " 0.0        576\n",
       " 1.0         27"
      ]
     },
     "execution_count": 17,
     "metadata": {},
     "output_type": "execute_result"
    }
   ],
   "source": [
    "import pandas as pd\n",
    "pd.crosstab(rounded-Y,columns=\"Residual\")"
   ]
  },
  {
   "cell_type": "markdown",
   "metadata": {},
   "source": [
    "# 2.1 An image example from Keras\n",
    "\n",
    "[Keras](https://keras.io/examples) has some excellent examples. This one on playing that age-old game \"Cat or Dog?\" is from https://keras.io/examples/vision/image_classification_from_scratch/.\n",
    "\n",
    "The problem with this example is that it is very slow to run. Unless you have a GPU, and can get it working, you will be waiting a long time for this to process. I've made the images unrealistically small, and reduced the size of the neural network, so that it will still run on your laptops without a GPU.  But its still slow.\n",
    "\n",
    "The first thing is to import the required libraries. These are not new imports, just importing the namespaces differently."
   ]
  },
  {
   "cell_type": "code",
   "execution_count": 18,
   "metadata": {},
   "outputs": [],
   "source": [
    "from tensorflow import keras\n",
    "from tensorflow.keras import layers"
   ]
  },
  {
   "cell_type": "markdown",
   "metadata": {},
   "source": [
    "### 2.1.1 Obtain the data\n",
    "\n",
    "We download the **786Mb** ZIP archive of the raw data. This is a Kaggle dataset from Microsoft. it goes in the folder `PetImages` in the current directory, with two subdirectories: `Cat` and... `Dog`."
   ]
  },
  {
   "cell_type": "code",
   "execution_count": 19,
   "metadata": {},
   "outputs": [
    {
     "name": "stdout",
     "output_type": "stream",
     "text": [
      "curl: Failed to extract a sensible file name from the URL to use for storage!\r\n",
      "curl: (3) URL using bad/illegal format or missing URL\r\n"
     ]
    }
   ],
   "source": [
    "\n",
    "!curl -O h§bttps://download.microsoft.com/download/3/E/1/3E1C3F21-ECDB-4869-8368-6DEBA77B919F/kagglecatsanddogs_5340.zip"
   ]
  },
  {
   "cell_type": "code",
   "execution_count": 25,
   "metadata": {},
   "outputs": [],
   "source": [
    "# \n",
    "# !unzip -f -q kagglecatsanddogs_5340.zip"
   ]
  },
  {
   "cell_type": "code",
   "execution_count": 26,
   "metadata": {},
   "outputs": [
    {
     "name": "stdout",
     "output_type": "stream",
     "text": [
      "\u001b[34mCat\u001b[m\u001b[m \u001b[34mDog\u001b[m\u001b[m\r\n"
     ]
    }
   ],
   "source": [
    "!ls PetImages"
   ]
  },
  {
   "cell_type": "markdown",
   "metadata": {},
   "source": [
    "### 2.1.2 Filter out corrupted images\n",
    "\n",
    "When working with lots of real-world image data, corrupted images are a common occurence. Let's filter out badly-encoded images that do not feature the string \"JFIF\" in their header."
   ]
  },
  {
   "cell_type": "code",
   "execution_count": 27,
   "metadata": {},
   "outputs": [
    {
     "name": "stdout",
     "output_type": "stream",
     "text": [
      "Deleted 0 images\n"
     ]
    }
   ],
   "source": [
    "import os\n",
    "\n",
    "num_skipped = 0\n",
    "for folder_name in (\"Cat\", \"Dog\"):\n",
    "    folder_path = os.path.join(\"PetImages\", folder_name)\n",
    "    for fname in os.listdir(folder_path):\n",
    "        fpath = os.path.join(folder_path, fname)\n",
    "        try:\n",
    "            fobj = open(fpath, \"rb\")\n",
    "            is_jfif = tf.compat.as_bytes(\"JFIF\") in fobj.peek(10)\n",
    "        finally:\n",
    "            fobj.close()\n",
    "\n",
    "        if not is_jfif:\n",
    "            num_skipped += 1\n",
    "            # Delete corrupted image\n",
    "            os.remove(fpath)\n",
    "\n",
    "print(\"Deleted %d images\" % num_skipped)"
   ]
  },
  {
   "cell_type": "markdown",
   "metadata": {},
   "source": [
    "### 3.1.3 Generate a Dataset\n",
    "\n",
    "Here we will load these data into python. This does **not** read the data, but creates an interface by which the data can be read from disk when needed.\n",
    "\n",
    "The settings below are very very small images (32 by 32 pixels). The original analysis used 160 by 160. This is necessary to make it tolerably quick. Its still very slow."
   ]
  },
  {
   "cell_type": "code",
   "execution_count": 28,
   "metadata": {},
   "outputs": [
    {
     "name": "stdout",
     "output_type": "stream",
     "text": [
      "Found 23410 files belonging to 2 classes.\n",
      "Using 18728 files for training.\n",
      "Using 4682 files for validation.\n"
     ]
    }
   ],
   "source": [
    "image_size = (32, 32) # For GPUs, making this 2^x can speed up the analysis. 32 is VERY VERY small!\n",
    "batch_size = 128\n",
    "\n",
    "train_ds, val_ds = tf.keras.utils.image_dataset_from_directory(\n",
    "    \"PetImages\",\n",
    "    validation_split=0.2,\n",
    "    subset=\"both\",\n",
    "    seed=1337,\n",
    "    image_size=image_size,\n",
    "    batch_size=batch_size,\n",
    ")"
   ]
  },
  {
   "cell_type": "markdown",
   "metadata": {},
   "source": [
    "### 3.1.4 Visualize the data\n",
    "\n",
    "Here are the first 9 images in the training dataset. As you can see, label 1 is \"dog\" and label 0 is \"cat\". You can also see how blurry it is, but the cat/dog distinction is there."
   ]
  },
  {
   "cell_type": "code",
   "execution_count": 29,
   "metadata": {},
   "outputs": [
    {
     "name": "stderr",
     "output_type": "stream",
     "text": [
      "Corrupt JPEG data: 2226 extraneous bytes before marker 0xd9\n"
     ]
    },
    {
     "data": {
      "image/png": "[encoded data removed]",
      "text/plain": [
       "<Figure size 1000x1000 with 9 Axes>"
      ]
     },
     "metadata": {},
     "output_type": "display_data"
    }
   ],
   "source": [
    "import matplotlib.pyplot as plt\n",
    "\n",
    "plt.figure(figsize=(10, 10))\n",
    "for images, labels in train_ds.take(1):\n",
    "    for i in range(9):\n",
    "        ax = plt.subplot(3, 3, i + 1)\n",
    "        plt.imshow(images[i].numpy().astype(\"uint8\"))\n",
    "        plt.title(int(labels[i]))\n",
    "        plt.axis(\"off\")\n"
   ]
  },
  {
   "cell_type": "markdown",
   "metadata": {},
   "source": [
    "### 3.1.5 Data Augmentation\n",
    "\n",
    "The example then augments the data with more images via flipping. Examine what they do.\n",
    "\n",
    "We will **not** do this, just to keep the processing time down. But you should do that (and more) for an assessment.\n",
    "\n",
    "\n",
    "### 3.2.1 Model definition\n",
    "\n",
    "Our image are already in a standard size (32x32), as they are being yielded as contiguous float32 batches by our dataset. However, their RGB channel values are in the [0, 255] range. This is not ideal for a neural network; in general you should seek to make your input values small. Here, we will standardize values to be in the [0, 1] by using a Rescaling layer at the start of our model.\n",
    "\n",
    "We then apply a convolution layer, renormalise, and then add increasingly large layers (to retain all combinations of convolutions)."
   ]
  },
  {
   "cell_type": "code",
   "execution_count": 30,
   "metadata": {},
   "outputs": [],
   "source": [
    "def make_model(input_shape, num_classes):\n",
    "    inputs = keras.Input(shape=input_shape)\n",
    "\n",
    "    # Entry block\n",
    "    x = layers.Rescaling(1.0 / 255)(inputs)\n",
    "    x = layers.Conv2D(32, 3, strides=2, padding=\"same\")(x)\n",
    "    x = layers.BatchNormalization()(x)\n",
    "    x = layers.Activation(\"relu\")(x)\n",
    "\n",
    "    previous_block_activation = x  # Set aside residual\n",
    "\n",
    "    for size in [64, 128, 256]:\n",
    "        x = layers.Activation(\"relu\")(x)\n",
    "        x = layers.SeparableConv2D(size, 3, padding=\"same\")(x)\n",
    "        x = layers.BatchNormalization()(x)\n",
    "\n",
    "        x = layers.Activation(\"relu\")(x)\n",
    "        x = layers.SeparableConv2D(size, 3, padding=\"same\")(x)\n",
    "        x = layers.BatchNormalization()(x)\n",
    "\n",
    "        x = layers.MaxPooling2D(3, strides=2, padding=\"same\")(x)\n",
    "\n",
    "        # Project residual\n",
    "        residual = layers.Conv2D(size, 1, strides=2, padding=\"same\")(\n",
    "            previous_block_activation\n",
    "        )\n",
    "        x = layers.add([x, residual])  # Add back residual\n",
    "        previous_block_activation = x  # Set aside next residual\n",
    "\n",
    "    x = layers.SeparableConv2D(512, 3, padding=\"same\")(x)\n",
    "    x = layers.BatchNormalization()(x)\n",
    "    x = layers.Activation(\"relu\")(x)\n",
    "\n",
    "    x = layers.GlobalAveragePooling2D()(x)\n",
    "    if num_classes == 2:\n",
    "        activation = \"sigmoid\"\n",
    "        units = 1\n",
    "    else:\n",
    "        activation = \"softmax\"\n",
    "        units = num_classes\n",
    "\n",
    "    x = layers.Dropout(0.5)(x)\n",
    "    outputs = layers.Dense(units, activation=activation)(x)\n",
    "    return keras.Model(inputs, outputs)\n",
    "\n",
    "\n",
    "model = make_model(input_shape=image_size + (3,), num_classes=2)\n"
   ]
  },
  {
   "cell_type": "markdown",
   "metadata": {},
   "source": [
    "### 3.2.2 Model Visualisation\n",
    "\n",
    "We would like to perform model visualisation.\n",
    "\n",
    "To do this we have to install an **external** package called GraphViz. Instructions are here https://stackoverflow.com/questions/26349314/how-can-i-use-conda-to-install-pydot/50025414#50025414 and they are not easy. You can't do them from inside python with pip, but conda can install them. However, skip the following stages if you don't want to install a large amount of packages just to make a graph of the neural network."
   ]
  },
  {
   "cell_type": "code",
   "execution_count": 31,
   "metadata": {},
   "outputs": [
    {
     "name": "stdout",
     "output_type": "stream",
     "text": [
      "Requirement already satisfied: pydot in /Users/madjl/envs/jupyter/lib/python3.10/site-packages (1.4.2)\n",
      "Requirement already satisfied: graphviz in /Users/madjl/envs/jupyter/lib/python3.10/site-packages (0.20.1)\n",
      "Requirement already satisfied: pyparsing>=2.1.4 in /Users/madjl/envs/jupyter/lib/python3.10/site-packages (from pydot) (3.0.9)\n",
      "Collecting package metadata (current_repodata.json): done\n",
      "Solving environment: done\n",
      "\n",
      "\n",
      "==> WARNING: A newer version of conda exists. <==\n",
      "  current version: 22.11.1\n",
      "  latest version: 23.9.0\n",
      "\n",
      "Please update conda by running\n",
      "\n",
      "    $ conda update -n base -c defaults conda\n",
      "\n",
      "Or to minimize the number of packages updated during conda update use\n",
      "\n",
      "     conda install conda=23.9.0\n",
      "\n",
      "\n",
      "\n",
      "# All requested packages already installed.\n",
      "\n"
     ]
    }
   ],
   "source": [
    "!pip install pydot graphviz\n",
    "!conda install -y graphviz"
   ]
  },
  {
   "cell_type": "code",
   "execution_count": 32,
   "metadata": {},
   "outputs": [
    {
     "data": {
      "image/png": "[encoded data removed]",
      "text/plain": [
       "<IPython.core.display.Image object>"
      ]
     },
     "execution_count": 32,
     "metadata": {},
     "output_type": "execute_result"
    }
   ],
   "source": [
    "import pydot\n",
    "import graphviz\n",
    "keras.utils.plot_model(model, show_shapes=True)"
   ]
  },
  {
   "cell_type": "markdown",
   "metadata": {},
   "source": [
    "### 3.2.3 Model training\n",
    "\n",
    "We can now perform inference.This is quite straightforward compared to everything else!"
   ]
  },
  {
   "cell_type": "code",
   "execution_count": 33,
   "metadata": {},
   "outputs": [
    {
     "name": "stderr",
     "output_type": "stream",
     "text": [
      "WARNING:absl:At this time, the v2.11+ optimizer `tf.keras.optimizers.Adam` runs slowly on M1/M2 Macs, please use the legacy Keras optimizer instead, located at `tf.keras.optimizers.legacy.Adam`.\n"
     ]
    },
    {
     "name": "stdout",
     "output_type": "stream",
     "text": [
      "Epoch 1/25\n"
     ]
    },
    {
     "name": "stderr",
     "output_type": "stream",
     "text": [
      "2023-11-01 10:21:28.305659: E tensorflow/core/grappler/optimizers/meta_optimizer.cc:961] model_pruner failed: INVALID_ARGUMENT: Graph does not contain terminal node Adam/AssignAddVariableOp.\n",
      "Corrupt JPEG data: 2226 extraneous bytes before marker 0xd9\n"
     ]
    },
    {
     "name": "stdout",
     "output_type": "stream",
     "text": [
      " 77/147 [==============>...............] - ETA: 6s - loss: 0.6437 - accuracy: 0.6450"
     ]
    },
    {
     "name": "stderr",
     "output_type": "stream",
     "text": [
      "Corrupt JPEG data: 228 extraneous bytes before marker 0xd9\n"
     ]
    },
    {
     "name": "stdout",
     "output_type": "stream",
     "text": [
      " 84/147 [================>.............] - ETA: 5s - loss: 0.6408 - accuracy: 0.6490"
     ]
    },
    {
     "name": "stderr",
     "output_type": "stream",
     "text": [
      "Warning: unknown JFIF revision number 0.00\n"
     ]
    },
    {
     "name": "stdout",
     "output_type": "stream",
     "text": [
      "105/147 [====================>.........] - ETA: 3s - loss: 0.6307 - accuracy: 0.6565"
     ]
    },
    {
     "name": "stderr",
     "output_type": "stream",
     "text": [
      "Corrupt JPEG data: 128 extraneous bytes before marker 0xd9\n",
      "Corrupt JPEG data: 65 extraneous bytes before marker 0xd9\n"
     ]
    },
    {
     "name": "stdout",
     "output_type": "stream",
     "text": [
      "109/147 [=====================>........] - ETA: 3s - loss: 0.6286 - accuracy: 0.6576"
     ]
    },
    {
     "name": "stderr",
     "output_type": "stream",
     "text": [
      "Corrupt JPEG data: 396 extraneous bytes before marker 0xd9\n",
      "Corrupt JPEG data: 239 extraneous bytes before marker 0xd9\n"
     ]
    },
    {
     "name": "stdout",
     "output_type": "stream",
     "text": [
      "147/147 [==============================] - ETA: 0s - loss: 0.6171 - accuracy: 0.6664"
     ]
    },
    {
     "name": "stderr",
     "output_type": "stream",
     "text": [
      "Corrupt JPEG data: 252 extraneous bytes before marker 0xd9\n",
      "Corrupt JPEG data: 1153 extraneous bytes before marker 0xd9\n",
      "Corrupt JPEG data: 162 extraneous bytes before marker 0xd9\n",
      "Corrupt JPEG data: 214 extraneous bytes before marker 0xd9\n",
      "Corrupt JPEG data: 99 extraneous bytes before marker 0xd9\n",
      "Corrupt JPEG data: 1403 extraneous bytes before marker 0xd9\n"
     ]
    },
    {
     "name": "stdout",
     "output_type": "stream",
     "text": [
      "147/147 [==============================] - 23s 121ms/step - loss: 0.6171 - accuracy: 0.6664 - val_loss: 0.6966 - val_accuracy: 0.5043\n",
      "Epoch 2/25\n"
     ]
    },
    {
     "name": "stderr",
     "output_type": "stream",
     "text": [
      "Corrupt JPEG data: 2226 extraneous bytes before marker 0xd9\n"
     ]
    },
    {
     "name": "stdout",
     "output_type": "stream",
     "text": [
      " 77/147 [==============>...............] - ETA: 6s - loss: 0.5213 - accuracy: 0.7402"
     ]
    },
    {
     "name": "stderr",
     "output_type": "stream",
     "text": [
      "Corrupt JPEG data: 228 extraneous bytes before marker 0xd9\n"
     ]
    },
    {
     "name": "stdout",
     "output_type": "stream",
     "text": [
      " 85/147 [================>.............] - ETA: 5s - loss: 0.5192 - accuracy: 0.7409"
     ]
    },
    {
     "name": "stderr",
     "output_type": "stream",
     "text": [
      "Warning: unknown JFIF revision number 0.00\n"
     ]
    },
    {
     "name": "stdout",
     "output_type": "stream",
     "text": [
      "105/147 [====================>.........] - ETA: 3s - loss: 0.5141 - accuracy: 0.7449"
     ]
    },
    {
     "name": "stderr",
     "output_type": "stream",
     "text": [
      "Corrupt JPEG data: 128 extraneous bytes before marker 0xd9\n",
      "Corrupt JPEG data: 65 extraneous bytes before marker 0xd9\n"
     ]
    },
    {
     "name": "stdout",
     "output_type": "stream",
     "text": [
      "110/147 [=====================>........] - ETA: 3s - loss: 0.5140 - accuracy: 0.7443"
     ]
    },
    {
     "name": "stderr",
     "output_type": "stream",
     "text": [
      "Corrupt JPEG data: 396 extraneous bytes before marker 0xd9\n",
      "Corrupt JPEG data: 239 extraneous bytes before marker 0xd9\n"
     ]
    },
    {
     "name": "stdout",
     "output_type": "stream",
     "text": [
      "146/147 [============================>.] - ETA: 0s - loss: 0.5097 - accuracy: 0.7469"
     ]
    },
    {
     "name": "stderr",
     "output_type": "stream",
     "text": [
      "Corrupt JPEG data: 252 extraneous bytes before marker 0xd9\n",
      "Corrupt JPEG data: 1153 extraneous bytes before marker 0xd9\n",
      "Corrupt JPEG data: 162 extraneous bytes before marker 0xd9\n",
      "Corrupt JPEG data: 214 extraneous bytes before marker 0xd9\n",
      "Corrupt JPEG data: 99 extraneous bytes before marker 0xd9\n",
      "Corrupt JPEG data: 1403 extraneous bytes before marker 0xd9\n"
     ]
    },
    {
     "name": "stdout",
     "output_type": "stream",
     "text": [
      "147/147 [==============================] - 15s 98ms/step - loss: 0.5094 - accuracy: 0.7472 - val_loss: 0.7303 - val_accuracy: 0.5043\n",
      "Epoch 3/25\n"
     ]
    },
    {
     "name": "stderr",
     "output_type": "stream",
     "text": [
      "Corrupt JPEG data: 2226 extraneous bytes before marker 0xd9\n"
     ]
    },
    {
     "name": "stdout",
     "output_type": "stream",
     "text": [
      " 78/147 [==============>...............] - ETA: 4s - loss: 0.4583 - accuracy: 0.7826"
     ]
    },
    {
     "name": "stderr",
     "output_type": "stream",
     "text": [
      "Corrupt JPEG data: 228 extraneous bytes before marker 0xd9\n"
     ]
    },
    {
     "name": "stdout",
     "output_type": "stream",
     "text": [
      " 85/147 [================>.............] - ETA: 3s - loss: 0.4589 - accuracy: 0.7831"
     ]
    },
    {
     "name": "stderr",
     "output_type": "stream",
     "text": [
      "Warning: unknown JFIF revision number 0.00\n"
     ]
    },
    {
     "name": "stdout",
     "output_type": "stream",
     "text": [
      "106/147 [====================>.........] - ETA: 2s - loss: 0.4563 - accuracy: 0.7853"
     ]
    },
    {
     "name": "stderr",
     "output_type": "stream",
     "text": [
      "Corrupt JPEG data: 128 extraneous bytes before marker 0xd9\n",
      "Corrupt JPEG data: 65 extraneous bytes before marker 0xd9\n"
     ]
    },
    {
     "name": "stdout",
     "output_type": "stream",
     "text": [
      "111/147 [=====================>........] - ETA: 2s - loss: 0.4559 - accuracy: 0.7862"
     ]
    },
    {
     "name": "stderr",
     "output_type": "stream",
     "text": [
      "Corrupt JPEG data: 396 extraneous bytes before marker 0xd9\n",
      "Corrupt JPEG data: 239 extraneous bytes before marker 0xd9\n"
     ]
    },
    {
     "name": "stdout",
     "output_type": "stream",
     "text": [
      "146/147 [============================>.] - ETA: 0s - loss: 0.4516 - accuracy: 0.7898"
     ]
    },
    {
     "name": "stderr",
     "output_type": "stream",
     "text": [
      "Corrupt JPEG data: 252 extraneous bytes before marker 0xd9\n",
      "Corrupt JPEG data: 1153 extraneous bytes before marker 0xd9\n",
      "Corrupt JPEG data: 162 extraneous bytes before marker 0xd9\n",
      "Corrupt JPEG data: 214 extraneous bytes before marker 0xd9\n",
      "Corrupt JPEG data: 99 extraneous bytes before marker 0xd9\n",
      "Corrupt JPEG data: 1403 extraneous bytes before marker 0xd9\n"
     ]
    },
    {
     "name": "stdout",
     "output_type": "stream",
     "text": [
      "147/147 [==============================] - 12s 80ms/step - loss: 0.4513 - accuracy: 0.7899 - val_loss: 0.6324 - val_accuracy: 0.6941\n",
      "Epoch 4/25\n"
     ]
    },
    {
     "name": "stderr",
     "output_type": "stream",
     "text": [
      "Corrupt JPEG data: 2226 extraneous bytes before marker 0xd9\n"
     ]
    },
    {
     "name": "stdout",
     "output_type": "stream",
     "text": [
      " 77/147 [==============>...............] - ETA: 4s - loss: 0.4151 - accuracy: 0.8084"
     ]
    },
    {
     "name": "stderr",
     "output_type": "stream",
     "text": [
      "Corrupt JPEG data: 228 extraneous bytes before marker 0xd9\n"
     ]
    },
    {
     "name": "stdout",
     "output_type": "stream",
     "text": [
      " 85/147 [================>.............] - ETA: 3s - loss: 0.4123 - accuracy: 0.8094"
     ]
    },
    {
     "name": "stderr",
     "output_type": "stream",
     "text": [
      "Warning: unknown JFIF revision number 0.00\n"
     ]
    },
    {
     "name": "stdout",
     "output_type": "stream",
     "text": [
      "105/147 [====================>.........] - ETA: 2s - loss: 0.4042 - accuracy: 0.8141"
     ]
    },
    {
     "name": "stderr",
     "output_type": "stream",
     "text": [
      "Corrupt JPEG data: 128 extraneous bytes before marker 0xd9\n",
      "Corrupt JPEG data: 65 extraneous bytes before marker 0xd9\n"
     ]
    },
    {
     "name": "stdout",
     "output_type": "stream",
     "text": [
      "109/147 [=====================>........] - ETA: 2s - loss: 0.4031 - accuracy: 0.8147"
     ]
    },
    {
     "name": "stderr",
     "output_type": "stream",
     "text": [
      "Corrupt JPEG data: 396 extraneous bytes before marker 0xd9\n",
      "Corrupt JPEG data: 239 extraneous bytes before marker 0xd9\n"
     ]
    },
    {
     "name": "stdout",
     "output_type": "stream",
     "text": [
      "146/147 [============================>.] - ETA: 0s - loss: 0.3956 - accuracy: 0.8188"
     ]
    },
    {
     "name": "stderr",
     "output_type": "stream",
     "text": [
      "Corrupt JPEG data: 252 extraneous bytes before marker 0xd9\n",
      "Corrupt JPEG data: 1153 extraneous bytes before marker 0xd9\n",
      "Corrupt JPEG data: 162 extraneous bytes before marker 0xd9\n",
      "Corrupt JPEG data: 214 extraneous bytes before marker 0xd9\n",
      "Corrupt JPEG data: 99 extraneous bytes before marker 0xd9\n",
      "Corrupt JPEG data: 1403 extraneous bytes before marker 0xd9\n"
     ]
    },
    {
     "name": "stdout",
     "output_type": "stream",
     "text": [
      "147/147 [==============================] - 13s 83ms/step - loss: 0.3955 - accuracy: 0.8189 - val_loss: 0.5394 - val_accuracy: 0.7253\n",
      "Epoch 5/25\n"
     ]
    },
    {
     "name": "stderr",
     "output_type": "stream",
     "text": [
      "Corrupt JPEG data: 2226 extraneous bytes before marker 0xd9\n"
     ]
    },
    {
     "name": "stdout",
     "output_type": "stream",
     "text": [
      " 77/147 [==============>...............] - ETA: 5s - loss: 0.3646 - accuracy: 0.8385"
     ]
    },
    {
     "name": "stderr",
     "output_type": "stream",
     "text": [
      "Corrupt JPEG data: 228 extraneous bytes before marker 0xd9\n"
     ]
    },
    {
     "name": "stdout",
     "output_type": "stream",
     "text": [
      " 85/147 [================>.............] - ETA: 4s - loss: 0.3653 - accuracy: 0.8372"
     ]
    },
    {
     "name": "stderr",
     "output_type": "stream",
     "text": [
      "Warning: unknown JFIF revision number 0.00\n"
     ]
    },
    {
     "name": "stdout",
     "output_type": "stream",
     "text": [
      "105/147 [====================>.........] - ETA: 3s - loss: 0.3583 - accuracy: 0.8397"
     ]
    },
    {
     "name": "stderr",
     "output_type": "stream",
     "text": [
      "Corrupt JPEG data: 128 extraneous bytes before marker 0xd9\n",
      "Corrupt JPEG data: 65 extraneous bytes before marker 0xd9\n"
     ]
    },
    {
     "name": "stdout",
     "output_type": "stream",
     "text": [
      "111/147 [=====================>........] - ETA: 2s - loss: 0.3578 - accuracy: 0.8397"
     ]
    },
    {
     "name": "stderr",
     "output_type": "stream",
     "text": [
      "Corrupt JPEG data: 396 extraneous bytes before marker 0xd9\n",
      "Corrupt JPEG data: 239 extraneous bytes before marker 0xd9\n"
     ]
    },
    {
     "name": "stdout",
     "output_type": "stream",
     "text": [
      "147/147 [==============================] - ETA: 0s - loss: 0.3524 - accuracy: 0.8431"
     ]
    },
    {
     "name": "stderr",
     "output_type": "stream",
     "text": [
      "Corrupt JPEG data: 252 extraneous bytes before marker 0xd9\n",
      "Corrupt JPEG data: 1153 extraneous bytes before marker 0xd9\n",
      "Corrupt JPEG data: 162 extraneous bytes before marker 0xd9\n",
      "Corrupt JPEG data: 214 extraneous bytes before marker 0xd9\n",
      "Corrupt JPEG data: 99 extraneous bytes before marker 0xd9\n",
      "Corrupt JPEG data: 1403 extraneous bytes before marker 0xd9\n"
     ]
    },
    {
     "name": "stdout",
     "output_type": "stream",
     "text": [
      "147/147 [==============================] - 12s 82ms/step - loss: 0.3524 - accuracy: 0.8431 - val_loss: 0.5307 - val_accuracy: 0.7529\n",
      "Epoch 6/25\n"
     ]
    },
    {
     "name": "stderr",
     "output_type": "stream",
     "text": [
      "Corrupt JPEG data: 2226 extraneous bytes before marker 0xd9\n"
     ]
    },
    {
     "name": "stdout",
     "output_type": "stream",
     "text": [
      " 78/147 [==============>...............] - ETA: 3s - loss: 0.3201 - accuracy: 0.8612"
     ]
    },
    {
     "name": "stderr",
     "output_type": "stream",
     "text": [
      "Corrupt JPEG data: 228 extraneous bytes before marker 0xd9\n"
     ]
    },
    {
     "name": "stdout",
     "output_type": "stream",
     "text": [
      " 84/147 [================>.............] - ETA: 3s - loss: 0.3176 - accuracy: 0.8617"
     ]
    },
    {
     "name": "stderr",
     "output_type": "stream",
     "text": [
      "Warning: unknown JFIF revision number 0.00\n"
     ]
    },
    {
     "name": "stdout",
     "output_type": "stream",
     "text": [
      "105/147 [====================>.........] - ETA: 2s - loss: 0.3156 - accuracy: 0.8618"
     ]
    },
    {
     "name": "stderr",
     "output_type": "stream",
     "text": [
      "Corrupt JPEG data: 128 extraneous bytes before marker 0xd9\n",
      "Corrupt JPEG data: 65 extraneous bytes before marker 0xd9\n"
     ]
    },
    {
     "name": "stdout",
     "output_type": "stream",
     "text": [
      "110/147 [=====================>........] - ETA: 2s - loss: 0.3139 - accuracy: 0.8626"
     ]
    },
    {
     "name": "stderr",
     "output_type": "stream",
     "text": [
      "Corrupt JPEG data: 396 extraneous bytes before marker 0xd9\n",
      "Corrupt JPEG data: 239 extraneous bytes before marker 0xd9\n"
     ]
    },
    {
     "name": "stdout",
     "output_type": "stream",
     "text": [
      "146/147 [============================>.] - ETA: 0s - loss: 0.3080 - accuracy: 0.8659"
     ]
    },
    {
     "name": "stderr",
     "output_type": "stream",
     "text": [
      "Corrupt JPEG data: 252 extraneous bytes before marker 0xd9\n",
      "Corrupt JPEG data: 1153 extraneous bytes before marker 0xd9\n",
      "Corrupt JPEG data: 162 extraneous bytes before marker 0xd9\n",
      "Corrupt JPEG data: 214 extraneous bytes before marker 0xd9\n",
      "Corrupt JPEG data: 99 extraneous bytes before marker 0xd9\n",
      "Corrupt JPEG data: 1403 extraneous bytes before marker 0xd9\n"
     ]
    },
    {
     "name": "stdout",
     "output_type": "stream",
     "text": [
      "147/147 [==============================] - 12s 75ms/step - loss: 0.3089 - accuracy: 0.8657 - val_loss: 0.7290 - val_accuracy: 0.7174\n",
      "Epoch 7/25\n"
     ]
    },
    {
     "name": "stderr",
     "output_type": "stream",
     "text": [
      "Corrupt JPEG data: 2226 extraneous bytes before marker 0xd9\n"
     ]
    },
    {
     "name": "stdout",
     "output_type": "stream",
     "text": [
      " 77/147 [==============>...............] - ETA: 5s - loss: 0.2804 - accuracy: 0.8770"
     ]
    },
    {
     "name": "stderr",
     "output_type": "stream",
     "text": [
      "Corrupt JPEG data: 228 extraneous bytes before marker 0xd9\n"
     ]
    },
    {
     "name": "stdout",
     "output_type": "stream",
     "text": [
      " 85/147 [================>.............] - ETA: 4s - loss: 0.2759 - accuracy: 0.8793"
     ]
    },
    {
     "name": "stderr",
     "output_type": "stream",
     "text": [
      "Warning: unknown JFIF revision number 0.00\n"
     ]
    },
    {
     "name": "stdout",
     "output_type": "stream",
     "text": [
      "104/147 [====================>.........] - ETA: 3s - loss: 0.2717 - accuracy: 0.8811"
     ]
    },
    {
     "name": "stderr",
     "output_type": "stream",
     "text": [
      "Corrupt JPEG data: 128 extraneous bytes before marker 0xd9\n"
     ]
    },
    {
     "name": "stdout",
     "output_type": "stream",
     "text": [
      "107/147 [====================>.........] - ETA: 3s - loss: 0.2703 - accuracy: 0.8819"
     ]
    },
    {
     "name": "stderr",
     "output_type": "stream",
     "text": [
      "Corrupt JPEG data: 65 extraneous bytes before marker 0xd9\n"
     ]
    },
    {
     "name": "stdout",
     "output_type": "stream",
     "text": [
      "110/147 [=====================>........] - ETA: 3s - loss: 0.2711 - accuracy: 0.8817"
     ]
    },
    {
     "name": "stderr",
     "output_type": "stream",
     "text": [
      "Corrupt JPEG data: 396 extraneous bytes before marker 0xd9\n",
      "Corrupt JPEG data: 239 extraneous bytes before marker 0xd9\n"
     ]
    },
    {
     "name": "stdout",
     "output_type": "stream",
     "text": [
      "146/147 [============================>.] - ETA: 0s - loss: 0.2630 - accuracy: 0.8866"
     ]
    },
    {
     "name": "stderr",
     "output_type": "stream",
     "text": [
      "Corrupt JPEG data: 252 extraneous bytes before marker 0xd9\n",
      "Corrupt JPEG data: 1153 extraneous bytes before marker 0xd9\n",
      "Corrupt JPEG data: 162 extraneous bytes before marker 0xd9\n",
      "Corrupt JPEG data: 214 extraneous bytes before marker 0xd9\n",
      "Corrupt JPEG data: 99 extraneous bytes before marker 0xd9\n",
      "Corrupt JPEG data: 1403 extraneous bytes before marker 0xd9\n"
     ]
    },
    {
     "name": "stdout",
     "output_type": "stream",
     "text": [
      "147/147 [==============================] - 14s 93ms/step - loss: 0.2627 - accuracy: 0.8868 - val_loss: 0.7603 - val_accuracy: 0.7170\n",
      "Epoch 8/25\n"
     ]
    },
    {
     "name": "stderr",
     "output_type": "stream",
     "text": [
      "Corrupt JPEG data: 2226 extraneous bytes before marker 0xd9\n"
     ]
    },
    {
     "name": "stdout",
     "output_type": "stream",
     "text": [
      " 78/147 [==============>...............] - ETA: 5s - loss: 0.2329 - accuracy: 0.9015"
     ]
    },
    {
     "name": "stderr",
     "output_type": "stream",
     "text": [
      "Corrupt JPEG data: 228 extraneous bytes before marker 0xd9\n"
     ]
    },
    {
     "name": "stdout",
     "output_type": "stream",
     "text": [
      " 86/147 [================>.............] - ETA: 4s - loss: 0.2314 - accuracy: 0.9024"
     ]
    },
    {
     "name": "stderr",
     "output_type": "stream",
     "text": [
      "Warning: unknown JFIF revision number 0.00\n"
     ]
    },
    {
     "name": "stdout",
     "output_type": "stream",
     "text": [
      "104/147 [====================>.........] - ETA: 2s - loss: 0.2281 - accuracy: 0.9042"
     ]
    },
    {
     "name": "stderr",
     "output_type": "stream",
     "text": [
      "Corrupt JPEG data: 128 extraneous bytes before marker 0xd9\n",
      "Corrupt JPEG data: 65 extraneous bytes before marker 0xd9\n"
     ]
    },
    {
     "name": "stdout",
     "output_type": "stream",
     "text": [
      "111/147 [=====================>........] - ETA: 2s - loss: 0.2259 - accuracy: 0.9055"
     ]
    },
    {
     "name": "stderr",
     "output_type": "stream",
     "text": [
      "Corrupt JPEG data: 396 extraneous bytes before marker 0xd9\n",
      "Corrupt JPEG data: 239 extraneous bytes before marker 0xd9\n"
     ]
    },
    {
     "name": "stdout",
     "output_type": "stream",
     "text": [
      "146/147 [============================>.] - ETA: 0s - loss: 0.2196 - accuracy: 0.9086"
     ]
    },
    {
     "name": "stderr",
     "output_type": "stream",
     "text": [
      "Corrupt JPEG data: 252 extraneous bytes before marker 0xd9\n",
      "Corrupt JPEG data: 1153 extraneous bytes before marker 0xd9\n",
      "Corrupt JPEG data: 162 extraneous bytes before marker 0xd9\n",
      "Corrupt JPEG data: 214 extraneous bytes before marker 0xd9\n",
      "Corrupt JPEG data: 99 extraneous bytes before marker 0xd9\n",
      "Corrupt JPEG data: 1403 extraneous bytes before marker 0xd9\n"
     ]
    },
    {
     "name": "stdout",
     "output_type": "stream",
     "text": [
      "147/147 [==============================] - 13s 83ms/step - loss: 0.2195 - accuracy: 0.9085 - val_loss: 0.7110 - val_accuracy: 0.7349\n",
      "Epoch 9/25\n"
     ]
    },
    {
     "name": "stderr",
     "output_type": "stream",
     "text": [
      "Corrupt JPEG data: 2226 extraneous bytes before marker 0xd9\n"
     ]
    },
    {
     "name": "stdout",
     "output_type": "stream",
     "text": [
      " 77/147 [==============>...............] - ETA: 3s - loss: 0.1967 - accuracy: 0.9162"
     ]
    },
    {
     "name": "stderr",
     "output_type": "stream",
     "text": [
      "Corrupt JPEG data: 228 extraneous bytes before marker 0xd9\n"
     ]
    },
    {
     "name": "stdout",
     "output_type": "stream",
     "text": [
      " 85/147 [================>.............] - ETA: 3s - loss: 0.1953 - accuracy: 0.9170"
     ]
    },
    {
     "name": "stderr",
     "output_type": "stream",
     "text": [
      "Warning: unknown JFIF revision number 0.00\n"
     ]
    },
    {
     "name": "stdout",
     "output_type": "stream",
     "text": [
      "105/147 [====================>.........] - ETA: 2s - loss: 0.1924 - accuracy: 0.9185"
     ]
    },
    {
     "name": "stderr",
     "output_type": "stream",
     "text": [
      "Corrupt JPEG data: 128 extraneous bytes before marker 0xd9\n",
      "Corrupt JPEG data: 65 extraneous bytes before marker 0xd9\n"
     ]
    },
    {
     "name": "stdout",
     "output_type": "stream",
     "text": [
      "110/147 [=====================>........] - ETA: 2s - loss: 0.1915 - accuracy: 0.9192"
     ]
    },
    {
     "name": "stderr",
     "output_type": "stream",
     "text": [
      "Corrupt JPEG data: 396 extraneous bytes before marker 0xd9\n",
      "Corrupt JPEG data: 239 extraneous bytes before marker 0xd9\n"
     ]
    },
    {
     "name": "stdout",
     "output_type": "stream",
     "text": [
      "147/147 [==============================] - ETA: 0s - loss: 0.1834 - accuracy: 0.9234"
     ]
    },
    {
     "name": "stderr",
     "output_type": "stream",
     "text": [
      "Corrupt JPEG data: 252 extraneous bytes before marker 0xd9\n",
      "Corrupt JPEG data: 1153 extraneous bytes before marker 0xd9\n",
      "Corrupt JPEG data: 162 extraneous bytes before marker 0xd9\n",
      "Corrupt JPEG data: 214 extraneous bytes before marker 0xd9\n",
      "Corrupt JPEG data: 99 extraneous bytes before marker 0xd9\n",
      "Corrupt JPEG data: 1403 extraneous bytes before marker 0xd9\n"
     ]
    },
    {
     "name": "stdout",
     "output_type": "stream",
     "text": [
      "147/147 [==============================] - 11s 68ms/step - loss: 0.1834 - accuracy: 0.9234 - val_loss: 0.7850 - val_accuracy: 0.7514\n",
      "Epoch 10/25\n"
     ]
    },
    {
     "name": "stderr",
     "output_type": "stream",
     "text": [
      "Corrupt JPEG data: 2226 extraneous bytes before marker 0xd9\n"
     ]
    },
    {
     "name": "stdout",
     "output_type": "stream",
     "text": [
      " 77/147 [==============>...............] - ETA: 5s - loss: 0.1581 - accuracy: 0.9342"
     ]
    },
    {
     "name": "stderr",
     "output_type": "stream",
     "text": [
      "Corrupt JPEG data: 228 extraneous bytes before marker 0xd9\n"
     ]
    },
    {
     "name": "stdout",
     "output_type": "stream",
     "text": [
      " 85/147 [================>.............] - ETA: 4s - loss: 0.1549 - accuracy: 0.9360"
     ]
    },
    {
     "name": "stderr",
     "output_type": "stream",
     "text": [
      "Warning: unknown JFIF revision number 0.00\n"
     ]
    },
    {
     "name": "stdout",
     "output_type": "stream",
     "text": [
      "105/147 [====================>.........] - ETA: 3s - loss: 0.1576 - accuracy: 0.9347"
     ]
    },
    {
     "name": "stderr",
     "output_type": "stream",
     "text": [
      "Corrupt JPEG data: 128 extraneous bytes before marker 0xd9\n",
      "Corrupt JPEG data: 65 extraneous bytes before marker 0xd9\n"
     ]
    },
    {
     "name": "stdout",
     "output_type": "stream",
     "text": [
      "109/147 [=====================>........] - ETA: 2s - loss: 0.1582 - accuracy: 0.9344"
     ]
    },
    {
     "name": "stderr",
     "output_type": "stream",
     "text": [
      "Corrupt JPEG data: 396 extraneous bytes before marker 0xd9\n",
      "Corrupt JPEG data: 239 extraneous bytes before marker 0xd9\n"
     ]
    },
    {
     "name": "stdout",
     "output_type": "stream",
     "text": [
      "146/147 [============================>.] - ETA: 0s - loss: 0.1518 - accuracy: 0.9376"
     ]
    },
    {
     "name": "stderr",
     "output_type": "stream",
     "text": [
      "Corrupt JPEG data: 252 extraneous bytes before marker 0xd9\n",
      "Corrupt JPEG data: 1153 extraneous bytes before marker 0xd9\n",
      "Corrupt JPEG data: 162 extraneous bytes before marker 0xd9\n",
      "Corrupt JPEG data: 214 extraneous bytes before marker 0xd9\n",
      "Corrupt JPEG data: 99 extraneous bytes before marker 0xd9\n",
      "Corrupt JPEG data: 1403 extraneous bytes before marker 0xd9\n"
     ]
    },
    {
     "name": "stdout",
     "output_type": "stream",
     "text": [
      "147/147 [==============================] - 13s 83ms/step - loss: 0.1515 - accuracy: 0.9377 - val_loss: 0.9452 - val_accuracy: 0.7345\n",
      "Epoch 11/25\n"
     ]
    },
    {
     "name": "stderr",
     "output_type": "stream",
     "text": [
      "Corrupt JPEG data: 2226 extraneous bytes before marker 0xd9\n"
     ]
    },
    {
     "name": "stdout",
     "output_type": "stream",
     "text": [
      " 77/147 [==============>...............] - ETA: 4s - loss: 0.1170 - accuracy: 0.9527"
     ]
    },
    {
     "name": "stderr",
     "output_type": "stream",
     "text": [
      "Corrupt JPEG data: 228 extraneous bytes before marker 0xd9\n"
     ]
    },
    {
     "name": "stdout",
     "output_type": "stream",
     "text": [
      " 85/147 [================>.............] - ETA: 3s - loss: 0.1188 - accuracy: 0.9527"
     ]
    },
    {
     "name": "stderr",
     "output_type": "stream",
     "text": [
      "Warning: unknown JFIF revision number 0.00\n"
     ]
    },
    {
     "name": "stdout",
     "output_type": "stream",
     "text": [
      "105/147 [====================>.........] - ETA: 2s - loss: 0.1220 - accuracy: 0.9511"
     ]
    },
    {
     "name": "stderr",
     "output_type": "stream",
     "text": [
      "Corrupt JPEG data: 128 extraneous bytes before marker 0xd9\n",
      "Corrupt JPEG data: 65 extraneous bytes before marker 0xd9\n"
     ]
    },
    {
     "name": "stdout",
     "output_type": "stream",
     "text": [
      "110/147 [=====================>........] - ETA: 2s - loss: 0.1217 - accuracy: 0.9513"
     ]
    },
    {
     "name": "stderr",
     "output_type": "stream",
     "text": [
      "Corrupt JPEG data: 396 extraneous bytes before marker 0xd9\n",
      "Corrupt JPEG data: 239 extraneous bytes before marker 0xd9\n"
     ]
    },
    {
     "name": "stdout",
     "output_type": "stream",
     "text": [
      "146/147 [============================>.] - ETA: 0s - loss: 0.1215 - accuracy: 0.9522"
     ]
    },
    {
     "name": "stderr",
     "output_type": "stream",
     "text": [
      "Corrupt JPEG data: 252 extraneous bytes before marker 0xd9\n",
      "Corrupt JPEG data: 1153 extraneous bytes before marker 0xd9\n",
      "Corrupt JPEG data: 162 extraneous bytes before marker 0xd9\n",
      "Corrupt JPEG data: 214 extraneous bytes before marker 0xd9\n",
      "Corrupt JPEG data: 99 extraneous bytes before marker 0xd9\n",
      "Corrupt JPEG data: 1403 extraneous bytes before marker 0xd9\n"
     ]
    },
    {
     "name": "stdout",
     "output_type": "stream",
     "text": [
      "147/147 [==============================] - 11s 71ms/step - loss: 0.1214 - accuracy: 0.9522 - val_loss: 0.9004 - val_accuracy: 0.7441\n",
      "Epoch 12/25\n"
     ]
    },
    {
     "name": "stderr",
     "output_type": "stream",
     "text": [
      "Corrupt JPEG data: 2226 extraneous bytes before marker 0xd9\n"
     ]
    },
    {
     "name": "stdout",
     "output_type": "stream",
     "text": [
      " 77/147 [==============>...............] - ETA: 4s - loss: 0.1218 - accuracy: 0.9517"
     ]
    },
    {
     "name": "stderr",
     "output_type": "stream",
     "text": [
      "Corrupt JPEG data: 228 extraneous bytes before marker 0xd9\n"
     ]
    },
    {
     "name": "stdout",
     "output_type": "stream",
     "text": [
      " 85/147 [================>.............] - ETA: 3s - loss: 0.1213 - accuracy: 0.9525"
     ]
    },
    {
     "name": "stderr",
     "output_type": "stream",
     "text": [
      "Warning: unknown JFIF revision number 0.00\n"
     ]
    },
    {
     "name": "stdout",
     "output_type": "stream",
     "text": [
      "105/147 [====================>.........] - ETA: 2s - loss: 0.1191 - accuracy: 0.9536"
     ]
    },
    {
     "name": "stderr",
     "output_type": "stream",
     "text": [
      "Corrupt JPEG data: 128 extraneous bytes before marker 0xd9\n",
      "Corrupt JPEG data: 65 extraneous bytes before marker 0xd9\n"
     ]
    },
    {
     "name": "stdout",
     "output_type": "stream",
     "text": [
      "112/147 [=====================>........] - ETA: 2s - loss: 0.1182 - accuracy: 0.9539"
     ]
    },
    {
     "name": "stderr",
     "output_type": "stream",
     "text": [
      "Corrupt JPEG data: 396 extraneous bytes before marker 0xd9\n",
      "Corrupt JPEG data: 239 extraneous bytes before marker 0xd9\n"
     ]
    },
    {
     "name": "stdout",
     "output_type": "stream",
     "text": [
      "146/147 [============================>.] - ETA: 0s - loss: 0.1155 - accuracy: 0.9545"
     ]
    },
    {
     "name": "stderr",
     "output_type": "stream",
     "text": [
      "Corrupt JPEG data: 252 extraneous bytes before marker 0xd9\n",
      "Corrupt JPEG data: 1153 extraneous bytes before marker 0xd9\n",
      "Corrupt JPEG data: 162 extraneous bytes before marker 0xd9\n",
      "Corrupt JPEG data: 214 extraneous bytes before marker 0xd9\n",
      "Corrupt JPEG data: 99 extraneous bytes before marker 0xd9\n",
      "Corrupt JPEG data: 1403 extraneous bytes before marker 0xd9\n"
     ]
    },
    {
     "name": "stdout",
     "output_type": "stream",
     "text": [
      "147/147 [==============================] - 10s 69ms/step - loss: 0.1153 - accuracy: 0.9546 - val_loss: 1.2131 - val_accuracy: 0.7114\n",
      "Epoch 13/25\n"
     ]
    },
    {
     "name": "stderr",
     "output_type": "stream",
     "text": [
      "Corrupt JPEG data: 2226 extraneous bytes before marker 0xd9\n"
     ]
    },
    {
     "name": "stdout",
     "output_type": "stream",
     "text": [
      " 78/147 [==============>...............] - ETA: 4s - loss: 0.1004 - accuracy: 0.9599"
     ]
    },
    {
     "name": "stderr",
     "output_type": "stream",
     "text": [
      "Corrupt JPEG data: 228 extraneous bytes before marker 0xd9\n"
     ]
    },
    {
     "name": "stdout",
     "output_type": "stream",
     "text": [
      " 86/147 [================>.............] - ETA: 3s - loss: 0.1018 - accuracy: 0.9593"
     ]
    },
    {
     "name": "stderr",
     "output_type": "stream",
     "text": [
      "Warning: unknown JFIF revision number 0.00\n"
     ]
    },
    {
     "name": "stdout",
     "output_type": "stream",
     "text": [
      "106/147 [====================>.........] - ETA: 2s - loss: 0.1033 - accuracy: 0.9590"
     ]
    },
    {
     "name": "stderr",
     "output_type": "stream",
     "text": [
      "Corrupt JPEG data: 128 extraneous bytes before marker 0xd9\n",
      "Corrupt JPEG data: 65 extraneous bytes before marker 0xd9\n"
     ]
    },
    {
     "name": "stdout",
     "output_type": "stream",
     "text": [
      "110/147 [=====================>........] - ETA: 2s - loss: 0.1043 - accuracy: 0.9586"
     ]
    },
    {
     "name": "stderr",
     "output_type": "stream",
     "text": [
      "Corrupt JPEG data: 396 extraneous bytes before marker 0xd9\n",
      "Corrupt JPEG data: 239 extraneous bytes before marker 0xd9\n"
     ]
    },
    {
     "name": "stdout",
     "output_type": "stream",
     "text": [
      "146/147 [============================>.] - ETA: 0s - loss: 0.1014 - accuracy: 0.9598"
     ]
    },
    {
     "name": "stderr",
     "output_type": "stream",
     "text": [
      "Corrupt JPEG data: 252 extraneous bytes before marker 0xd9\n",
      "Corrupt JPEG data: 1153 extraneous bytes before marker 0xd9\n",
      "Corrupt JPEG data: 162 extraneous bytes before marker 0xd9\n",
      "Corrupt JPEG data: 214 extraneous bytes before marker 0xd9\n",
      "Corrupt JPEG data: 99 extraneous bytes before marker 0xd9\n",
      "Corrupt JPEG data: 1403 extraneous bytes before marker 0xd9\n"
     ]
    },
    {
     "name": "stdout",
     "output_type": "stream",
     "text": [
      "147/147 [==============================] - 12s 78ms/step - loss: 0.1014 - accuracy: 0.9598 - val_loss: 0.9753 - val_accuracy: 0.7475\n",
      "Epoch 14/25\n"
     ]
    },
    {
     "name": "stderr",
     "output_type": "stream",
     "text": [
      "Corrupt JPEG data: 2226 extraneous bytes before marker 0xd9\n"
     ]
    },
    {
     "name": "stdout",
     "output_type": "stream",
     "text": [
      " 77/147 [==============>...............] - ETA: 3s - loss: 0.0986 - accuracy: 0.9623"
     ]
    },
    {
     "name": "stderr",
     "output_type": "stream",
     "text": [
      "Corrupt JPEG data: 228 extraneous bytes before marker 0xd9\n"
     ]
    },
    {
     "name": "stdout",
     "output_type": "stream",
     "text": [
      " 85/147 [================>.............] - ETA: 3s - loss: 0.0992 - accuracy: 0.9619"
     ]
    },
    {
     "name": "stderr",
     "output_type": "stream",
     "text": [
      "Warning: unknown JFIF revision number 0.00\n"
     ]
    },
    {
     "name": "stdout",
     "output_type": "stream",
     "text": [
      "105/147 [====================>.........] - ETA: 2s - loss: 0.1012 - accuracy: 0.9604"
     ]
    },
    {
     "name": "stderr",
     "output_type": "stream",
     "text": [
      "Corrupt JPEG data: 128 extraneous bytes before marker 0xd9\n",
      "Corrupt JPEG data: 65 extraneous bytes before marker 0xd9\n"
     ]
    },
    {
     "name": "stdout",
     "output_type": "stream",
     "text": [
      "110/147 [=====================>........] - ETA: 2s - loss: 0.1001 - accuracy: 0.9607"
     ]
    },
    {
     "name": "stderr",
     "output_type": "stream",
     "text": [
      "Corrupt JPEG data: 396 extraneous bytes before marker 0xd9\n",
      "Corrupt JPEG data: 239 extraneous bytes before marker 0xd9\n"
     ]
    },
    {
     "name": "stdout",
     "output_type": "stream",
     "text": [
      "146/147 [============================>.] - ETA: 0s - loss: 0.0938 - accuracy: 0.9627"
     ]
    },
    {
     "name": "stderr",
     "output_type": "stream",
     "text": [
      "Corrupt JPEG data: 252 extraneous bytes before marker 0xd9\n",
      "Corrupt JPEG data: 1153 extraneous bytes before marker 0xd9\n",
      "Corrupt JPEG data: 162 extraneous bytes before marker 0xd9\n",
      "Corrupt JPEG data: 214 extraneous bytes before marker 0xd9\n",
      "Corrupt JPEG data: 99 extraneous bytes before marker 0xd9\n",
      "Corrupt JPEG data: 1403 extraneous bytes before marker 0xd9\n"
     ]
    },
    {
     "name": "stdout",
     "output_type": "stream",
     "text": [
      "147/147 [==============================] - 11s 68ms/step - loss: 0.0937 - accuracy: 0.9627 - val_loss: 1.0496 - val_accuracy: 0.7377\n",
      "Epoch 15/25\n"
     ]
    },
    {
     "name": "stderr",
     "output_type": "stream",
     "text": [
      "Corrupt JPEG data: 2226 extraneous bytes before marker 0xd9\n"
     ]
    },
    {
     "name": "stdout",
     "output_type": "stream",
     "text": [
      " 77/147 [==============>...............] - ETA: 4s - loss: 0.0822 - accuracy: 0.9688"
     ]
    },
    {
     "name": "stderr",
     "output_type": "stream",
     "text": [
      "Corrupt JPEG data: 228 extraneous bytes before marker 0xd9\n"
     ]
    },
    {
     "name": "stdout",
     "output_type": "stream",
     "text": [
      " 85/147 [================>.............] - ETA: 4s - loss: 0.0805 - accuracy: 0.9693"
     ]
    },
    {
     "name": "stderr",
     "output_type": "stream",
     "text": [
      "Warning: unknown JFIF revision number 0.00\n"
     ]
    },
    {
     "name": "stdout",
     "output_type": "stream",
     "text": [
      "105/147 [====================>.........] - ETA: 2s - loss: 0.0830 - accuracy: 0.9680"
     ]
    },
    {
     "name": "stderr",
     "output_type": "stream",
     "text": [
      "Corrupt JPEG data: 128 extraneous bytes before marker 0xd9\n",
      "Corrupt JPEG data: 65 extraneous bytes before marker 0xd9\n"
     ]
    },
    {
     "name": "stdout",
     "output_type": "stream",
     "text": [
      "111/147 [=====================>........] - ETA: 2s - loss: 0.0830 - accuracy: 0.9683"
     ]
    },
    {
     "name": "stderr",
     "output_type": "stream",
     "text": [
      "Corrupt JPEG data: 396 extraneous bytes before marker 0xd9\n",
      "Corrupt JPEG data: 239 extraneous bytes before marker 0xd9\n"
     ]
    },
    {
     "name": "stdout",
     "output_type": "stream",
     "text": [
      "146/147 [============================>.] - ETA: 0s - loss: 0.0795 - accuracy: 0.9692"
     ]
    },
    {
     "name": "stderr",
     "output_type": "stream",
     "text": [
      "Corrupt JPEG data: 252 extraneous bytes before marker 0xd9\n",
      "Corrupt JPEG data: 1153 extraneous bytes before marker 0xd9\n",
      "Corrupt JPEG data: 162 extraneous bytes before marker 0xd9\n",
      "Corrupt JPEG data: 214 extraneous bytes before marker 0xd9\n",
      "Corrupt JPEG data: 99 extraneous bytes before marker 0xd9\n",
      "Corrupt JPEG data: 1403 extraneous bytes before marker 0xd9\n"
     ]
    },
    {
     "name": "stdout",
     "output_type": "stream",
     "text": [
      "147/147 [==============================] - 12s 79ms/step - loss: 0.0794 - accuracy: 0.9693 - val_loss: 1.2754 - val_accuracy: 0.7238\n",
      "Epoch 16/25\n"
     ]
    },
    {
     "name": "stderr",
     "output_type": "stream",
     "text": [
      "Corrupt JPEG data: 2226 extraneous bytes before marker 0xd9\n"
     ]
    },
    {
     "name": "stdout",
     "output_type": "stream",
     "text": [
      " 78/147 [==============>...............] - ETA: 3s - loss: 0.0889 - accuracy: 0.9652"
     ]
    },
    {
     "name": "stderr",
     "output_type": "stream",
     "text": [
      "Corrupt JPEG data: 228 extraneous bytes before marker 0xd9\n"
     ]
    },
    {
     "name": "stdout",
     "output_type": "stream",
     "text": [
      " 85/147 [================>.............] - ETA: 3s - loss: 0.0863 - accuracy: 0.9665"
     ]
    },
    {
     "name": "stderr",
     "output_type": "stream",
     "text": [
      "Warning: unknown JFIF revision number 0.00\n"
     ]
    },
    {
     "name": "stdout",
     "output_type": "stream",
     "text": [
      "105/147 [====================>.........] - ETA: 2s - loss: 0.0841 - accuracy: 0.9670"
     ]
    },
    {
     "name": "stderr",
     "output_type": "stream",
     "text": [
      "Corrupt JPEG data: 128 extraneous bytes before marker 0xd9\n",
      "Corrupt JPEG data: 65 extraneous bytes before marker 0xd9\n"
     ]
    },
    {
     "name": "stdout",
     "output_type": "stream",
     "text": [
      "110/147 [=====================>........] - ETA: 2s - loss: 0.0826 - accuracy: 0.9675"
     ]
    },
    {
     "name": "stderr",
     "output_type": "stream",
     "text": [
      "Corrupt JPEG data: 396 extraneous bytes before marker 0xd9\n",
      "Corrupt JPEG data: 239 extraneous bytes before marker 0xd9\n"
     ]
    },
    {
     "name": "stdout",
     "output_type": "stream",
     "text": [
      "146/147 [============================>.] - ETA: 0s - loss: 0.0803 - accuracy: 0.9689"
     ]
    },
    {
     "name": "stderr",
     "output_type": "stream",
     "text": [
      "Corrupt JPEG data: 252 extraneous bytes before marker 0xd9\n",
      "Corrupt JPEG data: 1153 extraneous bytes before marker 0xd9\n",
      "Corrupt JPEG data: 162 extraneous bytes before marker 0xd9\n",
      "Corrupt JPEG data: 214 extraneous bytes before marker 0xd9\n",
      "Corrupt JPEG data: 99 extraneous bytes before marker 0xd9\n",
      "Corrupt JPEG data: 1403 extraneous bytes before marker 0xd9\n"
     ]
    },
    {
     "name": "stdout",
     "output_type": "stream",
     "text": [
      "147/147 [==============================] - 12s 78ms/step - loss: 0.0802 - accuracy: 0.9689 - val_loss: 1.1369 - val_accuracy: 0.7433\n",
      "Epoch 17/25\n"
     ]
    },
    {
     "name": "stderr",
     "output_type": "stream",
     "text": [
      "Corrupt JPEG data: 2226 extraneous bytes before marker 0xd9\n"
     ]
    },
    {
     "name": "stdout",
     "output_type": "stream",
     "text": [
      " 77/147 [==============>...............] - ETA: 3s - loss: 0.0738 - accuracy: 0.9729"
     ]
    },
    {
     "name": "stderr",
     "output_type": "stream",
     "text": [
      "Corrupt JPEG data: 228 extraneous bytes before marker 0xd9\n"
     ]
    },
    {
     "name": "stdout",
     "output_type": "stream",
     "text": [
      " 85/147 [================>.............] - ETA: 3s - loss: 0.0753 - accuracy: 0.9722"
     ]
    },
    {
     "name": "stderr",
     "output_type": "stream",
     "text": [
      "Warning: unknown JFIF revision number 0.00\n"
     ]
    },
    {
     "name": "stdout",
     "output_type": "stream",
     "text": [
      "105/147 [====================>.........] - ETA: 2s - loss: 0.0754 - accuracy: 0.9722"
     ]
    },
    {
     "name": "stderr",
     "output_type": "stream",
     "text": [
      "Corrupt JPEG data: 128 extraneous bytes before marker 0xd9\n",
      "Corrupt JPEG data: 65 extraneous bytes before marker 0xd9\n",
      "Corrupt JPEG data: 396 extraneous bytes before marker 0xd9\n"
     ]
    },
    {
     "name": "stdout",
     "output_type": "stream",
     "text": [
      "111/147 [=====================>........] - ETA: 2s - loss: 0.0755 - accuracy: 0.9723"
     ]
    },
    {
     "name": "stderr",
     "output_type": "stream",
     "text": [
      "Corrupt JPEG data: 239 extraneous bytes before marker 0xd9\n"
     ]
    },
    {
     "name": "stdout",
     "output_type": "stream",
     "text": [
      "145/147 [============================>.] - ETA: 0s - loss: 0.0737 - accuracy: 0.9732"
     ]
    },
    {
     "name": "stderr",
     "output_type": "stream",
     "text": [
      "Corrupt JPEG data: 252 extraneous bytes before marker 0xd9\n",
      "Corrupt JPEG data: 1153 extraneous bytes before marker 0xd9\n",
      "Corrupt JPEG data: 162 extraneous bytes before marker 0xd9\n",
      "Corrupt JPEG data: 214 extraneous bytes before marker 0xd9\n",
      "Corrupt JPEG data: 99 extraneous bytes before marker 0xd9\n",
      "Corrupt JPEG data: 1403 extraneous bytes before marker 0xd9\n"
     ]
    },
    {
     "name": "stdout",
     "output_type": "stream",
     "text": [
      "147/147 [==============================] - 10s 64ms/step - loss: 0.0735 - accuracy: 0.9732 - val_loss: 1.3491 - val_accuracy: 0.7275\n",
      "Epoch 18/25\n"
     ]
    },
    {
     "name": "stderr",
     "output_type": "stream",
     "text": [
      "Corrupt JPEG data: 2226 extraneous bytes before marker 0xd9\n"
     ]
    },
    {
     "name": "stdout",
     "output_type": "stream",
     "text": [
      " 77/147 [==============>...............] - ETA: 5s - loss: 0.0642 - accuracy: 0.9766"
     ]
    },
    {
     "name": "stderr",
     "output_type": "stream",
     "text": [
      "Corrupt JPEG data: 228 extraneous bytes before marker 0xd9\n"
     ]
    },
    {
     "name": "stdout",
     "output_type": "stream",
     "text": [
      " 84/147 [================>.............] - ETA: 4s - loss: 0.0639 - accuracy: 0.9769"
     ]
    },
    {
     "name": "stderr",
     "output_type": "stream",
     "text": [
      "Warning: unknown JFIF revision number 0.00\n"
     ]
    },
    {
     "name": "stdout",
     "output_type": "stream",
     "text": [
      "104/147 [====================>.........] - ETA: 3s - loss: 0.0637 - accuracy: 0.9772"
     ]
    },
    {
     "name": "stderr",
     "output_type": "stream",
     "text": [
      "Corrupt JPEG data: 128 extraneous bytes before marker 0xd9\n"
     ]
    },
    {
     "name": "stdout",
     "output_type": "stream",
     "text": [
      "107/147 [====================>.........] - ETA: 2s - loss: 0.0629 - accuracy: 0.9775"
     ]
    },
    {
     "name": "stderr",
     "output_type": "stream",
     "text": [
      "Corrupt JPEG data: 65 extraneous bytes before marker 0xd9\n"
     ]
    },
    {
     "name": "stdout",
     "output_type": "stream",
     "text": [
      "110/147 [=====================>........] - ETA: 2s - loss: 0.0632 - accuracy: 0.9774"
     ]
    },
    {
     "name": "stderr",
     "output_type": "stream",
     "text": [
      "Corrupt JPEG data: 396 extraneous bytes before marker 0xd9\n",
      "Corrupt JPEG data: 239 extraneous bytes before marker 0xd9\n"
     ]
    },
    {
     "name": "stdout",
     "output_type": "stream",
     "text": [
      "146/147 [============================>.] - ETA: 0s - loss: 0.0621 - accuracy: 0.9773"
     ]
    },
    {
     "name": "stderr",
     "output_type": "stream",
     "text": [
      "Corrupt JPEG data: 252 extraneous bytes before marker 0xd9\n",
      "Corrupt JPEG data: 1153 extraneous bytes before marker 0xd9\n",
      "Corrupt JPEG data: 162 extraneous bytes before marker 0xd9\n",
      "Corrupt JPEG data: 214 extraneous bytes before marker 0xd9\n",
      "Corrupt JPEG data: 99 extraneous bytes before marker 0xd9\n",
      "Corrupt JPEG data: 1403 extraneous bytes before marker 0xd9\n"
     ]
    },
    {
     "name": "stdout",
     "output_type": "stream",
     "text": [
      "147/147 [==============================] - 14s 92ms/step - loss: 0.0620 - accuracy: 0.9773 - val_loss: 1.1884 - val_accuracy: 0.7431\n",
      "Epoch 19/25\n"
     ]
    },
    {
     "name": "stderr",
     "output_type": "stream",
     "text": [
      "Corrupt JPEG data: 2226 extraneous bytes before marker 0xd9\n"
     ]
    },
    {
     "name": "stdout",
     "output_type": "stream",
     "text": [
      " 78/147 [==============>...............] - ETA: 4s - loss: 0.0599 - accuracy: 0.9783"
     ]
    },
    {
     "name": "stderr",
     "output_type": "stream",
     "text": [
      "Corrupt JPEG data: 228 extraneous bytes before marker 0xd9\n"
     ]
    },
    {
     "name": "stdout",
     "output_type": "stream",
     "text": [
      " 85/147 [================>.............] - ETA: 3s - loss: 0.0584 - accuracy: 0.9789"
     ]
    },
    {
     "name": "stderr",
     "output_type": "stream",
     "text": [
      "Warning: unknown JFIF revision number 0.00\n"
     ]
    },
    {
     "name": "stdout",
     "output_type": "stream",
     "text": [
      "105/147 [====================>.........] - ETA: 2s - loss: 0.0600 - accuracy: 0.9782"
     ]
    },
    {
     "name": "stderr",
     "output_type": "stream",
     "text": [
      "Corrupt JPEG data: 128 extraneous bytes before marker 0xd9\n",
      "Corrupt JPEG data: 65 extraneous bytes before marker 0xd9\n"
     ]
    },
    {
     "name": "stdout",
     "output_type": "stream",
     "text": [
      "110/147 [=====================>........] - ETA: 2s - loss: 0.0604 - accuracy: 0.9779"
     ]
    },
    {
     "name": "stderr",
     "output_type": "stream",
     "text": [
      "Corrupt JPEG data: 396 extraneous bytes before marker 0xd9\n",
      "Corrupt JPEG data: 239 extraneous bytes before marker 0xd9\n"
     ]
    },
    {
     "name": "stdout",
     "output_type": "stream",
     "text": [
      "146/147 [============================>.] - ETA: 0s - loss: 0.0616 - accuracy: 0.9775"
     ]
    },
    {
     "name": "stderr",
     "output_type": "stream",
     "text": [
      "Corrupt JPEG data: 252 extraneous bytes before marker 0xd9\n",
      "Corrupt JPEG data: 1153 extraneous bytes before marker 0xd9\n",
      "Corrupt JPEG data: 162 extraneous bytes before marker 0xd9\n",
      "Corrupt JPEG data: 214 extraneous bytes before marker 0xd9\n",
      "Corrupt JPEG data: 99 extraneous bytes before marker 0xd9\n",
      "Corrupt JPEG data: 1403 extraneous bytes before marker 0xd9\n"
     ]
    },
    {
     "name": "stdout",
     "output_type": "stream",
     "text": [
      "147/147 [==============================] - 12s 78ms/step - loss: 0.0618 - accuracy: 0.9774 - val_loss: 1.1518 - val_accuracy: 0.7478\n",
      "Epoch 20/25\n"
     ]
    },
    {
     "name": "stderr",
     "output_type": "stream",
     "text": [
      "Corrupt JPEG data: 2226 extraneous bytes before marker 0xd9\n"
     ]
    },
    {
     "name": "stdout",
     "output_type": "stream",
     "text": [
      " 78/147 [==============>...............] - ETA: 4s - loss: 0.0848 - accuracy: 0.9681"
     ]
    },
    {
     "name": "stderr",
     "output_type": "stream",
     "text": [
      "Corrupt JPEG data: 228 extraneous bytes before marker 0xd9\n"
     ]
    },
    {
     "name": "stdout",
     "output_type": "stream",
     "text": [
      " 86/147 [================>.............] - ETA: 3s - loss: 0.0819 - accuracy: 0.9694"
     ]
    },
    {
     "name": "stderr",
     "output_type": "stream",
     "text": [
      "Warning: unknown JFIF revision number 0.00\n"
     ]
    },
    {
     "name": "stdout",
     "output_type": "stream",
     "text": [
      "106/147 [====================>.........] - ETA: 2s - loss: 0.0771 - accuracy: 0.9711"
     ]
    },
    {
     "name": "stderr",
     "output_type": "stream",
     "text": [
      "Corrupt JPEG data: 128 extraneous bytes before marker 0xd9\n",
      "Corrupt JPEG data: 65 extraneous bytes before marker 0xd9\n"
     ]
    },
    {
     "name": "stdout",
     "output_type": "stream",
     "text": [
      "110/147 [=====================>........] - ETA: 2s - loss: 0.0774 - accuracy: 0.9712"
     ]
    },
    {
     "name": "stderr",
     "output_type": "stream",
     "text": [
      "Corrupt JPEG data: 396 extraneous bytes before marker 0xd9\n",
      "Corrupt JPEG data: 239 extraneous bytes before marker 0xd9\n"
     ]
    },
    {
     "name": "stdout",
     "output_type": "stream",
     "text": [
      "146/147 [============================>.] - ETA: 0s - loss: 0.0713 - accuracy: 0.9731"
     ]
    },
    {
     "name": "stderr",
     "output_type": "stream",
     "text": [
      "Corrupt JPEG data: 252 extraneous bytes before marker 0xd9\n",
      "Corrupt JPEG data: 1153 extraneous bytes before marker 0xd9\n",
      "Corrupt JPEG data: 162 extraneous bytes before marker 0xd9\n",
      "Corrupt JPEG data: 214 extraneous bytes before marker 0xd9\n",
      "Corrupt JPEG data: 99 extraneous bytes before marker 0xd9\n",
      "Corrupt JPEG data: 1403 extraneous bytes before marker 0xd9\n"
     ]
    },
    {
     "name": "stdout",
     "output_type": "stream",
     "text": [
      "147/147 [==============================] - 11s 70ms/step - loss: 0.0713 - accuracy: 0.9730 - val_loss: 1.1003 - val_accuracy: 0.7522\n",
      "Epoch 21/25\n"
     ]
    },
    {
     "name": "stderr",
     "output_type": "stream",
     "text": [
      "Corrupt JPEG data: 2226 extraneous bytes before marker 0xd9\n"
     ]
    },
    {
     "name": "stdout",
     "output_type": "stream",
     "text": [
      " 78/147 [==============>...............] - ETA: 3s - loss: 0.0490 - accuracy: 0.9830"
     ]
    },
    {
     "name": "stderr",
     "output_type": "stream",
     "text": [
      "Corrupt JPEG data: 228 extraneous bytes before marker 0xd9\n"
     ]
    },
    {
     "name": "stdout",
     "output_type": "stream",
     "text": [
      " 85/147 [================>.............] - ETA: 3s - loss: 0.0487 - accuracy: 0.9830"
     ]
    },
    {
     "name": "stderr",
     "output_type": "stream",
     "text": [
      "Warning: unknown JFIF revision number 0.00\n"
     ]
    },
    {
     "name": "stdout",
     "output_type": "stream",
     "text": [
      "105/147 [====================>.........] - ETA: 2s - loss: 0.0481 - accuracy: 0.9831"
     ]
    },
    {
     "name": "stderr",
     "output_type": "stream",
     "text": [
      "Corrupt JPEG data: 128 extraneous bytes before marker 0xd9\n",
      "Corrupt JPEG data: 65 extraneous bytes before marker 0xd9\n"
     ]
    },
    {
     "name": "stdout",
     "output_type": "stream",
     "text": [
      "110/147 [=====================>........] - ETA: 2s - loss: 0.0476 - accuracy: 0.9832"
     ]
    },
    {
     "name": "stderr",
     "output_type": "stream",
     "text": [
      "Corrupt JPEG data: 396 extraneous bytes before marker 0xd9\n",
      "Corrupt JPEG data: 239 extraneous bytes before marker 0xd9\n"
     ]
    },
    {
     "name": "stdout",
     "output_type": "stream",
     "text": [
      "146/147 [============================>.] - ETA: 0s - loss: 0.0476 - accuracy: 0.9829"
     ]
    },
    {
     "name": "stderr",
     "output_type": "stream",
     "text": [
      "Corrupt JPEG data: 252 extraneous bytes before marker 0xd9\n",
      "Corrupt JPEG data: 1153 extraneous bytes before marker 0xd9\n",
      "Corrupt JPEG data: 162 extraneous bytes before marker 0xd9\n",
      "Corrupt JPEG data: 214 extraneous bytes before marker 0xd9\n",
      "Corrupt JPEG data: 99 extraneous bytes before marker 0xd9\n",
      "Corrupt JPEG data: 1403 extraneous bytes before marker 0xd9\n"
     ]
    },
    {
     "name": "stdout",
     "output_type": "stream",
     "text": [
      "147/147 [==============================] - 12s 80ms/step - loss: 0.0476 - accuracy: 0.9829 - val_loss: 1.1199 - val_accuracy: 0.7507\n",
      "Epoch 22/25\n"
     ]
    },
    {
     "name": "stderr",
     "output_type": "stream",
     "text": [
      "Corrupt JPEG data: 2226 extraneous bytes before marker 0xd9\n"
     ]
    },
    {
     "name": "stdout",
     "output_type": "stream",
     "text": [
      " 78/147 [==============>...............] - ETA: 4s - loss: 0.0499 - accuracy: 0.9816"
     ]
    },
    {
     "name": "stderr",
     "output_type": "stream",
     "text": [
      "Corrupt JPEG data: 228 extraneous bytes before marker 0xd9\n"
     ]
    },
    {
     "name": "stdout",
     "output_type": "stream",
     "text": [
      " 85/147 [================>.............] - ETA: 4s - loss: 0.0514 - accuracy: 0.9809"
     ]
    },
    {
     "name": "stderr",
     "output_type": "stream",
     "text": [
      "Warning: unknown JFIF revision number 0.00\n"
     ]
    },
    {
     "name": "stdout",
     "output_type": "stream",
     "text": [
      "105/147 [====================>.........] - ETA: 2s - loss: 0.0510 - accuracy: 0.9810"
     ]
    },
    {
     "name": "stderr",
     "output_type": "stream",
     "text": [
      "Corrupt JPEG data: 128 extraneous bytes before marker 0xd9\n",
      "Corrupt JPEG data: 65 extraneous bytes before marker 0xd9\n"
     ]
    },
    {
     "name": "stdout",
     "output_type": "stream",
     "text": [
      "110/147 [=====================>........] - ETA: 2s - loss: 0.0506 - accuracy: 0.9812"
     ]
    },
    {
     "name": "stderr",
     "output_type": "stream",
     "text": [
      "Corrupt JPEG data: 396 extraneous bytes before marker 0xd9\n",
      "Corrupt JPEG data: 239 extraneous bytes before marker 0xd9\n"
     ]
    },
    {
     "name": "stdout",
     "output_type": "stream",
     "text": [
      "145/147 [============================>.] - ETA: 0s - loss: 0.0528 - accuracy: 0.9800"
     ]
    },
    {
     "name": "stderr",
     "output_type": "stream",
     "text": [
      "Corrupt JPEG data: 252 extraneous bytes before marker 0xd9\n",
      "Corrupt JPEG data: 1153 extraneous bytes before marker 0xd9\n",
      "Corrupt JPEG data: 162 extraneous bytes before marker 0xd9\n",
      "Corrupt JPEG data: 214 extraneous bytes before marker 0xd9\n",
      "Corrupt JPEG data: 99 extraneous bytes before marker 0xd9\n",
      "Corrupt JPEG data: 1403 extraneous bytes before marker 0xd9\n"
     ]
    },
    {
     "name": "stdout",
     "output_type": "stream",
     "text": [
      "147/147 [==============================] - 11s 72ms/step - loss: 0.0528 - accuracy: 0.9801 - val_loss: 1.2479 - val_accuracy: 0.7488\n",
      "Epoch 23/25\n"
     ]
    },
    {
     "name": "stderr",
     "output_type": "stream",
     "text": [
      "Corrupt JPEG data: 2226 extraneous bytes before marker 0xd9\n"
     ]
    },
    {
     "name": "stdout",
     "output_type": "stream",
     "text": [
      " 78/147 [==============>...............] - ETA: 4s - loss: 0.0570 - accuracy: 0.9793"
     ]
    },
    {
     "name": "stderr",
     "output_type": "stream",
     "text": [
      "Corrupt JPEG data: 228 extraneous bytes before marker 0xd9\n"
     ]
    },
    {
     "name": "stdout",
     "output_type": "stream",
     "text": [
      " 86/147 [================>.............] - ETA: 3s - loss: 0.0578 - accuracy: 0.9791"
     ]
    },
    {
     "name": "stderr",
     "output_type": "stream",
     "text": [
      "Warning: unknown JFIF revision number 0.00\n"
     ]
    },
    {
     "name": "stdout",
     "output_type": "stream",
     "text": [
      "106/147 [====================>.........] - ETA: 2s - loss: 0.0580 - accuracy: 0.9788"
     ]
    },
    {
     "name": "stderr",
     "output_type": "stream",
     "text": [
      "Corrupt JPEG data: 128 extraneous bytes before marker 0xd9\n",
      "Corrupt JPEG data: 65 extraneous bytes before marker 0xd9\n"
     ]
    },
    {
     "name": "stdout",
     "output_type": "stream",
     "text": [
      "110/147 [=====================>........] - ETA: 2s - loss: 0.0579 - accuracy: 0.9790"
     ]
    },
    {
     "name": "stderr",
     "output_type": "stream",
     "text": [
      "Corrupt JPEG data: 396 extraneous bytes before marker 0xd9\n",
      "Corrupt JPEG data: 239 extraneous bytes before marker 0xd9\n"
     ]
    },
    {
     "name": "stdout",
     "output_type": "stream",
     "text": [
      "146/147 [============================>.] - ETA: 0s - loss: 0.0582 - accuracy: 0.9793"
     ]
    },
    {
     "name": "stderr",
     "output_type": "stream",
     "text": [
      "Corrupt JPEG data: 252 extraneous bytes before marker 0xd9\n",
      "Corrupt JPEG data: 1153 extraneous bytes before marker 0xd9\n",
      "Corrupt JPEG data: 162 extraneous bytes before marker 0xd9\n",
      "Corrupt JPEG data: 214 extraneous bytes before marker 0xd9\n",
      "Corrupt JPEG data: 99 extraneous bytes before marker 0xd9\n",
      "Corrupt JPEG data: 1403 extraneous bytes before marker 0xd9\n"
     ]
    },
    {
     "name": "stdout",
     "output_type": "stream",
     "text": [
      "147/147 [==============================] - 12s 77ms/step - loss: 0.0582 - accuracy: 0.9794 - val_loss: 1.1607 - val_accuracy: 0.7529\n",
      "Epoch 24/25\n"
     ]
    },
    {
     "name": "stderr",
     "output_type": "stream",
     "text": [
      "Corrupt JPEG data: 2226 extraneous bytes before marker 0xd9\n"
     ]
    },
    {
     "name": "stdout",
     "output_type": "stream",
     "text": [
      " 78/147 [==============>...............] - ETA: 3s - loss: 0.0654 - accuracy: 0.9758"
     ]
    },
    {
     "name": "stderr",
     "output_type": "stream",
     "text": [
      "Corrupt JPEG data: 228 extraneous bytes before marker 0xd9\n"
     ]
    },
    {
     "name": "stdout",
     "output_type": "stream",
     "text": [
      " 85/147 [================>.............] - ETA: 3s - loss: 0.0655 - accuracy: 0.9755"
     ]
    },
    {
     "name": "stderr",
     "output_type": "stream",
     "text": [
      "Warning: unknown JFIF revision number 0.00\n"
     ]
    },
    {
     "name": "stdout",
     "output_type": "stream",
     "text": [
      "105/147 [====================>.........] - ETA: 2s - loss: 0.0634 - accuracy: 0.9761"
     ]
    },
    {
     "name": "stderr",
     "output_type": "stream",
     "text": [
      "Corrupt JPEG data: 128 extraneous bytes before marker 0xd9\n",
      "Corrupt JPEG data: 65 extraneous bytes before marker 0xd9\n"
     ]
    },
    {
     "name": "stdout",
     "output_type": "stream",
     "text": [
      "110/147 [=====================>........] - ETA: 2s - loss: 0.0624 - accuracy: 0.9763"
     ]
    },
    {
     "name": "stderr",
     "output_type": "stream",
     "text": [
      "Corrupt JPEG data: 396 extraneous bytes before marker 0xd9\n",
      "Corrupt JPEG data: 239 extraneous bytes before marker 0xd9\n"
     ]
    },
    {
     "name": "stdout",
     "output_type": "stream",
     "text": [
      "146/147 [============================>.] - ETA: 0s - loss: 0.0604 - accuracy: 0.9767"
     ]
    },
    {
     "name": "stderr",
     "output_type": "stream",
     "text": [
      "Corrupt JPEG data: 252 extraneous bytes before marker 0xd9\n",
      "Corrupt JPEG data: 1153 extraneous bytes before marker 0xd9\n",
      "Corrupt JPEG data: 162 extraneous bytes before marker 0xd9\n",
      "Corrupt JPEG data: 214 extraneous bytes before marker 0xd9\n",
      "Corrupt JPEG data: 99 extraneous bytes before marker 0xd9\n",
      "Corrupt JPEG data: 1403 extraneous bytes before marker 0xd9\n"
     ]
    },
    {
     "name": "stdout",
     "output_type": "stream",
     "text": [
      "147/147 [==============================] - 11s 73ms/step - loss: 0.0603 - accuracy: 0.9768 - val_loss: 1.2747 - val_accuracy: 0.7416\n",
      "Epoch 25/25\n"
     ]
    },
    {
     "name": "stderr",
     "output_type": "stream",
     "text": [
      "Corrupt JPEG data: 2226 extraneous bytes before marker 0xd9\n"
     ]
    },
    {
     "name": "stdout",
     "output_type": "stream",
     "text": [
      " 78/147 [==============>...............] - ETA: 5s - loss: 0.0402 - accuracy: 0.9854"
     ]
    },
    {
     "name": "stderr",
     "output_type": "stream",
     "text": [
      "Corrupt JPEG data: 228 extraneous bytes before marker 0xd9\n"
     ]
    },
    {
     "name": "stdout",
     "output_type": "stream",
     "text": [
      " 85/147 [================>.............] - ETA: 4s - loss: 0.0399 - accuracy: 0.9855"
     ]
    },
    {
     "name": "stderr",
     "output_type": "stream",
     "text": [
      "Warning: unknown JFIF revision number 0.00\n"
     ]
    },
    {
     "name": "stdout",
     "output_type": "stream",
     "text": [
      "105/147 [====================>.........] - ETA: 2s - loss: 0.0372 - accuracy: 0.9865"
     ]
    },
    {
     "name": "stderr",
     "output_type": "stream",
     "text": [
      "Corrupt JPEG data: 128 extraneous bytes before marker 0xd9\n",
      "Corrupt JPEG data: 65 extraneous bytes before marker 0xd9\n"
     ]
    },
    {
     "name": "stdout",
     "output_type": "stream",
     "text": [
      "111/147 [=====================>........] - ETA: 2s - loss: 0.0368 - accuracy: 0.9866"
     ]
    },
    {
     "name": "stderr",
     "output_type": "stream",
     "text": [
      "Corrupt JPEG data: 396 extraneous bytes before marker 0xd9\n",
      "Corrupt JPEG data: 239 extraneous bytes before marker 0xd9\n"
     ]
    },
    {
     "name": "stdout",
     "output_type": "stream",
     "text": [
      "145/147 [============================>.] - ETA: 0s - loss: 0.0381 - accuracy: 0.9863"
     ]
    },
    {
     "name": "stderr",
     "output_type": "stream",
     "text": [
      "Corrupt JPEG data: 252 extraneous bytes before marker 0xd9\n",
      "Corrupt JPEG data: 1153 extraneous bytes before marker 0xd9\n",
      "Corrupt JPEG data: 162 extraneous bytes before marker 0xd9\n",
      "Corrupt JPEG data: 214 extraneous bytes before marker 0xd9\n",
      "Corrupt JPEG data: 99 extraneous bytes before marker 0xd9\n",
      "Corrupt JPEG data: 1403 extraneous bytes before marker 0xd9\n"
     ]
    },
    {
     "name": "stdout",
     "output_type": "stream",
     "text": [
      "\b\b\b\b\b\b\b\b\b\b\b\b\b\b\b\b\b\b\b\b\b\b\b\b\b\b\b\b\b\b\b\b\b\b\b\b\b\b\b\b\b\b\b\b\b\b\b\b\b\b\b\b\b\b\b\b\b\b\b\b\b\b\b\b\b\b\b\b\b\b\b\b\b\b\b\b\b\b\b\b\b\b\b\b\r",
      "147/147 [==============================] - 11s 76ms/step - loss: 0.0381 - accuracy: 0.9863 - val_loss: 1.4134 - val_accuracy: 0.7413\n"
     ]
    },
    {
     "data": {
      "text/plain": [
       "<keras.src.callbacks.History at 0x2c22fdb10>"
      ]
     },
     "execution_count": 33,
     "metadata": {},
     "output_type": "execute_result"
    }
   ],
   "source": [
    "epochs = 25\n",
    "\n",
    "callbacks = [\n",
    "    keras.callbacks.ModelCheckpoint(\"save_at_{epoch}.keras\"),\n",
    "]\n",
    "model.compile(\n",
    "    optimizer=keras.optimizers.Adam(1e-3),\n",
    "    loss=\"binary_crossentropy\",\n",
    "    metrics=[\"accuracy\"],\n",
    ")\n",
    "model.fit(\n",
    "    train_ds,\n",
    "    epochs=epochs,\n",
    "    callbacks=callbacks,\n",
    "    validation_data=val_ds,\n",
    ")\n"
   ]
  },
  {
   "cell_type": "markdown",
   "metadata": {},
   "source": [
    "### 3.2.4 Model testing\n",
    "\n",
    "We can now input new data into the model. The way to do that is to use keras' built in image processing to rescale the data, then turn it into an array of the correct dimensions. Then we can just run `model.predict`."
   ]
  },
  {
   "cell_type": "code",
   "execution_count": 34,
   "metadata": {},
   "outputs": [
    {
     "name": "stdout",
     "output_type": "stream",
     "text": [
      "1/1 [==============================] - 1s 929ms/step\n",
      "This image is 100.00% cat and 0.00% dog.\n"
     ]
    },
    {
     "data": {
      "image/png": "[encoded data removed]",
      "text/plain": [
       "<Figure size 640x480 with 1 Axes>"
      ]
     },
     "metadata": {},
     "output_type": "display_data"
    }
   ],
   "source": [
    "img = keras.utils.load_img(\n",
    "    \"PetImages/Cat/6779.jpg\", target_size=image_size\n",
    ")\n",
    "plt.imshow(img)\n",
    "\n",
    "img_array = keras.utils.img_to_array(img)\n",
    "img_array = tf.expand_dims(img_array, 0)  # Create batch axis\n",
    "\n",
    "predictions = model.predict(img_array)\n",
    "score = float(predictions[0])\n",
    "print(f\"This image is {100 * (1 - score):.2f}% cat and {100 * score:.2f}% dog.\")\n"
   ]
  },
  {
   "cell_type": "markdown",
   "metadata": {},
   "source": [
    "In a practical assessment, it could be helpful to examine the model: extract the features that were informative and see why they implied cat or dog."
   ]
  },
  {
   "cell_type": "markdown",
   "metadata": {},
   "source": [
    "## 4.1 The importance of Quality control: predicting TOR traffic\n",
    "\n",
    "This cyber dataset is a) faster to run than the images, and b) demonstrates a very important **quality control** issue.\n",
    "\n",
    "We will be using the following TOR data. This stands for The Onion Router - a way to \"privately\" visit websites without your Internet Service Provider being able to tell, because you route it through another server. The problem is a simple classification one: we try to predict from features of the data whether it has been routed by TOR.\n",
    "\n",
    "The data are described here:\n",
    "\n",
    "http://www.unb.ca/cic/research/datasets/tor.html\n",
    "\n",
    "We are using the 18Mb csv file which is a summary of the traffic (there is a 22Gb raw dataset we won't touch).\n",
    "\n",
    "Overview: https://www.unb.ca/cic/datasets/tor.html\n",
    "\n",
    "One example analysis: https://www.analyticsvidhya.com/blog/2018/07/using-power-deep-learning-cyber-security/\n",
    "\n",
    "This is the citation:\n",
    "\n",
    "Arash Habibi Lashkari, Gerard Draper-Gil, Mohammad Saiful Islam Mamun and Ali A. Ghorbani, \"Characterization of Tor Traffic Using Time Based Features\", In the proceeding of the 3rd International Conference on Information System Security and Privacy, SCITEPRESS, Porto, Portugal, 2017.\n",
    "\n",
    "We have extracted only a single file here, and password encrypted it. To access the rest of the documents, you need to agree to the T&Cs and download the files directly from UNB. (Which is free for academic use.)\n",
    "\n",
    "### 4.1.1 Obtain the data\n",
    "\n",
    "We have a local version of the data on the dsbristol github, as the website requires interactive downloading."
   ]
  },
  {
   "cell_type": "code",
   "execution_count": 35,
   "metadata": {},
   "outputs": [
    {
     "data": {
      "text/plain": [
       "4391912"
      ]
     },
     "execution_count": 35,
     "metadata": {},
     "output_type": "execute_result"
    }
   ],
   "source": [
    "import requests\n",
    "\n",
    "## Get the csv data\n",
    "url = 'https://github.com/dsbristol/dst/blob/master/data/merged_5s.zip?raw=true'\n",
    "r = requests.get(url, allow_redirects=True)\n",
    "open('../data/merged_5s.zip', 'wb').write(r.content)"
   ]
  },
  {
   "cell_type": "markdown",
   "metadata": {},
   "source": [
    "Programatically extract the data:"
   ]
  },
  {
   "cell_type": "code",
   "execution_count": 36,
   "metadata": {},
   "outputs": [
    {
     "data": {
      "text/plain": [
       "'/Users/madjl/teach/dst-private/Workshops'"
      ]
     },
     "execution_count": 36,
     "metadata": {},
     "output_type": "execute_result"
    }
   ],
   "source": [
    "import os \n",
    "os.getcwd()"
   ]
  },
  {
   "cell_type": "code",
   "execution_count": 37,
   "metadata": {},
   "outputs": [],
   "source": [
    "from zipfile import ZipFile\n",
    "\n",
    "with ZipFile('../data/merged_5s.zip') as zf:\n",
    "    zf.extractall(pwd=b'dsbristol',path=\"../data/\")"
   ]
  },
  {
   "cell_type": "markdown",
   "metadata": {},
   "source": [
    "### 4.1.2 TOR data processing\n",
    "\n",
    "On to the CSV file. We'll do the standard examination of the data."
   ]
  },
  {
   "cell_type": "code",
   "execution_count": 38,
   "metadata": {},
   "outputs": [],
   "source": [
    "import pandas as pd\n",
    "df=pd.read_csv('../data/merged_5s.csv', sep=',')"
   ]
  },
  {
   "cell_type": "code",
   "execution_count": 39,
   "metadata": {},
   "outputs": [
    {
     "data": {
      "text/html": [
       "<div>\n",
       "<style scoped>\n",
       "    .dataframe tbody tr th:only-of-type {\n",
       "        vertical-align: middle;\n",
       "    }\n",
       "\n",
       "    .dataframe tbody tr th {\n",
       "        vertical-align: top;\n",
       "    }\n",
       "\n",
       "    .dataframe thead th {\n",
       "        text-align: right;\n",
       "    }\n",
       "</style>\n",
       "<table border=\"1\" class=\"dataframe\">\n",
       "  <thead>\n",
       "    <tr style=\"text-align: right;\">\n",
       "      <th></th>\n",
       "      <th>Source IP</th>\n",
       "      <th>Source Port</th>\n",
       "      <th>Destination IP</th>\n",
       "      <th>Destination Port</th>\n",
       "      <th>Protocol</th>\n",
       "      <th>Flow Duration</th>\n",
       "      <th>Flow Bytes/s</th>\n",
       "      <th>Flow Packets/s</th>\n",
       "      <th>Flow IAT Mean</th>\n",
       "      <th>Flow IAT Std</th>\n",
       "      <th>...</th>\n",
       "      <th>Bwd IAT Min</th>\n",
       "      <th>Active Mean</th>\n",
       "      <th>Active Std</th>\n",
       "      <th>Active Max</th>\n",
       "      <th>Active Min</th>\n",
       "      <th>Idle Mean</th>\n",
       "      <th>Idle Std</th>\n",
       "      <th>Idle Max</th>\n",
       "      <th>Idle Min</th>\n",
       "      <th>label</th>\n",
       "    </tr>\n",
       "  </thead>\n",
       "  <tbody>\n",
       "    <tr>\n",
       "      <th>0</th>\n",
       "      <td>10.0.2.15</td>\n",
       "      <td>53913</td>\n",
       "      <td>216.58.208.46</td>\n",
       "      <td>80</td>\n",
       "      <td>6</td>\n",
       "      <td>435</td>\n",
       "      <td>0.0</td>\n",
       "      <td>4597.701149</td>\n",
       "      <td>435.0</td>\n",
       "      <td>0.0</td>\n",
       "      <td>...</td>\n",
       "      <td>0</td>\n",
       "      <td>0</td>\n",
       "      <td>0</td>\n",
       "      <td>0</td>\n",
       "      <td>0</td>\n",
       "      <td>0</td>\n",
       "      <td>0</td>\n",
       "      <td>0</td>\n",
       "      <td>0</td>\n",
       "      <td>nonTOR</td>\n",
       "    </tr>\n",
       "    <tr>\n",
       "      <th>1</th>\n",
       "      <td>10.0.2.15</td>\n",
       "      <td>53913</td>\n",
       "      <td>216.58.208.46</td>\n",
       "      <td>80</td>\n",
       "      <td>6</td>\n",
       "      <td>259</td>\n",
       "      <td>0.0</td>\n",
       "      <td>7722.007722</td>\n",
       "      <td>259.0</td>\n",
       "      <td>0.0</td>\n",
       "      <td>...</td>\n",
       "      <td>0</td>\n",
       "      <td>0</td>\n",
       "      <td>0</td>\n",
       "      <td>0</td>\n",
       "      <td>0</td>\n",
       "      <td>0</td>\n",
       "      <td>0</td>\n",
       "      <td>0</td>\n",
       "      <td>0</td>\n",
       "      <td>nonTOR</td>\n",
       "    </tr>\n",
       "    <tr>\n",
       "      <th>2</th>\n",
       "      <td>10.0.2.15</td>\n",
       "      <td>53913</td>\n",
       "      <td>216.58.208.46</td>\n",
       "      <td>80</td>\n",
       "      <td>6</td>\n",
       "      <td>891</td>\n",
       "      <td>0.0</td>\n",
       "      <td>2244.668911</td>\n",
       "      <td>891.0</td>\n",
       "      <td>0.0</td>\n",
       "      <td>...</td>\n",
       "      <td>0</td>\n",
       "      <td>0</td>\n",
       "      <td>0</td>\n",
       "      <td>0</td>\n",
       "      <td>0</td>\n",
       "      <td>0</td>\n",
       "      <td>0</td>\n",
       "      <td>0</td>\n",
       "      <td>0</td>\n",
       "      <td>nonTOR</td>\n",
       "    </tr>\n",
       "    <tr>\n",
       "      <th>3</th>\n",
       "      <td>10.0.2.15</td>\n",
       "      <td>53913</td>\n",
       "      <td>216.58.208.46</td>\n",
       "      <td>80</td>\n",
       "      <td>6</td>\n",
       "      <td>1074</td>\n",
       "      <td>0.0</td>\n",
       "      <td>1862.197393</td>\n",
       "      <td>1074.0</td>\n",
       "      <td>0.0</td>\n",
       "      <td>...</td>\n",
       "      <td>0</td>\n",
       "      <td>0</td>\n",
       "      <td>0</td>\n",
       "      <td>0</td>\n",
       "      <td>0</td>\n",
       "      <td>0</td>\n",
       "      <td>0</td>\n",
       "      <td>0</td>\n",
       "      <td>0</td>\n",
       "      <td>nonTOR</td>\n",
       "    </tr>\n",
       "    <tr>\n",
       "      <th>4</th>\n",
       "      <td>10.0.2.15</td>\n",
       "      <td>53913</td>\n",
       "      <td>216.58.208.46</td>\n",
       "      <td>80</td>\n",
       "      <td>6</td>\n",
       "      <td>315</td>\n",
       "      <td>0.0</td>\n",
       "      <td>6349.206349</td>\n",
       "      <td>315.0</td>\n",
       "      <td>0.0</td>\n",
       "      <td>...</td>\n",
       "      <td>0</td>\n",
       "      <td>0</td>\n",
       "      <td>0</td>\n",
       "      <td>0</td>\n",
       "      <td>0</td>\n",
       "      <td>0</td>\n",
       "      <td>0</td>\n",
       "      <td>0</td>\n",
       "      <td>0</td>\n",
       "      <td>nonTOR</td>\n",
       "    </tr>\n",
       "  </tbody>\n",
       "</table>\n",
       "<p>5 rows × 29 columns</p>\n",
       "</div>"
      ],
      "text/plain": [
       "   Source IP   Source Port  Destination IP   Destination Port   Protocol  \\\n",
       "0  10.0.2.15         53913   216.58.208.46                 80          6   \n",
       "1  10.0.2.15         53913   216.58.208.46                 80          6   \n",
       "2  10.0.2.15         53913   216.58.208.46                 80          6   \n",
       "3  10.0.2.15         53913   216.58.208.46                 80          6   \n",
       "4  10.0.2.15         53913   216.58.208.46                 80          6   \n",
       "\n",
       "    Flow Duration   Flow Bytes/s   Flow Packets/s   Flow IAT Mean  \\\n",
       "0             435            0.0      4597.701149           435.0   \n",
       "1             259            0.0      7722.007722           259.0   \n",
       "2             891            0.0      2244.668911           891.0   \n",
       "3            1074            0.0      1862.197393          1074.0   \n",
       "4             315            0.0      6349.206349           315.0   \n",
       "\n",
       "    Flow IAT Std  ...   Bwd IAT Min  Active Mean   Active Std   Active Max  \\\n",
       "0            0.0  ...             0            0            0            0   \n",
       "1            0.0  ...             0            0            0            0   \n",
       "2            0.0  ...             0            0            0            0   \n",
       "3            0.0  ...             0            0            0            0   \n",
       "4            0.0  ...             0            0            0            0   \n",
       "\n",
       "    Active Min  Idle Mean   Idle Std   Idle Max   Idle Min   label  \n",
       "0            0          0          0          0          0  nonTOR  \n",
       "1            0          0          0          0          0  nonTOR  \n",
       "2            0          0          0          0          0  nonTOR  \n",
       "3            0          0          0          0          0  nonTOR  \n",
       "4            0          0          0          0          0  nonTOR  \n",
       "\n",
       "[5 rows x 29 columns]"
      ]
     },
     "execution_count": 39,
     "metadata": {},
     "output_type": "execute_result"
    }
   ],
   "source": [
    "df.head()"
   ]
  },
  {
   "cell_type": "code",
   "execution_count": 40,
   "metadata": {},
   "outputs": [
    {
     "data": {
      "text/html": [
       "<div>\n",
       "<style scoped>\n",
       "    .dataframe tbody tr th:only-of-type {\n",
       "        vertical-align: middle;\n",
       "    }\n",
       "\n",
       "    .dataframe tbody tr th {\n",
       "        vertical-align: top;\n",
       "    }\n",
       "\n",
       "    .dataframe thead th {\n",
       "        text-align: right;\n",
       "    }\n",
       "</style>\n",
       "<table border=\"1\" class=\"dataframe\">\n",
       "  <thead>\n",
       "    <tr style=\"text-align: right;\">\n",
       "      <th></th>\n",
       "      <th>Source Port</th>\n",
       "      <th>Destination Port</th>\n",
       "      <th>Protocol</th>\n",
       "      <th>Flow Duration</th>\n",
       "      <th>Flow Bytes/s</th>\n",
       "      <th>Flow Packets/s</th>\n",
       "      <th>Flow IAT Mean</th>\n",
       "      <th>Flow IAT Std</th>\n",
       "      <th>Flow IAT Max</th>\n",
       "      <th>Flow IAT Min</th>\n",
       "      <th>...</th>\n",
       "      <th>Bwd IAT Max</th>\n",
       "      <th>Bwd IAT Min</th>\n",
       "      <th>Active Mean</th>\n",
       "      <th>Active Std</th>\n",
       "      <th>Active Max</th>\n",
       "      <th>Active Min</th>\n",
       "      <th>Idle Mean</th>\n",
       "      <th>Idle Std</th>\n",
       "      <th>Idle Max</th>\n",
       "      <th>Idle Min</th>\n",
       "    </tr>\n",
       "  </thead>\n",
       "  <tbody>\n",
       "    <tr>\n",
       "      <th>count</th>\n",
       "      <td>84194.000000</td>\n",
       "      <td>84194.000000</td>\n",
       "      <td>84194.000000</td>\n",
       "      <td>8.419400e+04</td>\n",
       "      <td>8.419200e+04</td>\n",
       "      <td>8.419400e+04</td>\n",
       "      <td>8.419400e+04</td>\n",
       "      <td>8.419400e+04</td>\n",
       "      <td>8.419400e+04</td>\n",
       "      <td>8.419400e+04</td>\n",
       "      <td>...</td>\n",
       "      <td>8.419400e+04</td>\n",
       "      <td>8.419400e+04</td>\n",
       "      <td>8.419400e+04</td>\n",
       "      <td>84194.0</td>\n",
       "      <td>8.419400e+04</td>\n",
       "      <td>8.419400e+04</td>\n",
       "      <td>8.419400e+04</td>\n",
       "      <td>84194.0</td>\n",
       "      <td>8.419400e+04</td>\n",
       "      <td>8.419400e+04</td>\n",
       "    </tr>\n",
       "    <tr>\n",
       "      <th>mean</th>\n",
       "      <td>36548.661686</td>\n",
       "      <td>13160.683802</td>\n",
       "      <td>11.709041</td>\n",
       "      <td>1.976443e+06</td>\n",
       "      <td>inf</td>\n",
       "      <td>inf</td>\n",
       "      <td>2.345857e+05</td>\n",
       "      <td>1.060288e+05</td>\n",
       "      <td>5.085555e+05</td>\n",
       "      <td>1.692679e+05</td>\n",
       "      <td>...</td>\n",
       "      <td>2.699017e+05</td>\n",
       "      <td>3.730249e+04</td>\n",
       "      <td>1.879716e+04</td>\n",
       "      <td>0.0</td>\n",
       "      <td>1.879716e+04</td>\n",
       "      <td>1.879716e+04</td>\n",
       "      <td>1.585213e+05</td>\n",
       "      <td>0.0</td>\n",
       "      <td>1.585213e+05</td>\n",
       "      <td>1.585213e+05</td>\n",
       "    </tr>\n",
       "    <tr>\n",
       "      <th>std</th>\n",
       "      <td>21514.574423</td>\n",
       "      <td>19549.475949</td>\n",
       "      <td>5.496059</td>\n",
       "      <td>2.143432e+06</td>\n",
       "      <td>NaN</td>\n",
       "      <td>NaN</td>\n",
       "      <td>5.300413e+05</td>\n",
       "      <td>2.847677e+05</td>\n",
       "      <td>8.607729e+05</td>\n",
       "      <td>5.012712e+05</td>\n",
       "      <td>...</td>\n",
       "      <td>6.769662e+05</td>\n",
       "      <td>2.460999e+05</td>\n",
       "      <td>1.437066e+05</td>\n",
       "      <td>0.0</td>\n",
       "      <td>1.437066e+05</td>\n",
       "      <td>1.437066e+05</td>\n",
       "      <td>7.603776e+05</td>\n",
       "      <td>0.0</td>\n",
       "      <td>7.603776e+05</td>\n",
       "      <td>7.603776e+05</td>\n",
       "    </tr>\n",
       "    <tr>\n",
       "      <th>min</th>\n",
       "      <td>21.000000</td>\n",
       "      <td>21.000000</td>\n",
       "      <td>6.000000</td>\n",
       "      <td>0.000000e+00</td>\n",
       "      <td>0.000000e+00</td>\n",
       "      <td>4.000000e-01</td>\n",
       "      <td>0.000000e+00</td>\n",
       "      <td>0.000000e+00</td>\n",
       "      <td>0.000000e+00</td>\n",
       "      <td>-2.255000e+03</td>\n",
       "      <td>...</td>\n",
       "      <td>0.000000e+00</td>\n",
       "      <td>-3.270000e+02</td>\n",
       "      <td>0.000000e+00</td>\n",
       "      <td>0.0</td>\n",
       "      <td>0.000000e+00</td>\n",
       "      <td>0.000000e+00</td>\n",
       "      <td>0.000000e+00</td>\n",
       "      <td>0.0</td>\n",
       "      <td>0.000000e+00</td>\n",
       "      <td>0.000000e+00</td>\n",
       "    </tr>\n",
       "    <tr>\n",
       "      <th>25%</th>\n",
       "      <td>15685.000000</td>\n",
       "      <td>137.000000</td>\n",
       "      <td>6.000000</td>\n",
       "      <td>1.110615e+05</td>\n",
       "      <td>1.068141e+02</td>\n",
       "      <td>4.874711e+00</td>\n",
       "      <td>9.873663e+03</td>\n",
       "      <td>0.000000e+00</td>\n",
       "      <td>3.537575e+04</td>\n",
       "      <td>1.900000e+01</td>\n",
       "      <td>...</td>\n",
       "      <td>0.000000e+00</td>\n",
       "      <td>0.000000e+00</td>\n",
       "      <td>0.000000e+00</td>\n",
       "      <td>0.0</td>\n",
       "      <td>0.000000e+00</td>\n",
       "      <td>0.000000e+00</td>\n",
       "      <td>0.000000e+00</td>\n",
       "      <td>0.0</td>\n",
       "      <td>0.000000e+00</td>\n",
       "      <td>0.000000e+00</td>\n",
       "    </tr>\n",
       "    <tr>\n",
       "      <th>50%</th>\n",
       "      <td>42381.000000</td>\n",
       "      <td>443.000000</td>\n",
       "      <td>17.000000</td>\n",
       "      <td>4.207625e+05</td>\n",
       "      <td>1.952058e+03</td>\n",
       "      <td>2.966216e+01</td>\n",
       "      <td>4.652450e+04</td>\n",
       "      <td>3.953863e+03</td>\n",
       "      <td>1.556870e+05</td>\n",
       "      <td>4.930000e+02</td>\n",
       "      <td>...</td>\n",
       "      <td>0.000000e+00</td>\n",
       "      <td>0.000000e+00</td>\n",
       "      <td>0.000000e+00</td>\n",
       "      <td>0.0</td>\n",
       "      <td>0.000000e+00</td>\n",
       "      <td>0.000000e+00</td>\n",
       "      <td>0.000000e+00</td>\n",
       "      <td>0.0</td>\n",
       "      <td>0.000000e+00</td>\n",
       "      <td>0.000000e+00</td>\n",
       "    </tr>\n",
       "    <tr>\n",
       "      <th>75%</th>\n",
       "      <td>54420.000000</td>\n",
       "      <td>19302.000000</td>\n",
       "      <td>17.000000</td>\n",
       "      <td>4.838636e+06</td>\n",
       "      <td>2.596406e+04</td>\n",
       "      <td>1.040035e+02</td>\n",
       "      <td>3.334988e+05</td>\n",
       "      <td>4.637779e+04</td>\n",
       "      <td>4.427632e+05</td>\n",
       "      <td>1.358822e+05</td>\n",
       "      <td>...</td>\n",
       "      <td>1.216798e+05</td>\n",
       "      <td>4.400000e+01</td>\n",
       "      <td>0.000000e+00</td>\n",
       "      <td>0.0</td>\n",
       "      <td>0.000000e+00</td>\n",
       "      <td>0.000000e+00</td>\n",
       "      <td>0.000000e+00</td>\n",
       "      <td>0.0</td>\n",
       "      <td>0.000000e+00</td>\n",
       "      <td>0.000000e+00</td>\n",
       "    </tr>\n",
       "    <tr>\n",
       "      <th>max</th>\n",
       "      <td>65534.000000</td>\n",
       "      <td>65514.000000</td>\n",
       "      <td>17.000000</td>\n",
       "      <td>5.000000e+06</td>\n",
       "      <td>inf</td>\n",
       "      <td>inf</td>\n",
       "      <td>5.000000e+06</td>\n",
       "      <td>3.535258e+06</td>\n",
       "      <td>5.000000e+06</td>\n",
       "      <td>5.000000e+06</td>\n",
       "      <td>...</td>\n",
       "      <td>4.998709e+06</td>\n",
       "      <td>4.998709e+06</td>\n",
       "      <td>2.447136e+06</td>\n",
       "      <td>0.0</td>\n",
       "      <td>2.447136e+06</td>\n",
       "      <td>2.447136e+06</td>\n",
       "      <td>5.000000e+06</td>\n",
       "      <td>0.0</td>\n",
       "      <td>5.000000e+06</td>\n",
       "      <td>5.000000e+06</td>\n",
       "    </tr>\n",
       "  </tbody>\n",
       "</table>\n",
       "<p>8 rows × 26 columns</p>\n",
       "</div>"
      ],
      "text/plain": [
       "        Source Port   Destination Port      Protocol   Flow Duration  \\\n",
       "count  84194.000000       84194.000000  84194.000000    8.419400e+04   \n",
       "mean   36548.661686       13160.683802     11.709041    1.976443e+06   \n",
       "std    21514.574423       19549.475949      5.496059    2.143432e+06   \n",
       "min       21.000000          21.000000      6.000000    0.000000e+00   \n",
       "25%    15685.000000         137.000000      6.000000    1.110615e+05   \n",
       "50%    42381.000000         443.000000     17.000000    4.207625e+05   \n",
       "75%    54420.000000       19302.000000     17.000000    4.838636e+06   \n",
       "max    65534.000000       65514.000000     17.000000    5.000000e+06   \n",
       "\n",
       "        Flow Bytes/s   Flow Packets/s   Flow IAT Mean   Flow IAT Std  \\\n",
       "count   8.419200e+04     8.419400e+04    8.419400e+04   8.419400e+04   \n",
       "mean             inf              inf    2.345857e+05   1.060288e+05   \n",
       "std              NaN              NaN    5.300413e+05   2.847677e+05   \n",
       "min     0.000000e+00     4.000000e-01    0.000000e+00   0.000000e+00   \n",
       "25%     1.068141e+02     4.874711e+00    9.873663e+03   0.000000e+00   \n",
       "50%     1.952058e+03     2.966216e+01    4.652450e+04   3.953863e+03   \n",
       "75%     2.596406e+04     1.040035e+02    3.334988e+05   4.637779e+04   \n",
       "max              inf              inf    5.000000e+06   3.535258e+06   \n",
       "\n",
       "        Flow IAT Max   Flow IAT Min  ...   Bwd IAT Max   Bwd IAT Min  \\\n",
       "count   8.419400e+04   8.419400e+04  ...  8.419400e+04  8.419400e+04   \n",
       "mean    5.085555e+05   1.692679e+05  ...  2.699017e+05  3.730249e+04   \n",
       "std     8.607729e+05   5.012712e+05  ...  6.769662e+05  2.460999e+05   \n",
       "min     0.000000e+00  -2.255000e+03  ...  0.000000e+00 -3.270000e+02   \n",
       "25%     3.537575e+04   1.900000e+01  ...  0.000000e+00  0.000000e+00   \n",
       "50%     1.556870e+05   4.930000e+02  ...  0.000000e+00  0.000000e+00   \n",
       "75%     4.427632e+05   1.358822e+05  ...  1.216798e+05  4.400000e+01   \n",
       "max     5.000000e+06   5.000000e+06  ...  4.998709e+06  4.998709e+06   \n",
       "\n",
       "        Active Mean   Active Std    Active Max    Active Min     Idle Mean  \\\n",
       "count  8.419400e+04      84194.0  8.419400e+04  8.419400e+04  8.419400e+04   \n",
       "mean   1.879716e+04          0.0  1.879716e+04  1.879716e+04  1.585213e+05   \n",
       "std    1.437066e+05          0.0  1.437066e+05  1.437066e+05  7.603776e+05   \n",
       "min    0.000000e+00          0.0  0.000000e+00  0.000000e+00  0.000000e+00   \n",
       "25%    0.000000e+00          0.0  0.000000e+00  0.000000e+00  0.000000e+00   \n",
       "50%    0.000000e+00          0.0  0.000000e+00  0.000000e+00  0.000000e+00   \n",
       "75%    0.000000e+00          0.0  0.000000e+00  0.000000e+00  0.000000e+00   \n",
       "max    2.447136e+06          0.0  2.447136e+06  2.447136e+06  5.000000e+06   \n",
       "\n",
       "        Idle Std      Idle Max      Idle Min  \n",
       "count    84194.0  8.419400e+04  8.419400e+04  \n",
       "mean         0.0  1.585213e+05  1.585213e+05  \n",
       "std          0.0  7.603776e+05  7.603776e+05  \n",
       "min          0.0  0.000000e+00  0.000000e+00  \n",
       "25%          0.0  0.000000e+00  0.000000e+00  \n",
       "50%          0.0  0.000000e+00  0.000000e+00  \n",
       "75%          0.0  0.000000e+00  0.000000e+00  \n",
       "max          0.0  5.000000e+06  5.000000e+06  \n",
       "\n",
       "[8 rows x 26 columns]"
      ]
     },
     "execution_count": 40,
     "metadata": {},
     "output_type": "execute_result"
    }
   ],
   "source": [
    "df.describe()"
   ]
  },
  {
   "cell_type": "code",
   "execution_count": 41,
   "metadata": {},
   "outputs": [
    {
     "data": {
      "text/plain": [
       "(84194, 29)"
      ]
     },
     "execution_count": 41,
     "metadata": {},
     "output_type": "execute_result"
    }
   ],
   "source": [
    "df.shape"
   ]
  },
  {
   "cell_type": "code",
   "execution_count": 42,
   "metadata": {},
   "outputs": [
    {
     "data": {
      "text/html": [
       "<div>\n",
       "<style scoped>\n",
       "    .dataframe tbody tr th:only-of-type {\n",
       "        vertical-align: middle;\n",
       "    }\n",
       "\n",
       "    .dataframe tbody tr th {\n",
       "        vertical-align: top;\n",
       "    }\n",
       "\n",
       "    .dataframe thead th {\n",
       "        text-align: right;\n",
       "    }\n",
       "</style>\n",
       "<table border=\"1\" class=\"dataframe\">\n",
       "  <thead>\n",
       "    <tr style=\"text-align: right;\">\n",
       "      <th>col_0</th>\n",
       "      <th>label</th>\n",
       "    </tr>\n",
       "    <tr>\n",
       "      <th>label</th>\n",
       "      <th></th>\n",
       "    </tr>\n",
       "  </thead>\n",
       "  <tbody>\n",
       "    <tr>\n",
       "      <th>TOR</th>\n",
       "      <td>14508</td>\n",
       "    </tr>\n",
       "    <tr>\n",
       "      <th>nonTOR</th>\n",
       "      <td>69686</td>\n",
       "    </tr>\n",
       "  </tbody>\n",
       "</table>\n",
       "</div>"
      ],
      "text/plain": [
       "col_0   label\n",
       "label        \n",
       "TOR     14508\n",
       "nonTOR  69686"
      ]
     },
     "execution_count": 42,
     "metadata": {},
     "output_type": "execute_result"
    }
   ],
   "source": [
    "pd.crosstab(df.label,columns='label')"
   ]
  },
  {
   "cell_type": "markdown",
   "metadata": {},
   "source": [
    "### 4.1.3 Test/train split\n",
    "\n",
    "We'll use 10-fold CV, but just run the training once for speed and simplicity. We will then remoe the columns that are not useful for prediction - here these are the IP addresses (computer identifiers) which we know from expert knowledge would be different in external datasets."
   ]
  },
  {
   "cell_type": "code",
   "execution_count": 43,
   "metadata": {},
   "outputs": [],
   "source": [
    "np.random.seed(7)\n",
    "from sklearn.model_selection import KFold\n",
    "kf = KFold(n_splits=10,shuffle=True)\n",
    "kfsplit=kf.split(df)\n",
    "## We're going to extract out the \"test\" dataset from the first fold, to do our testing on\n",
    "# kf.split returns an iterator, i.e. it creates a function that creates a test/split\n",
    "# which we can either loop over or get the first using next\n",
    "ninefolds,onefold=next(kfsplit) \n",
    "mydata=df.loc[ninefolds]\n",
    "mytestdata=df.loc[onefold]"
   ]
  },
  {
   "cell_type": "code",
   "execution_count": 44,
   "metadata": {},
   "outputs": [
    {
     "data": {
      "text/plain": [
       "array([['10.0.2.15', 53913, '216.58.208.46', ..., 0, 0, 0],\n",
       "       ['10.0.2.15', 53913, '216.58.208.46', ..., 0, 0, 0],\n",
       "       ['10.0.2.15', 53913, '216.58.208.46', ..., 0, 0, 0],\n",
       "       ...,\n",
       "       ['131.202.240.87', 11365, '31.13.73.1', ..., 0, 0, 0],\n",
       "       ['10.0.2.15', 51024, '37.97.149.8', ..., 0, 0, 0],\n",
       "       ['131.202.6.26', 13000, '131.202.240.87', ..., 0, 0, 0]],\n",
       "      dtype=object)"
      ]
     },
     "execution_count": 44,
     "metadata": {},
     "output_type": "execute_result"
    }
   ],
   "source": [
    "mydata.values[:,0:28]"
   ]
  },
  {
   "cell_type": "code",
   "execution_count": 45,
   "metadata": {},
   "outputs": [],
   "source": [
    "## This function is useful for establishing which elements in an array are true\n",
    "## It is a port of the R function of the same name\n",
    "def which(self):\n",
    "    try:\n",
    "        self = list(iter(self))\n",
    "    except TypeError as e:\n",
    "        raise Exception(\"\"\"'which' method can only be applied to iterables.\n",
    "        {}\"\"\".format(str(e)))\n",
    "    indices = [i for i, x in enumerate(self) if bool(x) == True]\n",
    "    return(indices)"
   ]
  },
  {
   "cell_type": "code",
   "execution_count": 46,
   "metadata": {},
   "outputs": [],
   "source": [
    "## Extract out the columns for which we'll do learning\n",
    "torcols=which(mydata.apply(pd.Series.nunique) != 1) \n",
    "# list(range(0,mydata.shape[1]-1)) # We need to remove: IP addresses, and constant columns\n",
    "torcols.pop(2) # Remove Dest IP \n",
    "torcols.pop(0) # Remove Source IP\n",
    "torcols.pop()  # Remove Tor/NonTor label\n",
    "\n",
    "traindata = mydata[mydata.columns[torcols]].copy()\n",
    "testdata  = mytestdata[mytestdata.columns[torcols]].copy()"
   ]
  },
  {
   "cell_type": "markdown",
   "metadata": {},
   "source": [
    "## 4.2 First try: Run the neural network on the data\n",
    "\n",
    "### 4.2.1 Running with the data as-is\n",
    " \n",
    "First we will try a simple extraction function for the data."
   ]
  },
  {
   "cell_type": "code",
   "execution_count": 47,
   "metadata": {},
   "outputs": [],
   "source": [
    "## Extract the labels:\n",
    "def myextractY(data):\n",
    "    ## Extract the Tor/nonTor data as 0/1 values\n",
    "    TorYfactor=pd.factorize(data)\n",
    "    TorY=TorYfactor[0] # Keep ToyYfactor around to know which is which\n",
    "    return(TorY,TorYfactor[1])\n",
    "\n",
    "TorY,TorYnames=myextractY(mydata.values[:,mydata.shape[1]-1])\n",
    "testTorY,testTorYnames=myextractY(mytestdata.values[:,mytestdata.shape[1]-1])"
   ]
  },
  {
   "cell_type": "code",
   "execution_count": 48,
   "metadata": {},
   "outputs": [
    {
     "data": {
      "text/html": [
       "<div>\n",
       "<style scoped>\n",
       "    .dataframe tbody tr th:only-of-type {\n",
       "        vertical-align: middle;\n",
       "    }\n",
       "\n",
       "    .dataframe tbody tr th {\n",
       "        vertical-align: top;\n",
       "    }\n",
       "\n",
       "    .dataframe thead th {\n",
       "        text-align: right;\n",
       "    }\n",
       "</style>\n",
       "<table border=\"1\" class=\"dataframe\">\n",
       "  <thead>\n",
       "    <tr style=\"text-align: right;\">\n",
       "      <th>col_0</th>\n",
       "      <th>label</th>\n",
       "    </tr>\n",
       "    <tr>\n",
       "      <th>row_0</th>\n",
       "      <th></th>\n",
       "    </tr>\n",
       "  </thead>\n",
       "  <tbody>\n",
       "    <tr>\n",
       "      <th>0</th>\n",
       "      <td>62747</td>\n",
       "    </tr>\n",
       "    <tr>\n",
       "      <th>1</th>\n",
       "      <td>13027</td>\n",
       "    </tr>\n",
       "  </tbody>\n",
       "</table>\n",
       "</div>"
      ],
      "text/plain": [
       "col_0  label\n",
       "row_0       \n",
       "0      62747\n",
       "1      13027"
      ]
     },
     "execution_count": 48,
     "metadata": {},
     "output_type": "execute_result"
    }
   ],
   "source": [
    "## Examine the Y values\n",
    "pd.crosstab(TorY,columns='label')"
   ]
  },
  {
   "cell_type": "markdown",
   "metadata": {},
   "source": [
    "### 4.2.2 An example of failure\n",
    "\n",
    "Neural network code will enthusiastically proceed even if there is something wrong.\n",
    "\n",
    "Here, we procude the data to the model \"as is\" without any sanitisation.\n",
    "\n",
    "It will not work, but it will run...."
   ]
  },
  {
   "cell_type": "code",
   "execution_count": 49,
   "metadata": {},
   "outputs": [],
   "source": [
    "TorX=traindata.values\n",
    "testTorX=testdata.values"
   ]
  },
  {
   "cell_type": "code",
   "execution_count": 50,
   "metadata": {},
   "outputs": [],
   "source": [
    "## Define a model\n",
    "tormodel = Sequential()\n",
    "tormodel.add(Dense(24, input_dim=TorX.shape[1], activation='relu'))\n",
    "tormodel.add(Dense(TorX.shape[1], activation='relu'))\n",
    "tormodel.add(Dense(1, activation='sigmoid'))\n",
    "tormodel.compile(loss='binary_crossentropy', optimizer='adam', metrics=['accuracy'])"
   ]
  },
  {
   "cell_type": "code",
   "execution_count": 51,
   "metadata": {},
   "outputs": [
    {
     "name": "stdout",
     "output_type": "stream",
     "text": [
      "758/758 [==============================] - 5s 6ms/step - loss: nan - accuracy: 0.8154\n"
     ]
    },
    {
     "data": {
      "text/plain": [
       "<keras.src.callbacks.History at 0x30c2c1ab0>"
      ]
     },
     "execution_count": 51,
     "metadata": {},
     "output_type": "execute_result"
    }
   ],
   "source": [
    "tormodel.fit(TorX, TorY, epochs=1, batch_size=100)"
   ]
  },
  {
   "cell_type": "code",
   "execution_count": 52,
   "metadata": {},
   "outputs": [
    {
     "name": "stdout",
     "output_type": "stream",
     "text": [
      "2368/2368 [==============================] - 9s 4ms/step - loss: nan - accuracy: 0.8281\n",
      "\n",
      "accuracy: 82.81%\n"
     ]
    }
   ],
   "source": [
    "torscores = tormodel.evaluate(TorX, TorY)\n",
    "print(\"\\n%s: %.2f%%\" % (tormodel.metrics_names[1], torscores[1]*100))"
   ]
  },
  {
   "cell_type": "code",
   "execution_count": 53,
   "metadata": {},
   "outputs": [
    {
     "name": "stdout",
     "output_type": "stream",
     "text": [
      "264/264 [==============================] - 1s 4ms/step - loss: nan - accuracy: 0.8241\n",
      "\n",
      "accuracy: 82.41%\n"
     ]
    }
   ],
   "source": [
    "testtorscores = tormodel.evaluate(testTorX, testTorY)\n",
    "print(\"\\n%s: %.2f%%\" % (tormodel.metrics_names[1], testtorscores[1]*100))"
   ]
  },
  {
   "cell_type": "markdown",
   "metadata": {},
   "source": [
    "We get `nan` loss functions. This is a problem!\n",
    "\n",
    "## 4.3 A full analysis of the TOR data\n",
    "\n",
    "### 4.3.1 EDA of the input data\n",
    "\n",
    "We'll first examine what the data is doing.\n",
    "\n",
    "You have to be careful because several functions replace NA and infinite values stealthily..."
   ]
  },
  {
   "cell_type": "code",
   "execution_count": 54,
   "metadata": {},
   "outputs": [
    {
     "data": {
      "text/html": [
       "<div>\n",
       "<style scoped>\n",
       "    .dataframe tbody tr th:only-of-type {\n",
       "        vertical-align: middle;\n",
       "    }\n",
       "\n",
       "    .dataframe tbody tr th {\n",
       "        vertical-align: top;\n",
       "    }\n",
       "\n",
       "    .dataframe thead th {\n",
       "        text-align: right;\n",
       "    }\n",
       "</style>\n",
       "<table border=\"1\" class=\"dataframe\">\n",
       "  <thead>\n",
       "    <tr style=\"text-align: right;\">\n",
       "      <th>col_0</th>\n",
       "      <th>Flow Bytes/s</th>\n",
       "    </tr>\n",
       "  </thead>\n",
       "  <tbody>\n",
       "    <tr>\n",
       "      <th>count</th>\n",
       "      <td>723.000000</td>\n",
       "    </tr>\n",
       "    <tr>\n",
       "      <th>mean</th>\n",
       "      <td>104.804979</td>\n",
       "    </tr>\n",
       "    <tr>\n",
       "      <th>std</th>\n",
       "      <td>680.466092</td>\n",
       "    </tr>\n",
       "    <tr>\n",
       "      <th>min</th>\n",
       "      <td>1.000000</td>\n",
       "    </tr>\n",
       "    <tr>\n",
       "      <th>25%</th>\n",
       "      <td>1.000000</td>\n",
       "    </tr>\n",
       "    <tr>\n",
       "      <th>50%</th>\n",
       "      <td>1.000000</td>\n",
       "    </tr>\n",
       "    <tr>\n",
       "      <th>75%</th>\n",
       "      <td>4.000000</td>\n",
       "    </tr>\n",
       "    <tr>\n",
       "      <th>max</th>\n",
       "      <td>9410.000000</td>\n",
       "    </tr>\n",
       "  </tbody>\n",
       "</table>\n",
       "</div>"
      ],
      "text/plain": [
       "col_0  Flow Bytes/s\n",
       "count    723.000000\n",
       "mean     104.804979\n",
       "std      680.466092\n",
       "min        1.000000\n",
       "25%        1.000000\n",
       "50%        1.000000\n",
       "75%        4.000000\n",
       "max     9410.000000"
      ]
     },
     "execution_count": 54,
     "metadata": {},
     "output_type": "execute_result"
    }
   ],
   "source": [
    "pd.crosstab(mydata.values[:,0],columns=\"Flow Bytes/s\").describe()"
   ]
  },
  {
   "cell_type": "markdown",
   "metadata": {},
   "source": [
    "Whereas others reveal these issues"
   ]
  },
  {
   "cell_type": "code",
   "execution_count": 55,
   "metadata": {},
   "outputs": [
    {
     "data": {
      "text/html": [
       "<div>\n",
       "<style scoped>\n",
       "    .dataframe tbody tr th:only-of-type {\n",
       "        vertical-align: middle;\n",
       "    }\n",
       "\n",
       "    .dataframe tbody tr th {\n",
       "        vertical-align: top;\n",
       "    }\n",
       "\n",
       "    .dataframe thead th {\n",
       "        text-align: right;\n",
       "    }\n",
       "</style>\n",
       "<table border=\"1\" class=\"dataframe\">\n",
       "  <thead>\n",
       "    <tr style=\"text-align: right;\">\n",
       "      <th></th>\n",
       "      <th>Source Port</th>\n",
       "      <th>Destination Port</th>\n",
       "      <th>Protocol</th>\n",
       "      <th>Flow Duration</th>\n",
       "      <th>Flow Bytes/s</th>\n",
       "      <th>Flow Packets/s</th>\n",
       "      <th>Flow IAT Mean</th>\n",
       "      <th>Flow IAT Std</th>\n",
       "      <th>Flow IAT Max</th>\n",
       "      <th>Flow IAT Min</th>\n",
       "      <th>...</th>\n",
       "      <th>Bwd IAT Mean</th>\n",
       "      <th>Bwd IAT Std</th>\n",
       "      <th>Bwd IAT Max</th>\n",
       "      <th>Bwd IAT Min</th>\n",
       "      <th>Active Mean</th>\n",
       "      <th>Active Max</th>\n",
       "      <th>Active Min</th>\n",
       "      <th>Idle Mean</th>\n",
       "      <th>Idle Max</th>\n",
       "      <th>Idle Min</th>\n",
       "    </tr>\n",
       "  </thead>\n",
       "  <tbody>\n",
       "    <tr>\n",
       "      <th>count</th>\n",
       "      <td>75774.000000</td>\n",
       "      <td>75774.000000</td>\n",
       "      <td>75774.000000</td>\n",
       "      <td>7.577400e+04</td>\n",
       "      <td>7.577300e+04</td>\n",
       "      <td>7.577400e+04</td>\n",
       "      <td>7.577400e+04</td>\n",
       "      <td>7.577400e+04</td>\n",
       "      <td>7.577400e+04</td>\n",
       "      <td>7.577400e+04</td>\n",
       "      <td>...</td>\n",
       "      <td>7.577400e+04</td>\n",
       "      <td>7.577400e+04</td>\n",
       "      <td>7.577400e+04</td>\n",
       "      <td>7.577400e+04</td>\n",
       "      <td>7.577400e+04</td>\n",
       "      <td>7.577400e+04</td>\n",
       "      <td>7.577400e+04</td>\n",
       "      <td>7.577400e+04</td>\n",
       "      <td>7.577400e+04</td>\n",
       "      <td>7.577400e+04</td>\n",
       "    </tr>\n",
       "    <tr>\n",
       "      <th>mean</th>\n",
       "      <td>36532.521907</td>\n",
       "      <td>13177.342532</td>\n",
       "      <td>11.712236</td>\n",
       "      <td>1.978014e+06</td>\n",
       "      <td>inf</td>\n",
       "      <td>inf</td>\n",
       "      <td>2.351684e+05</td>\n",
       "      <td>1.064205e+05</td>\n",
       "      <td>5.094632e+05</td>\n",
       "      <td>1.695085e+05</td>\n",
       "      <td>...</td>\n",
       "      <td>8.379887e+04</td>\n",
       "      <td>6.905067e+04</td>\n",
       "      <td>2.699219e+05</td>\n",
       "      <td>3.764953e+04</td>\n",
       "      <td>1.886616e+04</td>\n",
       "      <td>1.886616e+04</td>\n",
       "      <td>1.886616e+04</td>\n",
       "      <td>1.589255e+05</td>\n",
       "      <td>1.589255e+05</td>\n",
       "      <td>1.589255e+05</td>\n",
       "    </tr>\n",
       "    <tr>\n",
       "      <th>std</th>\n",
       "      <td>21519.282571</td>\n",
       "      <td>19552.182719</td>\n",
       "      <td>5.495940</td>\n",
       "      <td>2.143870e+06</td>\n",
       "      <td>NaN</td>\n",
       "      <td>NaN</td>\n",
       "      <td>5.320558e+05</td>\n",
       "      <td>2.856581e+05</td>\n",
       "      <td>8.620820e+05</td>\n",
       "      <td>5.030740e+05</td>\n",
       "      <td>...</td>\n",
       "      <td>3.004874e+05</td>\n",
       "      <td>2.405442e+05</td>\n",
       "      <td>6.765167e+05</td>\n",
       "      <td>2.470756e+05</td>\n",
       "      <td>1.441334e+05</td>\n",
       "      <td>1.441334e+05</td>\n",
       "      <td>1.441334e+05</td>\n",
       "      <td>7.614742e+05</td>\n",
       "      <td>7.614742e+05</td>\n",
       "      <td>7.614742e+05</td>\n",
       "    </tr>\n",
       "    <tr>\n",
       "      <th>min</th>\n",
       "      <td>21.000000</td>\n",
       "      <td>21.000000</td>\n",
       "      <td>6.000000</td>\n",
       "      <td>0.000000e+00</td>\n",
       "      <td>0.000000e+00</td>\n",
       "      <td>4.000000e-01</td>\n",
       "      <td>0.000000e+00</td>\n",
       "      <td>0.000000e+00</td>\n",
       "      <td>0.000000e+00</td>\n",
       "      <td>-2.255000e+03</td>\n",
       "      <td>...</td>\n",
       "      <td>0.000000e+00</td>\n",
       "      <td>0.000000e+00</td>\n",
       "      <td>0.000000e+00</td>\n",
       "      <td>-2.920000e+02</td>\n",
       "      <td>0.000000e+00</td>\n",
       "      <td>0.000000e+00</td>\n",
       "      <td>0.000000e+00</td>\n",
       "      <td>0.000000e+00</td>\n",
       "      <td>0.000000e+00</td>\n",
       "      <td>0.000000e+00</td>\n",
       "    </tr>\n",
       "    <tr>\n",
       "      <th>25%</th>\n",
       "      <td>15685.000000</td>\n",
       "      <td>137.000000</td>\n",
       "      <td>6.000000</td>\n",
       "      <td>1.112895e+05</td>\n",
       "      <td>1.068075e+02</td>\n",
       "      <td>4.874556e+00</td>\n",
       "      <td>9.861800e+03</td>\n",
       "      <td>0.000000e+00</td>\n",
       "      <td>3.542925e+04</td>\n",
       "      <td>1.900000e+01</td>\n",
       "      <td>...</td>\n",
       "      <td>0.000000e+00</td>\n",
       "      <td>0.000000e+00</td>\n",
       "      <td>0.000000e+00</td>\n",
       "      <td>0.000000e+00</td>\n",
       "      <td>0.000000e+00</td>\n",
       "      <td>0.000000e+00</td>\n",
       "      <td>0.000000e+00</td>\n",
       "      <td>0.000000e+00</td>\n",
       "      <td>0.000000e+00</td>\n",
       "      <td>0.000000e+00</td>\n",
       "    </tr>\n",
       "    <tr>\n",
       "      <th>50%</th>\n",
       "      <td>42400.500000</td>\n",
       "      <td>443.000000</td>\n",
       "      <td>17.000000</td>\n",
       "      <td>4.207900e+05</td>\n",
       "      <td>1.951160e+03</td>\n",
       "      <td>2.951255e+01</td>\n",
       "      <td>4.673320e+04</td>\n",
       "      <td>3.956463e+03</td>\n",
       "      <td>1.562140e+05</td>\n",
       "      <td>5.030000e+02</td>\n",
       "      <td>...</td>\n",
       "      <td>0.000000e+00</td>\n",
       "      <td>0.000000e+00</td>\n",
       "      <td>0.000000e+00</td>\n",
       "      <td>0.000000e+00</td>\n",
       "      <td>0.000000e+00</td>\n",
       "      <td>0.000000e+00</td>\n",
       "      <td>0.000000e+00</td>\n",
       "      <td>0.000000e+00</td>\n",
       "      <td>0.000000e+00</td>\n",
       "      <td>0.000000e+00</td>\n",
       "    </tr>\n",
       "    <tr>\n",
       "      <th>75%</th>\n",
       "      <td>54420.000000</td>\n",
       "      <td>19302.000000</td>\n",
       "      <td>17.000000</td>\n",
       "      <td>4.838806e+06</td>\n",
       "      <td>2.606413e+04</td>\n",
       "      <td>1.044180e+02</td>\n",
       "      <td>3.341669e+05</td>\n",
       "      <td>4.645039e+04</td>\n",
       "      <td>4.443960e+05</td>\n",
       "      <td>1.360875e+05</td>\n",
       "      <td>...</td>\n",
       "      <td>2.007479e+04</td>\n",
       "      <td>1.895921e+04</td>\n",
       "      <td>1.216472e+05</td>\n",
       "      <td>4.400000e+01</td>\n",
       "      <td>0.000000e+00</td>\n",
       "      <td>0.000000e+00</td>\n",
       "      <td>0.000000e+00</td>\n",
       "      <td>0.000000e+00</td>\n",
       "      <td>0.000000e+00</td>\n",
       "      <td>0.000000e+00</td>\n",
       "    </tr>\n",
       "    <tr>\n",
       "      <th>max</th>\n",
       "      <td>65534.000000</td>\n",
       "      <td>65514.000000</td>\n",
       "      <td>17.000000</td>\n",
       "      <td>5.000000e+06</td>\n",
       "      <td>inf</td>\n",
       "      <td>inf</td>\n",
       "      <td>5.000000e+06</td>\n",
       "      <td>3.535137e+06</td>\n",
       "      <td>5.000000e+06</td>\n",
       "      <td>5.000000e+06</td>\n",
       "      <td>...</td>\n",
       "      <td>4.998709e+06</td>\n",
       "      <td>3.510259e+06</td>\n",
       "      <td>4.998709e+06</td>\n",
       "      <td>4.998709e+06</td>\n",
       "      <td>2.447136e+06</td>\n",
       "      <td>2.447136e+06</td>\n",
       "      <td>2.447136e+06</td>\n",
       "      <td>5.000000e+06</td>\n",
       "      <td>5.000000e+06</td>\n",
       "      <td>5.000000e+06</td>\n",
       "    </tr>\n",
       "  </tbody>\n",
       "</table>\n",
       "<p>8 rows × 24 columns</p>\n",
       "</div>"
      ],
      "text/plain": [
       "        Source Port   Destination Port      Protocol   Flow Duration  \\\n",
       "count  75774.000000       75774.000000  75774.000000    7.577400e+04   \n",
       "mean   36532.521907       13177.342532     11.712236    1.978014e+06   \n",
       "std    21519.282571       19552.182719      5.495940    2.143870e+06   \n",
       "min       21.000000          21.000000      6.000000    0.000000e+00   \n",
       "25%    15685.000000         137.000000      6.000000    1.112895e+05   \n",
       "50%    42400.500000         443.000000     17.000000    4.207900e+05   \n",
       "75%    54420.000000       19302.000000     17.000000    4.838806e+06   \n",
       "max    65534.000000       65514.000000     17.000000    5.000000e+06   \n",
       "\n",
       "        Flow Bytes/s   Flow Packets/s   Flow IAT Mean   Flow IAT Std  \\\n",
       "count   7.577300e+04     7.577400e+04    7.577400e+04   7.577400e+04   \n",
       "mean             inf              inf    2.351684e+05   1.064205e+05   \n",
       "std              NaN              NaN    5.320558e+05   2.856581e+05   \n",
       "min     0.000000e+00     4.000000e-01    0.000000e+00   0.000000e+00   \n",
       "25%     1.068075e+02     4.874556e+00    9.861800e+03   0.000000e+00   \n",
       "50%     1.951160e+03     2.951255e+01    4.673320e+04   3.956463e+03   \n",
       "75%     2.606413e+04     1.044180e+02    3.341669e+05   4.645039e+04   \n",
       "max              inf              inf    5.000000e+06   3.535137e+06   \n",
       "\n",
       "        Flow IAT Max   Flow IAT Min  ...  Bwd IAT Mean   Bwd IAT Std  \\\n",
       "count   7.577400e+04   7.577400e+04  ...  7.577400e+04  7.577400e+04   \n",
       "mean    5.094632e+05   1.695085e+05  ...  8.379887e+04  6.905067e+04   \n",
       "std     8.620820e+05   5.030740e+05  ...  3.004874e+05  2.405442e+05   \n",
       "min     0.000000e+00  -2.255000e+03  ...  0.000000e+00  0.000000e+00   \n",
       "25%     3.542925e+04   1.900000e+01  ...  0.000000e+00  0.000000e+00   \n",
       "50%     1.562140e+05   5.030000e+02  ...  0.000000e+00  0.000000e+00   \n",
       "75%     4.443960e+05   1.360875e+05  ...  2.007479e+04  1.895921e+04   \n",
       "max     5.000000e+06   5.000000e+06  ...  4.998709e+06  3.510259e+06   \n",
       "\n",
       "        Bwd IAT Max   Bwd IAT Min   Active Mean    Active Max    Active Min  \\\n",
       "count  7.577400e+04  7.577400e+04  7.577400e+04  7.577400e+04  7.577400e+04   \n",
       "mean   2.699219e+05  3.764953e+04  1.886616e+04  1.886616e+04  1.886616e+04   \n",
       "std    6.765167e+05  2.470756e+05  1.441334e+05  1.441334e+05  1.441334e+05   \n",
       "min    0.000000e+00 -2.920000e+02  0.000000e+00  0.000000e+00  0.000000e+00   \n",
       "25%    0.000000e+00  0.000000e+00  0.000000e+00  0.000000e+00  0.000000e+00   \n",
       "50%    0.000000e+00  0.000000e+00  0.000000e+00  0.000000e+00  0.000000e+00   \n",
       "75%    1.216472e+05  4.400000e+01  0.000000e+00  0.000000e+00  0.000000e+00   \n",
       "max    4.998709e+06  4.998709e+06  2.447136e+06  2.447136e+06  2.447136e+06   \n",
       "\n",
       "          Idle Mean      Idle Max      Idle Min  \n",
       "count  7.577400e+04  7.577400e+04  7.577400e+04  \n",
       "mean   1.589255e+05  1.589255e+05  1.589255e+05  \n",
       "std    7.614742e+05  7.614742e+05  7.614742e+05  \n",
       "min    0.000000e+00  0.000000e+00  0.000000e+00  \n",
       "25%    0.000000e+00  0.000000e+00  0.000000e+00  \n",
       "50%    0.000000e+00  0.000000e+00  0.000000e+00  \n",
       "75%    0.000000e+00  0.000000e+00  0.000000e+00  \n",
       "max    5.000000e+06  5.000000e+06  5.000000e+06  \n",
       "\n",
       "[8 rows x 24 columns]"
      ]
     },
     "execution_count": 55,
     "metadata": {},
     "output_type": "execute_result"
    }
   ],
   "source": [
    "traindata.describe()"
   ]
  },
  {
   "cell_type": "markdown",
   "metadata": {},
   "source": [
    "You may get NA's, or you may get a very suspicious answer."
   ]
  },
  {
   "cell_type": "code",
   "execution_count": 56,
   "metadata": {},
   "outputs": [
    {
     "data": {
      "text/html": [
       "<div>\n",
       "<style scoped>\n",
       "    .dataframe tbody tr th:only-of-type {\n",
       "        vertical-align: middle;\n",
       "    }\n",
       "\n",
       "    .dataframe tbody tr th {\n",
       "        vertical-align: top;\n",
       "    }\n",
       "\n",
       "    .dataframe thead th {\n",
       "        text-align: right;\n",
       "    }\n",
       "</style>\n",
       "<table border=\"1\" class=\"dataframe\">\n",
       "  <thead>\n",
       "    <tr style=\"text-align: right;\">\n",
       "      <th>col_0</th>\n",
       "      <th>Source IP</th>\n",
       "    </tr>\n",
       "  </thead>\n",
       "  <tbody>\n",
       "    <tr>\n",
       "      <th>count</th>\n",
       "      <td>723.000000</td>\n",
       "    </tr>\n",
       "    <tr>\n",
       "      <th>mean</th>\n",
       "      <td>104.804979</td>\n",
       "    </tr>\n",
       "    <tr>\n",
       "      <th>std</th>\n",
       "      <td>680.466092</td>\n",
       "    </tr>\n",
       "    <tr>\n",
       "      <th>min</th>\n",
       "      <td>1.000000</td>\n",
       "    </tr>\n",
       "    <tr>\n",
       "      <th>25%</th>\n",
       "      <td>1.000000</td>\n",
       "    </tr>\n",
       "    <tr>\n",
       "      <th>50%</th>\n",
       "      <td>1.000000</td>\n",
       "    </tr>\n",
       "    <tr>\n",
       "      <th>75%</th>\n",
       "      <td>4.000000</td>\n",
       "    </tr>\n",
       "    <tr>\n",
       "      <th>max</th>\n",
       "      <td>9410.000000</td>\n",
       "    </tr>\n",
       "  </tbody>\n",
       "</table>\n",
       "</div>"
      ],
      "text/plain": [
       "col_0    Source IP\n",
       "count   723.000000\n",
       "mean    104.804979\n",
       "std     680.466092\n",
       "min       1.000000\n",
       "25%       1.000000\n",
       "50%       1.000000\n",
       "75%       4.000000\n",
       "max    9410.000000"
      ]
     },
     "execution_count": 56,
     "metadata": {},
     "output_type": "execute_result"
    }
   ],
   "source": [
    "## Check how many IPs we are dealing with\n",
    "pd.crosstab(mydata.values[:,0],columns=\"Source IP\").describe()"
   ]
  },
  {
   "cell_type": "markdown",
   "metadata": {},
   "source": [
    "### SUPER IMPORTANT: Floating point fragility\n",
    "\n",
    "* The GPU version of tensorflow works with 32 bit floats. \n",
    "* The CPU (by default; see ~/.keras/keras.json) works with 64 bit floats.\n",
    "* This is important because **your code may run fine on a 64 bit CPU but return NAN on a GPU**.\n",
    "\n",
    "How to access these values:"
   ]
  },
  {
   "cell_type": "code",
   "execution_count": 57,
   "metadata": {},
   "outputs": [
    {
     "data": {
      "text/plain": [
       "[3.4028235e+38, 1.7976931348623157e+308]"
      ]
     },
     "execution_count": 57,
     "metadata": {},
     "output_type": "execute_result"
    }
   ],
   "source": [
    "[np.finfo(np.float32).max, np.finfo(np.float64).max]"
   ]
  },
  {
   "cell_type": "code",
   "execution_count": 58,
   "metadata": {},
   "outputs": [
    {
     "data": {
      "text/plain": [
       "Source IP             99.243.125.41\n",
       " Source Port                  65534\n",
       " Destination IP       99.94.171.150\n",
       " Destination Port             65514\n",
       " Protocol                        17\n",
       " Flow Duration              5000000\n",
       " Flow Bytes/s                   inf\n",
       " Flow Packets/s                 inf\n",
       " Flow IAT Mean            5000000.0\n",
       " Flow IAT Std        3535136.511922\n",
       " Flow IAT Max               5000000\n",
       " Flow IAT Min               5000000\n",
       "Fwd IAT Mean              5000000.0\n",
       " Fwd IAT Std          3534671.23566\n",
       " Fwd IAT Max                5000000\n",
       " Fwd IAT Min                5000000\n",
       "Bwd IAT Mean              4998709.0\n",
       " Bwd IAT Std         3510259.081146\n",
       " Bwd IAT Max                4998709\n",
       " Bwd IAT Min                4998709\n",
       "Active Mean                 2447136\n",
       " Active Std                       0\n",
       " Active Max                 2447136\n",
       " Active Min                 2447136\n",
       "Idle Mean                   5000000\n",
       " Idle Std                         0\n",
       " Idle Max                   5000000\n",
       " Idle Min                   5000000\n",
       "label                        nonTOR\n",
       "dtype: object"
      ]
     },
     "execution_count": 58,
     "metadata": {},
     "output_type": "execute_result"
    }
   ],
   "source": [
    "mydata.max()"
   ]
  },
  {
   "cell_type": "markdown",
   "metadata": {},
   "source": [
    "#### Tricks with NA's\n",
    "\n",
    "In this example, this may not be needed (may be for GPU usage). There can be no missing or non-finite values in the data.\n",
    "\n",
    "```python\n",
    "traindata.replace([np.inf, -np.inf], np.nan); # replace all non-finite values with missing\n",
    "traindata=traindata.apply(pd.to_numeric, errors='coerce') ## coerce the data\n",
    "traindata=traindata.fillna(0) ## Or fill it with 0's\n",
    "```\n",
    "\n",
    "This is SUPPOSED to work, and does in a simple example:"
   ]
  },
  {
   "cell_type": "code",
   "execution_count": 59,
   "metadata": {},
   "outputs": [
    {
     "name": "stdout",
     "output_type": "stream",
     "text": [
      "Original DataFrame:\n",
      "        0\n",
      "0  1000.0\n",
      "1  2000.0\n",
      "2  3000.0\n",
      "3 -4000.0\n",
      "4     inf\n",
      "5    -inf\n",
      "Removing infinite values:\n",
      "        0\n",
      "0  1000.0\n",
      "1  2000.0\n",
      "2  3000.0\n",
      "3 -4000.0\n",
      "4     NaN\n",
      "5     NaN\n"
     ]
    }
   ],
   "source": [
    "import pandas as pd\n",
    "import numpy as np\n",
    "df = pd.DataFrame([1000, 2000, 3000, -4000, np.inf, -np.inf])\n",
    "print(\"Original DataFrame:\")\n",
    "print(df)\n",
    "print(\"Removing infinite values:\")\n",
    "df = df.replace([np.inf, -np.inf], np.nan)\n",
    "print(df)"
   ]
  },
  {
   "cell_type": "markdown",
   "metadata": {},
   "source": [
    "Applied to our data, it is not clear what value to use. We're replacing with zero for now."
   ]
  },
  {
   "cell_type": "code",
   "execution_count": 61,
   "metadata": {},
   "outputs": [],
   "source": [
    "traindata2 = mydata[mydata.columns[torcols]].copy()\n",
    "traindata2=traindata2.astype(float)\n",
    "traindata2=traindata2.replace([np.inf, -np.inf], np.nan) \n",
    "traindata2.fillna(0, inplace=True)\n",
    "\n",
    "testdata2  = mytestdata[mytestdata.columns[torcols]].copy()\n",
    "testdata2=testdata2.astype(float)\n",
    "testdata2=traindata2.replace([np.inf, -np.inf], np.nan) \n",
    "testdata2.fillna(0, inplace=True)\n",
    "TorX2=traindata2.values\n",
    "testTorX2=testdata2.values"
   ]
  },
  {
   "cell_type": "code",
   "execution_count": 62,
   "metadata": {},
   "outputs": [
    {
     "data": {
      "text/html": [
       "<div>\n",
       "<style scoped>\n",
       "    .dataframe tbody tr th:only-of-type {\n",
       "        vertical-align: middle;\n",
       "    }\n",
       "\n",
       "    .dataframe tbody tr th {\n",
       "        vertical-align: top;\n",
       "    }\n",
       "\n",
       "    .dataframe thead th {\n",
       "        text-align: right;\n",
       "    }\n",
       "</style>\n",
       "<table border=\"1\" class=\"dataframe\">\n",
       "  <thead>\n",
       "    <tr style=\"text-align: right;\">\n",
       "      <th></th>\n",
       "      <th>Source Port</th>\n",
       "      <th>Destination Port</th>\n",
       "      <th>Protocol</th>\n",
       "      <th>Flow Duration</th>\n",
       "      <th>Flow Bytes/s</th>\n",
       "      <th>Flow Packets/s</th>\n",
       "      <th>Flow IAT Mean</th>\n",
       "      <th>Flow IAT Std</th>\n",
       "      <th>Flow IAT Max</th>\n",
       "      <th>Flow IAT Min</th>\n",
       "      <th>...</th>\n",
       "      <th>Bwd IAT Mean</th>\n",
       "      <th>Bwd IAT Std</th>\n",
       "      <th>Bwd IAT Max</th>\n",
       "      <th>Bwd IAT Min</th>\n",
       "      <th>Active Mean</th>\n",
       "      <th>Active Max</th>\n",
       "      <th>Active Min</th>\n",
       "      <th>Idle Mean</th>\n",
       "      <th>Idle Max</th>\n",
       "      <th>Idle Min</th>\n",
       "    </tr>\n",
       "  </thead>\n",
       "  <tbody>\n",
       "    <tr>\n",
       "      <th>count</th>\n",
       "      <td>75774.000000</td>\n",
       "      <td>75774.000000</td>\n",
       "      <td>75774.000000</td>\n",
       "      <td>7.577400e+04</td>\n",
       "      <td>7.577400e+04</td>\n",
       "      <td>7.577400e+04</td>\n",
       "      <td>7.577400e+04</td>\n",
       "      <td>7.577400e+04</td>\n",
       "      <td>7.577400e+04</td>\n",
       "      <td>7.577400e+04</td>\n",
       "      <td>...</td>\n",
       "      <td>7.577400e+04</td>\n",
       "      <td>7.577400e+04</td>\n",
       "      <td>7.577400e+04</td>\n",
       "      <td>7.577400e+04</td>\n",
       "      <td>7.577400e+04</td>\n",
       "      <td>7.577400e+04</td>\n",
       "      <td>7.577400e+04</td>\n",
       "      <td>7.577400e+04</td>\n",
       "      <td>7.577400e+04</td>\n",
       "      <td>7.577400e+04</td>\n",
       "    </tr>\n",
       "    <tr>\n",
       "      <th>mean</th>\n",
       "      <td>36532.521907</td>\n",
       "      <td>13177.342532</td>\n",
       "      <td>11.712236</td>\n",
       "      <td>1.978014e+06</td>\n",
       "      <td>2.682878e+05</td>\n",
       "      <td>2.772251e+03</td>\n",
       "      <td>2.351684e+05</td>\n",
       "      <td>1.064205e+05</td>\n",
       "      <td>5.094632e+05</td>\n",
       "      <td>1.695085e+05</td>\n",
       "      <td>...</td>\n",
       "      <td>8.379887e+04</td>\n",
       "      <td>6.905067e+04</td>\n",
       "      <td>2.699219e+05</td>\n",
       "      <td>3.764953e+04</td>\n",
       "      <td>1.886616e+04</td>\n",
       "      <td>1.886616e+04</td>\n",
       "      <td>1.886616e+04</td>\n",
       "      <td>1.589255e+05</td>\n",
       "      <td>1.589255e+05</td>\n",
       "      <td>1.589255e+05</td>\n",
       "    </tr>\n",
       "    <tr>\n",
       "      <th>std</th>\n",
       "      <td>21519.282571</td>\n",
       "      <td>19552.182719</td>\n",
       "      <td>5.495940</td>\n",
       "      <td>2.143870e+06</td>\n",
       "      <td>5.046474e+06</td>\n",
       "      <td>4.362493e+04</td>\n",
       "      <td>5.320558e+05</td>\n",
       "      <td>2.856581e+05</td>\n",
       "      <td>8.620820e+05</td>\n",
       "      <td>5.030740e+05</td>\n",
       "      <td>...</td>\n",
       "      <td>3.004874e+05</td>\n",
       "      <td>2.405442e+05</td>\n",
       "      <td>6.765167e+05</td>\n",
       "      <td>2.470756e+05</td>\n",
       "      <td>1.441334e+05</td>\n",
       "      <td>1.441334e+05</td>\n",
       "      <td>1.441334e+05</td>\n",
       "      <td>7.614742e+05</td>\n",
       "      <td>7.614742e+05</td>\n",
       "      <td>7.614742e+05</td>\n",
       "    </tr>\n",
       "    <tr>\n",
       "      <th>min</th>\n",
       "      <td>21.000000</td>\n",
       "      <td>21.000000</td>\n",
       "      <td>6.000000</td>\n",
       "      <td>0.000000e+00</td>\n",
       "      <td>0.000000e+00</td>\n",
       "      <td>0.000000e+00</td>\n",
       "      <td>0.000000e+00</td>\n",
       "      <td>0.000000e+00</td>\n",
       "      <td>0.000000e+00</td>\n",
       "      <td>-2.255000e+03</td>\n",
       "      <td>...</td>\n",
       "      <td>0.000000e+00</td>\n",
       "      <td>0.000000e+00</td>\n",
       "      <td>0.000000e+00</td>\n",
       "      <td>-2.920000e+02</td>\n",
       "      <td>0.000000e+00</td>\n",
       "      <td>0.000000e+00</td>\n",
       "      <td>0.000000e+00</td>\n",
       "      <td>0.000000e+00</td>\n",
       "      <td>0.000000e+00</td>\n",
       "      <td>0.000000e+00</td>\n",
       "    </tr>\n",
       "    <tr>\n",
       "      <th>25%</th>\n",
       "      <td>15685.000000</td>\n",
       "      <td>137.000000</td>\n",
       "      <td>6.000000</td>\n",
       "      <td>1.112895e+05</td>\n",
       "      <td>1.068070e+02</td>\n",
       "      <td>4.874530e+00</td>\n",
       "      <td>9.861800e+03</td>\n",
       "      <td>0.000000e+00</td>\n",
       "      <td>3.542925e+04</td>\n",
       "      <td>1.900000e+01</td>\n",
       "      <td>...</td>\n",
       "      <td>0.000000e+00</td>\n",
       "      <td>0.000000e+00</td>\n",
       "      <td>0.000000e+00</td>\n",
       "      <td>0.000000e+00</td>\n",
       "      <td>0.000000e+00</td>\n",
       "      <td>0.000000e+00</td>\n",
       "      <td>0.000000e+00</td>\n",
       "      <td>0.000000e+00</td>\n",
       "      <td>0.000000e+00</td>\n",
       "      <td>0.000000e+00</td>\n",
       "    </tr>\n",
       "    <tr>\n",
       "      <th>50%</th>\n",
       "      <td>42400.500000</td>\n",
       "      <td>443.000000</td>\n",
       "      <td>17.000000</td>\n",
       "      <td>4.207900e+05</td>\n",
       "      <td>1.950917e+03</td>\n",
       "      <td>2.950236e+01</td>\n",
       "      <td>4.673320e+04</td>\n",
       "      <td>3.956463e+03</td>\n",
       "      <td>1.562140e+05</td>\n",
       "      <td>5.030000e+02</td>\n",
       "      <td>...</td>\n",
       "      <td>0.000000e+00</td>\n",
       "      <td>0.000000e+00</td>\n",
       "      <td>0.000000e+00</td>\n",
       "      <td>0.000000e+00</td>\n",
       "      <td>0.000000e+00</td>\n",
       "      <td>0.000000e+00</td>\n",
       "      <td>0.000000e+00</td>\n",
       "      <td>0.000000e+00</td>\n",
       "      <td>0.000000e+00</td>\n",
       "      <td>0.000000e+00</td>\n",
       "    </tr>\n",
       "    <tr>\n",
       "      <th>75%</th>\n",
       "      <td>54420.000000</td>\n",
       "      <td>19302.000000</td>\n",
       "      <td>17.000000</td>\n",
       "      <td>4.838806e+06</td>\n",
       "      <td>2.606058e+04</td>\n",
       "      <td>1.044057e+02</td>\n",
       "      <td>3.341669e+05</td>\n",
       "      <td>4.645039e+04</td>\n",
       "      <td>4.443960e+05</td>\n",
       "      <td>1.360875e+05</td>\n",
       "      <td>...</td>\n",
       "      <td>2.007479e+04</td>\n",
       "      <td>1.895921e+04</td>\n",
       "      <td>1.216472e+05</td>\n",
       "      <td>4.400000e+01</td>\n",
       "      <td>0.000000e+00</td>\n",
       "      <td>0.000000e+00</td>\n",
       "      <td>0.000000e+00</td>\n",
       "      <td>0.000000e+00</td>\n",
       "      <td>0.000000e+00</td>\n",
       "      <td>0.000000e+00</td>\n",
       "    </tr>\n",
       "    <tr>\n",
       "      <th>max</th>\n",
       "      <td>65534.000000</td>\n",
       "      <td>65514.000000</td>\n",
       "      <td>17.000000</td>\n",
       "      <td>5.000000e+06</td>\n",
       "      <td>6.000000e+08</td>\n",
       "      <td>3.000000e+06</td>\n",
       "      <td>5.000000e+06</td>\n",
       "      <td>3.535137e+06</td>\n",
       "      <td>5.000000e+06</td>\n",
       "      <td>5.000000e+06</td>\n",
       "      <td>...</td>\n",
       "      <td>4.998709e+06</td>\n",
       "      <td>3.510259e+06</td>\n",
       "      <td>4.998709e+06</td>\n",
       "      <td>4.998709e+06</td>\n",
       "      <td>2.447136e+06</td>\n",
       "      <td>2.447136e+06</td>\n",
       "      <td>2.447136e+06</td>\n",
       "      <td>5.000000e+06</td>\n",
       "      <td>5.000000e+06</td>\n",
       "      <td>5.000000e+06</td>\n",
       "    </tr>\n",
       "  </tbody>\n",
       "</table>\n",
       "<p>8 rows × 24 columns</p>\n",
       "</div>"
      ],
      "text/plain": [
       "        Source Port   Destination Port      Protocol   Flow Duration  \\\n",
       "count  75774.000000       75774.000000  75774.000000    7.577400e+04   \n",
       "mean   36532.521907       13177.342532     11.712236    1.978014e+06   \n",
       "std    21519.282571       19552.182719      5.495940    2.143870e+06   \n",
       "min       21.000000          21.000000      6.000000    0.000000e+00   \n",
       "25%    15685.000000         137.000000      6.000000    1.112895e+05   \n",
       "50%    42400.500000         443.000000     17.000000    4.207900e+05   \n",
       "75%    54420.000000       19302.000000     17.000000    4.838806e+06   \n",
       "max    65534.000000       65514.000000     17.000000    5.000000e+06   \n",
       "\n",
       "        Flow Bytes/s   Flow Packets/s   Flow IAT Mean   Flow IAT Std  \\\n",
       "count   7.577400e+04     7.577400e+04    7.577400e+04   7.577400e+04   \n",
       "mean    2.682878e+05     2.772251e+03    2.351684e+05   1.064205e+05   \n",
       "std     5.046474e+06     4.362493e+04    5.320558e+05   2.856581e+05   \n",
       "min     0.000000e+00     0.000000e+00    0.000000e+00   0.000000e+00   \n",
       "25%     1.068070e+02     4.874530e+00    9.861800e+03   0.000000e+00   \n",
       "50%     1.950917e+03     2.950236e+01    4.673320e+04   3.956463e+03   \n",
       "75%     2.606058e+04     1.044057e+02    3.341669e+05   4.645039e+04   \n",
       "max     6.000000e+08     3.000000e+06    5.000000e+06   3.535137e+06   \n",
       "\n",
       "        Flow IAT Max   Flow IAT Min  ...  Bwd IAT Mean   Bwd IAT Std  \\\n",
       "count   7.577400e+04   7.577400e+04  ...  7.577400e+04  7.577400e+04   \n",
       "mean    5.094632e+05   1.695085e+05  ...  8.379887e+04  6.905067e+04   \n",
       "std     8.620820e+05   5.030740e+05  ...  3.004874e+05  2.405442e+05   \n",
       "min     0.000000e+00  -2.255000e+03  ...  0.000000e+00  0.000000e+00   \n",
       "25%     3.542925e+04   1.900000e+01  ...  0.000000e+00  0.000000e+00   \n",
       "50%     1.562140e+05   5.030000e+02  ...  0.000000e+00  0.000000e+00   \n",
       "75%     4.443960e+05   1.360875e+05  ...  2.007479e+04  1.895921e+04   \n",
       "max     5.000000e+06   5.000000e+06  ...  4.998709e+06  3.510259e+06   \n",
       "\n",
       "        Bwd IAT Max   Bwd IAT Min   Active Mean    Active Max    Active Min  \\\n",
       "count  7.577400e+04  7.577400e+04  7.577400e+04  7.577400e+04  7.577400e+04   \n",
       "mean   2.699219e+05  3.764953e+04  1.886616e+04  1.886616e+04  1.886616e+04   \n",
       "std    6.765167e+05  2.470756e+05  1.441334e+05  1.441334e+05  1.441334e+05   \n",
       "min    0.000000e+00 -2.920000e+02  0.000000e+00  0.000000e+00  0.000000e+00   \n",
       "25%    0.000000e+00  0.000000e+00  0.000000e+00  0.000000e+00  0.000000e+00   \n",
       "50%    0.000000e+00  0.000000e+00  0.000000e+00  0.000000e+00  0.000000e+00   \n",
       "75%    1.216472e+05  4.400000e+01  0.000000e+00  0.000000e+00  0.000000e+00   \n",
       "max    4.998709e+06  4.998709e+06  2.447136e+06  2.447136e+06  2.447136e+06   \n",
       "\n",
       "          Idle Mean      Idle Max      Idle Min  \n",
       "count  7.577400e+04  7.577400e+04  7.577400e+04  \n",
       "mean   1.589255e+05  1.589255e+05  1.589255e+05  \n",
       "std    7.614742e+05  7.614742e+05  7.614742e+05  \n",
       "min    0.000000e+00  0.000000e+00  0.000000e+00  \n",
       "25%    0.000000e+00  0.000000e+00  0.000000e+00  \n",
       "50%    0.000000e+00  0.000000e+00  0.000000e+00  \n",
       "75%    0.000000e+00  0.000000e+00  0.000000e+00  \n",
       "max    5.000000e+06  5.000000e+06  5.000000e+06  \n",
       "\n",
       "[8 rows x 24 columns]"
      ]
     },
     "execution_count": 62,
     "metadata": {},
     "output_type": "execute_result"
    }
   ],
   "source": [
    "traindata2.describe()"
   ]
  },
  {
   "cell_type": "code",
   "execution_count": 63,
   "metadata": {},
   "outputs": [],
   "source": [
    "## Define a model\n",
    "tormodel2 = Sequential()\n",
    "tormodel2.add(Dense(24, input_dim=TorX.shape[1], activation='relu'))\n",
    "tormodel2.add(Dense(TorX.shape[1], activation='relu'))\n",
    "tormodel2.add(Dense(1, activation='sigmoid'))\n",
    "tormodel2.compile(loss='binary_crossentropy', optimizer='adam', metrics=['accuracy'])"
   ]
  },
  {
   "cell_type": "code",
   "execution_count": 64,
   "metadata": {},
   "outputs": [
    {
     "name": "stdout",
     "output_type": "stream",
     "text": [
      "758/758 [==============================] - 5s 6ms/step - loss: 7693.2646 - accuracy: 0.8078\n"
     ]
    },
    {
     "data": {
      "text/plain": [
       "<keras.src.callbacks.History at 0x29c42b880>"
      ]
     },
     "execution_count": 64,
     "metadata": {},
     "output_type": "execute_result"
    }
   ],
   "source": [
    "tormodel2.fit(TorX2, TorY, epochs=1, batch_size=100)"
   ]
  },
  {
   "cell_type": "markdown",
   "metadata": {},
   "source": [
    "The nan loss is fixed. We didn't run it long enough to expect a good answer."
   ]
  },
  {
   "cell_type": "markdown",
   "metadata": {},
   "source": [
    "### 4.3.2 Best practice data processing for the TOR data\n",
    "\n",
    "The above process is ad-hoc and does not treat columns equally. It is better practice to properly scale the data for input.\n",
    "\n",
    "Here we define a pre-processing pipeline where we threshold the data. Note that we keep the scaling that was run on the training data for proper scaling of the test data!"
   ]
  },
  {
   "cell_type": "code",
   "execution_count": 71,
   "metadata": {},
   "outputs": [],
   "source": [
    "## This section defines a preprocessing function that should ensure that data can be used on a GPU. \n",
    "## Note that in practice, the data may be multiplied by some other number meaning that all \"large\"\n",
    "## values can produce NaN values!\n",
    "\n",
    "from sklearn import preprocessing\n",
    "## Extract the feature data\n",
    "from sklearn.preprocessing import StandardScaler\n",
    "\n",
    "def mypreprocess(data,scaling=None):\n",
    "    data=data.astype(float)\n",
    "    data[np.where(data >= np.finfo(np.float32).max)] = np.finfo(np.float32).max\n",
    "    data[np.where(data <= np.finfo(np.float32).min)] = np.finfo(np.float32).min\n",
    "    np.nan_to_num(data)\n",
    "    if(scaling == None):\n",
    "        scaling = StandardScaler()\n",
    "        datat=scaling.fit_transform(data)\n",
    "    else:\n",
    "        datat=scaling.transform(data)\n",
    "    datat[np.where(datat > 10)]=10\n",
    "    datat[np.where(datat < -10)]=-10\n",
    "    return(datat,scaling)"
   ]
  },
  {
   "cell_type": "markdown",
   "metadata": {},
   "source": [
    "Now we apply the transformation to the training and test data:"
   ]
  },
  {
   "cell_type": "code",
   "execution_count": 72,
   "metadata": {},
   "outputs": [],
   "source": [
    "traindata=traindata.fillna(0)\n",
    "## Scale the training data\n",
    "TorXscaled, scaling = mypreprocess(traindata.values)\n",
    "TorY,TorYnames=myextractY(mydata.values[:,mydata.shape[1]-1])"
   ]
  },
  {
   "cell_type": "code",
   "execution_count": 73,
   "metadata": {},
   "outputs": [],
   "source": [
    "testdata=testdata.fillna(0)\n",
    "## Scale the test data\n",
    "testTorXscaled, testscaling = mypreprocess(testdata.values,scaling)\n",
    "testTorY,testTorYnames=myextractY(testdata.values[:,testdata.shape[1]-1])"
   ]
  },
  {
   "cell_type": "code",
   "execution_count": 74,
   "metadata": {},
   "outputs": [
    {
     "name": "stdout",
     "output_type": "stream",
     "text": [
      "[0. 0. 0. 0. 0. 0. 0. 0. 0. 0. 0. 0. 0. 0. 0. 0. 0. 0. 0. 0. 0. 0. 0. 0.]\n"
     ]
    }
   ],
   "source": [
    "## Check that we are scaling identically in both datasets\n",
    "print(testscaling.mean_ - scaling.mean_)"
   ]
  },
  {
   "cell_type": "code",
   "execution_count": 75,
   "metadata": {},
   "outputs": [
    {
     "data": {
      "text/plain": [
       "0     1.347706\n",
       "1     2.676786\n",
       "2     0.962128\n",
       "3     1.409603\n",
       "4    10.000000\n",
       "dtype: float64"
      ]
     },
     "execution_count": 75,
     "metadata": {},
     "output_type": "execute_result"
    }
   ],
   "source": [
    "pd.DataFrame(TorXscaled).max().head()"
   ]
  },
  {
   "cell_type": "code",
   "execution_count": 76,
   "metadata": {},
   "outputs": [],
   "source": [
    "## Some checks you might choose to do\n",
    "#np.where(TorX <= -np.finfo(np.float32).max)\n",
    "#np.isnan(TorXscaled.any())"
   ]
  },
  {
   "cell_type": "markdown",
   "metadata": {},
   "source": [
    "### 4.3.3 Running the NN TOR model model\n",
    "\n",
    "Here we run the model on the rescaled data.\n",
    "\n",
    "Once you have this working, try setting batch_size to different values, adding new layers, and changing the number of nodes in the first layer, changing the optimizer, etc.\n"
   ]
  },
  {
   "cell_type": "code",
   "execution_count": 77,
   "metadata": {},
   "outputs": [],
   "source": [
    "scaledtormodel = Sequential()\n",
    "scaledtormodel.add(Dense(24, input_dim=TorXscaled.shape[1], activation='relu'))\n",
    "scaledtormodel.add(Dense(TorXscaled.shape[1], activation='relu'))\n",
    "scaledtormodel.add(Dense(1, activation='sigmoid'))\n",
    "scaledtormodel.compile(loss='binary_crossentropy', optimizer='adam', metrics=['accuracy'])"
   ]
  },
  {
   "cell_type": "code",
   "execution_count": 78,
   "metadata": {},
   "outputs": [
    {
     "name": "stdout",
     "output_type": "stream",
     "text": [
      "Epoch 1/25\n",
      "758/758 [==============================] - 4s 5ms/step - loss: 0.2814 - accuracy: 0.8821\n",
      "Epoch 2/25\n",
      "758/758 [==============================] - 4s 5ms/step - loss: 0.2079 - accuracy: 0.9159\n",
      "Epoch 3/25\n",
      "758/758 [==============================] - 4s 5ms/step - loss: 0.2126 - accuracy: 0.9170\n",
      "Epoch 4/25\n",
      "758/758 [==============================] - 4s 5ms/step - loss: 0.2192 - accuracy: 0.9175\n",
      "Epoch 5/25\n",
      "758/758 [==============================] - 4s 5ms/step - loss: 0.2411 - accuracy: 0.9155\n",
      "Epoch 6/25\n",
      "758/758 [==============================] - 4s 5ms/step - loss: 0.2576 - accuracy: 0.9130\n",
      "Epoch 7/25\n",
      "758/758 [==============================] - 4s 5ms/step - loss: 0.2751 - accuracy: 0.9108\n",
      "Epoch 8/25\n",
      "758/758 [==============================] - 4s 5ms/step - loss: 0.2929 - accuracy: 0.9089\n",
      "Epoch 9/25\n",
      "758/758 [==============================] - 4s 5ms/step - loss: 0.3235 - accuracy: 0.9032\n",
      "Epoch 10/25\n",
      "758/758 [==============================] - 4s 5ms/step - loss: 0.3444 - accuracy: 0.9005\n",
      "Epoch 11/25\n",
      "758/758 [==============================] - 4s 5ms/step - loss: 0.3560 - accuracy: 0.9014\n",
      "Epoch 12/25\n",
      "758/758 [==============================] - 4s 5ms/step - loss: 0.3939 - accuracy: 0.8977\n",
      "Epoch 13/25\n",
      "758/758 [==============================] - 4s 5ms/step - loss: 0.3828 - accuracy: 0.8979\n",
      "Epoch 14/25\n",
      "758/758 [==============================] - 4s 5ms/step - loss: 0.4562 - accuracy: 0.8909\n",
      "Epoch 15/25\n",
      "758/758 [==============================] - 4s 5ms/step - loss: 0.4508 - accuracy: 0.8944\n",
      "Epoch 16/25\n",
      "758/758 [==============================] - 4s 5ms/step - loss: 0.4505 - accuracy: 0.8926\n",
      "Epoch 17/25\n",
      "758/758 [==============================] - 4s 5ms/step - loss: 0.4499 - accuracy: 0.8951\n",
      "Epoch 18/25\n",
      "758/758 [==============================] - 4s 5ms/step - loss: 0.4946 - accuracy: 0.8932\n",
      "Epoch 19/25\n",
      "758/758 [==============================] - 4s 5ms/step - loss: 0.5669 - accuracy: 0.8872\n",
      "Epoch 20/25\n",
      "758/758 [==============================] - 4s 5ms/step - loss: 0.5324 - accuracy: 0.8915\n",
      "Epoch 21/25\n",
      "758/758 [==============================] - 4s 5ms/step - loss: 0.6736 - accuracy: 0.8847\n",
      "Epoch 22/25\n",
      "758/758 [==============================] - 4s 5ms/step - loss: 0.5386 - accuracy: 0.8933\n",
      "Epoch 23/25\n",
      "758/758 [==============================] - 4s 5ms/step - loss: 0.6270 - accuracy: 0.8868\n",
      "Epoch 24/25\n",
      "758/758 [==============================] - 4s 5ms/step - loss: 0.7077 - accuracy: 0.8825\n",
      "Epoch 25/25\n",
      "758/758 [==============================] - 4s 5ms/step - loss: 0.7277 - accuracy: 0.8853\n"
     ]
    },
    {
     "data": {
      "text/plain": [
       "<keras.src.callbacks.History at 0x32d2c2ce0>"
      ]
     },
     "execution_count": 78,
     "metadata": {},
     "output_type": "execute_result"
    }
   ],
   "source": [
    "scaledtormodel.fit(TorXscaled, TorY, epochs=25, batch_size=100)"
   ]
  },
  {
   "cell_type": "code",
   "execution_count": 79,
   "metadata": {},
   "outputs": [
    {
     "name": "stdout",
     "output_type": "stream",
     "text": [
      "2368/2368 [==============================] - 8s 3ms/step - loss: 0.9884 - accuracy: 0.8321\n",
      "\n",
      "accuracy: 83.21%\n"
     ]
    }
   ],
   "source": [
    "# evaluate the model\n",
    "scaledtorscores = scaledtormodel.evaluate(TorXscaled, TorY)\n",
    "print(\"\\n%s: %.2f%%\" % (scaledtormodel.metrics_names[1], scaledtorscores[1]*100))"
   ]
  },
  {
   "cell_type": "code",
   "execution_count": 80,
   "metadata": {},
   "outputs": [
    {
     "name": "stdout",
     "output_type": "stream",
     "text": [
      "264/264 [==============================] - 1s 4ms/step - loss: -73.8062 - accuracy: 0.8190\n",
      "\n",
      "accuracy: 81.90%\n"
     ]
    }
   ],
   "source": [
    "# evaluate the model\n",
    "testscaledtorscores = scaledtormodel.evaluate(testTorXscaled, testTorY)\n",
    "print(\"\\n%s: %.2f%%\" % (scaledtormodel.metrics_names[1], testscaledtorscores[1]*100))"
   ]
  },
  {
   "cell_type": "markdown",
   "metadata": {},
   "source": [
    "### QUESTION: What is going on here?\n",
    "\n",
    "Can you improve performance by changing:\n",
    "\n",
    "* layer type\n",
    "* Learning procedure\n",
    "* Inference duration\n",
    "* Number of layers\n",
    "* Number of nodes in each layer\n",
    "* Data pre-processing?"
   ]
  },
  {
   "cell_type": "code",
   "execution_count": 81,
   "metadata": {},
   "outputs": [],
   "source": [
    "scaledtormodel = Sequential()\n",
    "scaledtormodel.add(Dense(24, input_dim=TorXscaled.shape[1], activation='relu'))\n",
    "scaledtormodel.add(Dense(TorXscaled.shape[1], activation='relu'))\n",
    "scaledtormodel.add(Dense(1, activation='sigmoid'))\n",
    "scaledtormodel.compile(loss='binary_crossentropy', optimizer='adam', metrics=['accuracy'])"
   ]
  },
  {
   "cell_type": "code",
   "execution_count": 82,
   "metadata": {},
   "outputs": [
    {
     "name": "stdout",
     "output_type": "stream",
     "text": [
      "epoch : 0\n",
      "Epoch 1/5\n",
      "758/758 [==============================] - 4s 5ms/step - loss: 0.2840 - accuracy: 0.8987\n",
      "Epoch 2/5\n",
      "758/758 [==============================] - 4s 5ms/step - loss: 0.2143 - accuracy: 0.9173\n",
      "Epoch 3/5\n",
      "758/758 [==============================] - 4s 5ms/step - loss: 0.2253 - accuracy: 0.9168\n",
      "Epoch 4/5\n",
      "758/758 [==============================] - 4s 5ms/step - loss: 0.2346 - accuracy: 0.9171\n",
      "Epoch 5/5\n",
      "758/758 [==============================] - 4s 5ms/step - loss: 0.2619 - accuracy: 0.9134\n",
      "2368/2368 [==============================] - 8s 3ms/step - loss: 0.3891 - accuracy: 0.9251\n",
      "264/264 [==============================] - 1s 3ms/step - loss: 158.4702 - accuracy: 0.8165\n",
      "epoch : 5\n",
      "Epoch 1/5\n",
      "758/758 [==============================] - 4s 5ms/step - loss: 0.2904 - accuracy: 0.9102\n",
      "Epoch 2/5\n",
      "758/758 [==============================] - 4s 5ms/step - loss: 0.2966 - accuracy: 0.9092\n",
      "Epoch 3/5\n",
      "758/758 [==============================] - 4s 5ms/step - loss: 0.3307 - accuracy: 0.9079\n",
      "Epoch 4/5\n",
      "758/758 [==============================] - 4s 5ms/step - loss: 0.3645 - accuracy: 0.9029\n",
      "Epoch 5/5\n",
      "758/758 [==============================] - 4s 5ms/step - loss: 0.4503 - accuracy: 0.8958\n",
      "2368/2368 [==============================] - 8s 3ms/step - loss: 0.3122 - accuracy: 0.9254\n",
      "264/264 [==============================] - 1s 3ms/step - loss: 150.9296 - accuracy: 0.8008\n",
      "epoch : 10\n",
      "Epoch 1/5\n",
      "758/758 [==============================] - 4s 5ms/step - loss: 0.4108 - accuracy: 0.8999\n",
      "Epoch 2/5\n",
      "758/758 [==============================] - 4s 5ms/step - loss: 0.4199 - accuracy: 0.9014\n",
      "Epoch 3/5\n",
      "758/758 [==============================] - 4s 5ms/step - loss: 0.4533 - accuracy: 0.8967\n",
      "Epoch 4/5\n",
      "758/758 [==============================] - 4s 5ms/step - loss: 0.5900 - accuracy: 0.8878\n",
      "Epoch 5/5\n",
      "758/758 [==============================] - 4s 5ms/step - loss: 0.5264 - accuracy: 0.8949\n",
      "2368/2368 [==============================] - 8s 3ms/step - loss: 0.3599 - accuracy: 0.8975\n",
      "264/264 [==============================] - 1s 3ms/step - loss: 25.7421 - accuracy: 0.7615\n",
      "epoch : 15\n",
      "Epoch 1/5\n",
      "758/758 [==============================] - 4s 5ms/step - loss: 0.5536 - accuracy: 0.8945\n",
      "Epoch 2/5\n",
      "758/758 [==============================] - 4s 5ms/step - loss: 0.5604 - accuracy: 0.8912\n",
      "Epoch 3/5\n",
      "758/758 [==============================] - 4s 5ms/step - loss: 0.7196 - accuracy: 0.8834\n",
      "Epoch 4/5\n",
      "758/758 [==============================] - 4s 5ms/step - loss: 0.5930 - accuracy: 0.8945\n",
      "Epoch 5/5\n",
      "758/758 [==============================] - 4s 5ms/step - loss: 0.6680 - accuracy: 0.8863\n",
      "2368/2368 [==============================] - 8s 3ms/step - loss: 2.2315 - accuracy: 0.7631\n",
      "264/264 [==============================] - 1s 4ms/step - loss: -249.3315 - accuracy: 0.8704\n",
      "epoch : 20\n",
      "Epoch 1/5\n",
      "758/758 [==============================] - 4s 6ms/step - loss: 0.7168 - accuracy: 0.8884\n",
      "Epoch 2/5\n",
      "758/758 [==============================] - 4s 5ms/step - loss: 0.8395 - accuracy: 0.8810\n",
      "Epoch 3/5\n",
      "758/758 [==============================] - 4s 5ms/step - loss: 0.7470 - accuracy: 0.8907\n",
      "Epoch 4/5\n",
      "758/758 [==============================] - 4s 5ms/step - loss: 0.8586 - accuracy: 0.8839\n",
      "Epoch 5/5\n",
      "758/758 [==============================] - 4s 5ms/step - loss: 0.9897 - accuracy: 0.8779\n",
      "2368/2368 [==============================] - 8s 3ms/step - loss: 1.2122 - accuracy: 0.8631\n",
      "264/264 [==============================] - 1s 3ms/step - loss: -71.1082 - accuracy: 0.7605\n"
     ]
    }
   ],
   "source": [
    "epochs=list()\n",
    "trainacc=list()\n",
    "testacc=list()\n",
    "deltaepochs=5\n",
    "eon=0\n",
    "for i in range(0,5) : \n",
    "        print(\"epoch : \" + str(eon))\n",
    "        scaledtormodel.fit(TorXscaled, TorY, epochs=deltaepochs, batch_size=100)\n",
    "        scaledtorscores = scaledtormodel.evaluate(TorXscaled, TorY)\n",
    "        testscaledtorscores = scaledtormodel.evaluate(testTorXscaled, testTorY)\n",
    "        eon+=deltaepochs\n",
    "        epochs.append(eon)\n",
    "        trainacc.append(scaledtorscores[1])\n",
    "        testacc.append(testscaledtorscores[1])"
   ]
  },
  {
   "cell_type": "code",
   "execution_count": 83,
   "metadata": {},
   "outputs": [],
   "source": [
    "results=[epochs,\n",
    "        trainacc,\n",
    "        testacc]"
   ]
  },
  {
   "cell_type": "code",
   "execution_count": 84,
   "metadata": {},
   "outputs": [],
   "source": [
    "import matplotlib.pyplot as plt\n",
    "%matplotlib inline"
   ]
  },
  {
   "cell_type": "code",
   "execution_count": 85,
   "metadata": {},
   "outputs": [
    {
     "data": {
      "image/png": "[encoded data removed]",
      "text/plain": [
       "<Figure size 640x480 with 1 Axes>"
      ]
     },
     "metadata": {},
     "output_type": "display_data"
    }
   ],
   "source": [
    "plt.plot(epochs,trainacc,label='training accuracy')\n",
    "plt.plot(epochs,testacc,label='training accuracy')\n",
    "plt.show()"
   ]
  },
  {
   "cell_type": "code",
   "execution_count": null,
   "metadata": {},
   "outputs": [],
   "source": []
  }
 ],
 "metadata": {
  "kernelspec": {
   "display_name": "Python 3 (ipykernel)",
   "language": "python",
   "name": "python3"
  },
  "language_info": {
   "codemirror_mode": {
    "name": "ipython",
    "version": 3
   },
   "file_extension": ".py",
   "mimetype": "text/x-python",
   "name": "python",
   "nbconvert_exporter": "python",
   "pygments_lexer": "ipython3",
   "version": "3.10.6"
  }
 },
 "nbformat": 4,
 "nbformat_minor": 1
}
